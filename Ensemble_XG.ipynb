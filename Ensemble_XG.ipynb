{
  "nbformat": 4,
  "nbformat_minor": 0,
  "metadata": {
    "colab": {
      "name": "Ensemble_XG.ipynb",
      "provenance": [],
      "authorship_tag": "ABX9TyPXA9vbNVRiFXBjJddjT7dG",
      "include_colab_link": true
    },
    "kernelspec": {
      "name": "python3",
      "display_name": "Python 3"
    },
    "language_info": {
      "name": "python"
    }
  },
  "cells": [
    {
      "cell_type": "markdown",
      "metadata": {
        "id": "view-in-github",
        "colab_type": "text"
      },
      "source": [
        "<a href=\"https://colab.research.google.com/github/rajuzumaki2207/Classification_Problems/blob/main/Ensemble_XG.ipynb\" target=\"_parent\"><img src=\"https://colab.research.google.com/assets/colab-badge.svg\" alt=\"Open In Colab\"/></a>"
      ]
    },
    {
      "cell_type": "code",
      "execution_count": 1,
      "metadata": {
        "id": "DARum81-9o3h"
      },
      "outputs": [],
      "source": [
        "import numpy as np\n",
        "import pandas as pd\n",
        "import xgboost as xgb"
      ]
    },
    {
      "cell_type": "code",
      "source": [
        "from sklearn.ensemble import RandomForestClassifier\n",
        "from sklearn.metrics import accuracy_score"
      ],
      "metadata": {
        "id": "b240miShL3Y6"
      },
      "execution_count": 2,
      "outputs": []
    },
    {
      "cell_type": "code",
      "source": [
        "from google.colab import drive\n",
        "drive.mount('/content/drive')"
      ],
      "metadata": {
        "id": "8EBUUDfGR6x2",
        "colab": {
          "base_uri": "https://localhost:8080/"
        },
        "outputId": "1114c1ba-e49f-40bd-ced9-cad18cd3c05b"
      },
      "execution_count": 3,
      "outputs": [
        {
          "output_type": "stream",
          "name": "stdout",
          "text": [
            "Mounted at /content/drive\n"
          ]
        }
      ]
    },
    {
      "cell_type": "markdown",
      "source": [
        "## Context\n",
        "\"Predict behavior to retain customers. You can analyze all relevant customer data and develop focused customer retention programs.\" [IBM Sample Data Sets]\n",
        "\n",
        "Content\n",
        "Each row represents a customer, each column contains customer’s attributes described on the column Metadata.\n",
        "\n",
        "The data set includes information about:\n",
        "\n",
        "Customers who left within the last month – the column is called Churn\n",
        "Services that each customer has signed up for – phone, multiple lines, internet, online security, online backup, device protection, tech support, and streaming TV and movies\n",
        "Customer account information – how long they’ve been a customer, contract, payment method, paperless billing, monthly charges, and total charges\n",
        "Demographic info about customers – gender, age range, and if they have partners and dependents\n",
        "Inspiration\n",
        "To explore this type of models and learn more about the subject.\n",
        "\n",
        "\n",
        "**The “Churn” column is our target.**\n",
        "\n",
        "\n",
        "\n",
        "New version from IBM:\n",
        "https://community.ibm.com/community/user/businessanalytics/blogs/steven-macko/2019/07/11/telco-customer-churn-1113"
      ],
      "metadata": {
        "id": "vjJ2fP8ftwJ9"
      }
    },
    {
      "cell_type": "code",
      "source": [
        "## Read the data set\n",
        "path = \"/content/drive/MyDrive/ML/Projects/WA_Fn-UseC_-Telco-Customer-Churn.csv\"\n",
        "df =pd.read_csv(path)"
      ],
      "metadata": {
        "id": "8K9Bsus5tLuH"
      },
      "execution_count": 4,
      "outputs": []
    },
    {
      "cell_type": "code",
      "source": [
        "df.head()"
      ],
      "metadata": {
        "colab": {
          "base_uri": "https://localhost:8080/",
          "height": 386
        },
        "id": "wiQWuhwMtfhY",
        "outputId": "516c943d-9a2a-4dd8-a3d3-43e3d07cd42d"
      },
      "execution_count": 5,
      "outputs": [
        {
          "output_type": "execute_result",
          "data": {
            "text/plain": [
              "   customerID  gender  SeniorCitizen Partner Dependents  tenure PhoneService  \\\n",
              "0  7590-VHVEG  Female              0     Yes         No       1           No   \n",
              "1  5575-GNVDE    Male              0      No         No      34          Yes   \n",
              "2  3668-QPYBK    Male              0      No         No       2          Yes   \n",
              "3  7795-CFOCW    Male              0      No         No      45           No   \n",
              "4  9237-HQITU  Female              0      No         No       2          Yes   \n",
              "\n",
              "      MultipleLines InternetService OnlineSecurity  ... DeviceProtection  \\\n",
              "0  No phone service             DSL             No  ...               No   \n",
              "1                No             DSL            Yes  ...              Yes   \n",
              "2                No             DSL            Yes  ...               No   \n",
              "3  No phone service             DSL            Yes  ...              Yes   \n",
              "4                No     Fiber optic             No  ...               No   \n",
              "\n",
              "  TechSupport StreamingTV StreamingMovies        Contract PaperlessBilling  \\\n",
              "0          No          No              No  Month-to-month              Yes   \n",
              "1          No          No              No        One year               No   \n",
              "2          No          No              No  Month-to-month              Yes   \n",
              "3         Yes          No              No        One year               No   \n",
              "4          No          No              No  Month-to-month              Yes   \n",
              "\n",
              "               PaymentMethod MonthlyCharges  TotalCharges Churn  \n",
              "0           Electronic check          29.85         29.85    No  \n",
              "1               Mailed check          56.95        1889.5    No  \n",
              "2               Mailed check          53.85        108.15   Yes  \n",
              "3  Bank transfer (automatic)          42.30       1840.75    No  \n",
              "4           Electronic check          70.70        151.65   Yes  \n",
              "\n",
              "[5 rows x 21 columns]"
            ],
            "text/html": [
              "\n",
              "  <div id=\"df-9094d4f2-bcce-4668-be9d-a9569ed60f10\">\n",
              "    <div class=\"colab-df-container\">\n",
              "      <div>\n",
              "<style scoped>\n",
              "    .dataframe tbody tr th:only-of-type {\n",
              "        vertical-align: middle;\n",
              "    }\n",
              "\n",
              "    .dataframe tbody tr th {\n",
              "        vertical-align: top;\n",
              "    }\n",
              "\n",
              "    .dataframe thead th {\n",
              "        text-align: right;\n",
              "    }\n",
              "</style>\n",
              "<table border=\"1\" class=\"dataframe\">\n",
              "  <thead>\n",
              "    <tr style=\"text-align: right;\">\n",
              "      <th></th>\n",
              "      <th>customerID</th>\n",
              "      <th>gender</th>\n",
              "      <th>SeniorCitizen</th>\n",
              "      <th>Partner</th>\n",
              "      <th>Dependents</th>\n",
              "      <th>tenure</th>\n",
              "      <th>PhoneService</th>\n",
              "      <th>MultipleLines</th>\n",
              "      <th>InternetService</th>\n",
              "      <th>OnlineSecurity</th>\n",
              "      <th>...</th>\n",
              "      <th>DeviceProtection</th>\n",
              "      <th>TechSupport</th>\n",
              "      <th>StreamingTV</th>\n",
              "      <th>StreamingMovies</th>\n",
              "      <th>Contract</th>\n",
              "      <th>PaperlessBilling</th>\n",
              "      <th>PaymentMethod</th>\n",
              "      <th>MonthlyCharges</th>\n",
              "      <th>TotalCharges</th>\n",
              "      <th>Churn</th>\n",
              "    </tr>\n",
              "  </thead>\n",
              "  <tbody>\n",
              "    <tr>\n",
              "      <th>0</th>\n",
              "      <td>7590-VHVEG</td>\n",
              "      <td>Female</td>\n",
              "      <td>0</td>\n",
              "      <td>Yes</td>\n",
              "      <td>No</td>\n",
              "      <td>1</td>\n",
              "      <td>No</td>\n",
              "      <td>No phone service</td>\n",
              "      <td>DSL</td>\n",
              "      <td>No</td>\n",
              "      <td>...</td>\n",
              "      <td>No</td>\n",
              "      <td>No</td>\n",
              "      <td>No</td>\n",
              "      <td>No</td>\n",
              "      <td>Month-to-month</td>\n",
              "      <td>Yes</td>\n",
              "      <td>Electronic check</td>\n",
              "      <td>29.85</td>\n",
              "      <td>29.85</td>\n",
              "      <td>No</td>\n",
              "    </tr>\n",
              "    <tr>\n",
              "      <th>1</th>\n",
              "      <td>5575-GNVDE</td>\n",
              "      <td>Male</td>\n",
              "      <td>0</td>\n",
              "      <td>No</td>\n",
              "      <td>No</td>\n",
              "      <td>34</td>\n",
              "      <td>Yes</td>\n",
              "      <td>No</td>\n",
              "      <td>DSL</td>\n",
              "      <td>Yes</td>\n",
              "      <td>...</td>\n",
              "      <td>Yes</td>\n",
              "      <td>No</td>\n",
              "      <td>No</td>\n",
              "      <td>No</td>\n",
              "      <td>One year</td>\n",
              "      <td>No</td>\n",
              "      <td>Mailed check</td>\n",
              "      <td>56.95</td>\n",
              "      <td>1889.5</td>\n",
              "      <td>No</td>\n",
              "    </tr>\n",
              "    <tr>\n",
              "      <th>2</th>\n",
              "      <td>3668-QPYBK</td>\n",
              "      <td>Male</td>\n",
              "      <td>0</td>\n",
              "      <td>No</td>\n",
              "      <td>No</td>\n",
              "      <td>2</td>\n",
              "      <td>Yes</td>\n",
              "      <td>No</td>\n",
              "      <td>DSL</td>\n",
              "      <td>Yes</td>\n",
              "      <td>...</td>\n",
              "      <td>No</td>\n",
              "      <td>No</td>\n",
              "      <td>No</td>\n",
              "      <td>No</td>\n",
              "      <td>Month-to-month</td>\n",
              "      <td>Yes</td>\n",
              "      <td>Mailed check</td>\n",
              "      <td>53.85</td>\n",
              "      <td>108.15</td>\n",
              "      <td>Yes</td>\n",
              "    </tr>\n",
              "    <tr>\n",
              "      <th>3</th>\n",
              "      <td>7795-CFOCW</td>\n",
              "      <td>Male</td>\n",
              "      <td>0</td>\n",
              "      <td>No</td>\n",
              "      <td>No</td>\n",
              "      <td>45</td>\n",
              "      <td>No</td>\n",
              "      <td>No phone service</td>\n",
              "      <td>DSL</td>\n",
              "      <td>Yes</td>\n",
              "      <td>...</td>\n",
              "      <td>Yes</td>\n",
              "      <td>Yes</td>\n",
              "      <td>No</td>\n",
              "      <td>No</td>\n",
              "      <td>One year</td>\n",
              "      <td>No</td>\n",
              "      <td>Bank transfer (automatic)</td>\n",
              "      <td>42.30</td>\n",
              "      <td>1840.75</td>\n",
              "      <td>No</td>\n",
              "    </tr>\n",
              "    <tr>\n",
              "      <th>4</th>\n",
              "      <td>9237-HQITU</td>\n",
              "      <td>Female</td>\n",
              "      <td>0</td>\n",
              "      <td>No</td>\n",
              "      <td>No</td>\n",
              "      <td>2</td>\n",
              "      <td>Yes</td>\n",
              "      <td>No</td>\n",
              "      <td>Fiber optic</td>\n",
              "      <td>No</td>\n",
              "      <td>...</td>\n",
              "      <td>No</td>\n",
              "      <td>No</td>\n",
              "      <td>No</td>\n",
              "      <td>No</td>\n",
              "      <td>Month-to-month</td>\n",
              "      <td>Yes</td>\n",
              "      <td>Electronic check</td>\n",
              "      <td>70.70</td>\n",
              "      <td>151.65</td>\n",
              "      <td>Yes</td>\n",
              "    </tr>\n",
              "  </tbody>\n",
              "</table>\n",
              "<p>5 rows × 21 columns</p>\n",
              "</div>\n",
              "      <button class=\"colab-df-convert\" onclick=\"convertToInteractive('df-9094d4f2-bcce-4668-be9d-a9569ed60f10')\"\n",
              "              title=\"Convert this dataframe to an interactive table.\"\n",
              "              style=\"display:none;\">\n",
              "        \n",
              "  <svg xmlns=\"http://www.w3.org/2000/svg\" height=\"24px\"viewBox=\"0 0 24 24\"\n",
              "       width=\"24px\">\n",
              "    <path d=\"M0 0h24v24H0V0z\" fill=\"none\"/>\n",
              "    <path d=\"M18.56 5.44l.94 2.06.94-2.06 2.06-.94-2.06-.94-.94-2.06-.94 2.06-2.06.94zm-11 1L8.5 8.5l.94-2.06 2.06-.94-2.06-.94L8.5 2.5l-.94 2.06-2.06.94zm10 10l.94 2.06.94-2.06 2.06-.94-2.06-.94-.94-2.06-.94 2.06-2.06.94z\"/><path d=\"M17.41 7.96l-1.37-1.37c-.4-.4-.92-.59-1.43-.59-.52 0-1.04.2-1.43.59L10.3 9.45l-7.72 7.72c-.78.78-.78 2.05 0 2.83L4 21.41c.39.39.9.59 1.41.59.51 0 1.02-.2 1.41-.59l7.78-7.78 2.81-2.81c.8-.78.8-2.07 0-2.86zM5.41 20L4 18.59l7.72-7.72 1.47 1.35L5.41 20z\"/>\n",
              "  </svg>\n",
              "      </button>\n",
              "      \n",
              "  <style>\n",
              "    .colab-df-container {\n",
              "      display:flex;\n",
              "      flex-wrap:wrap;\n",
              "      gap: 12px;\n",
              "    }\n",
              "\n",
              "    .colab-df-convert {\n",
              "      background-color: #E8F0FE;\n",
              "      border: none;\n",
              "      border-radius: 50%;\n",
              "      cursor: pointer;\n",
              "      display: none;\n",
              "      fill: #1967D2;\n",
              "      height: 32px;\n",
              "      padding: 0 0 0 0;\n",
              "      width: 32px;\n",
              "    }\n",
              "\n",
              "    .colab-df-convert:hover {\n",
              "      background-color: #E2EBFA;\n",
              "      box-shadow: 0px 1px 2px rgba(60, 64, 67, 0.3), 0px 1px 3px 1px rgba(60, 64, 67, 0.15);\n",
              "      fill: #174EA6;\n",
              "    }\n",
              "\n",
              "    [theme=dark] .colab-df-convert {\n",
              "      background-color: #3B4455;\n",
              "      fill: #D2E3FC;\n",
              "    }\n",
              "\n",
              "    [theme=dark] .colab-df-convert:hover {\n",
              "      background-color: #434B5C;\n",
              "      box-shadow: 0px 1px 3px 1px rgba(0, 0, 0, 0.15);\n",
              "      filter: drop-shadow(0px 1px 2px rgba(0, 0, 0, 0.3));\n",
              "      fill: #FFFFFF;\n",
              "    }\n",
              "  </style>\n",
              "\n",
              "      <script>\n",
              "        const buttonEl =\n",
              "          document.querySelector('#df-9094d4f2-bcce-4668-be9d-a9569ed60f10 button.colab-df-convert');\n",
              "        buttonEl.style.display =\n",
              "          google.colab.kernel.accessAllowed ? 'block' : 'none';\n",
              "\n",
              "        async function convertToInteractive(key) {\n",
              "          const element = document.querySelector('#df-9094d4f2-bcce-4668-be9d-a9569ed60f10');\n",
              "          const dataTable =\n",
              "            await google.colab.kernel.invokeFunction('convertToInteractive',\n",
              "                                                     [key], {});\n",
              "          if (!dataTable) return;\n",
              "\n",
              "          const docLinkHtml = 'Like what you see? Visit the ' +\n",
              "            '<a target=\"_blank\" href=https://colab.research.google.com/notebooks/data_table.ipynb>data table notebook</a>'\n",
              "            + ' to learn more about interactive tables.';\n",
              "          element.innerHTML = '';\n",
              "          dataTable['output_type'] = 'display_data';\n",
              "          await google.colab.output.renderOutput(dataTable, element);\n",
              "          const docLink = document.createElement('div');\n",
              "          docLink.innerHTML = docLinkHtml;\n",
              "          element.appendChild(docLink);\n",
              "        }\n",
              "      </script>\n",
              "    </div>\n",
              "  </div>\n",
              "  "
            ]
          },
          "metadata": {},
          "execution_count": 5
        }
      ]
    },
    {
      "cell_type": "code",
      "source": [
        "df.info()"
      ],
      "metadata": {
        "colab": {
          "base_uri": "https://localhost:8080/"
        },
        "id": "CvlEH_rEunob",
        "outputId": "3296378a-4f9b-47f8-b104-b4cbe7129499"
      },
      "execution_count": 6,
      "outputs": [
        {
          "output_type": "stream",
          "name": "stdout",
          "text": [
            "<class 'pandas.core.frame.DataFrame'>\n",
            "RangeIndex: 7043 entries, 0 to 7042\n",
            "Data columns (total 21 columns):\n",
            " #   Column            Non-Null Count  Dtype  \n",
            "---  ------            --------------  -----  \n",
            " 0   customerID        7043 non-null   object \n",
            " 1   gender            7043 non-null   object \n",
            " 2   SeniorCitizen     7043 non-null   int64  \n",
            " 3   Partner           7043 non-null   object \n",
            " 4   Dependents        7043 non-null   object \n",
            " 5   tenure            7043 non-null   int64  \n",
            " 6   PhoneService      7043 non-null   object \n",
            " 7   MultipleLines     7043 non-null   object \n",
            " 8   InternetService   7043 non-null   object \n",
            " 9   OnlineSecurity    7043 non-null   object \n",
            " 10  OnlineBackup      7043 non-null   object \n",
            " 11  DeviceProtection  7043 non-null   object \n",
            " 12  TechSupport       7043 non-null   object \n",
            " 13  StreamingTV       7043 non-null   object \n",
            " 14  StreamingMovies   7043 non-null   object \n",
            " 15  Contract          7043 non-null   object \n",
            " 16  PaperlessBilling  7043 non-null   object \n",
            " 17  PaymentMethod     7043 non-null   object \n",
            " 18  MonthlyCharges    7043 non-null   float64\n",
            " 19  TotalCharges      7043 non-null   object \n",
            " 20  Churn             7043 non-null   object \n",
            "dtypes: float64(1), int64(2), object(18)\n",
            "memory usage: 1.1+ MB\n"
          ]
        }
      ]
    },
    {
      "cell_type": "code",
      "source": [
        "df.drop(\"customerID\", axis=1, inplace=True)"
      ],
      "metadata": {
        "id": "mSUySXqG8025"
      },
      "execution_count": 7,
      "outputs": []
    },
    {
      "cell_type": "markdown",
      "source": [
        "Total charges should be float.\n"
      ],
      "metadata": {
        "id": "DHXii5s73iAt"
      }
    },
    {
      "cell_type": "code",
      "source": [
        "df1 = df[df[\"TotalCharges\"]!=\" \"] # Droping columns with blank total charges (One can immute as well or put 0)"
      ],
      "metadata": {
        "id": "wVOLkCPb3nAr"
      },
      "execution_count": 8,
      "outputs": []
    },
    {
      "cell_type": "code",
      "source": [
        "len(df1[df1.TotalCharges == \" \"])"
      ],
      "metadata": {
        "colab": {
          "base_uri": "https://localhost:8080/"
        },
        "id": "GKouV9cm5wjC",
        "outputId": "3dc5a67c-d42f-4b29-daf5-17049d998ec9"
      },
      "execution_count": 9,
      "outputs": [
        {
          "output_type": "execute_result",
          "data": {
            "text/plain": [
              "0"
            ]
          },
          "metadata": {},
          "execution_count": 9
        }
      ]
    },
    {
      "cell_type": "code",
      "source": [
        "df1[\"TotalCharges\"]= df1[\"TotalCharges\"].apply(pd.to_numeric)"
      ],
      "metadata": {
        "colab": {
          "base_uri": "https://localhost:8080/"
        },
        "id": "6yoVTm6F5_LJ",
        "outputId": "d99f0a31-35fa-4905-cb9b-6897865d54a2"
      },
      "execution_count": 10,
      "outputs": [
        {
          "output_type": "stream",
          "name": "stderr",
          "text": [
            "/usr/local/lib/python3.7/dist-packages/ipykernel_launcher.py:1: SettingWithCopyWarning: \n",
            "A value is trying to be set on a copy of a slice from a DataFrame.\n",
            "Try using .loc[row_indexer,col_indexer] = value instead\n",
            "\n",
            "See the caveats in the documentation: https://pandas.pydata.org/pandas-docs/stable/user_guide/indexing.html#returning-a-view-versus-a-copy\n",
            "  \"\"\"Entry point for launching an IPython kernel.\n"
          ]
        }
      ]
    },
    {
      "cell_type": "code",
      "source": [
        "df1.describe() ## Hooray we did it :)"
      ],
      "metadata": {
        "colab": {
          "base_uri": "https://localhost:8080/",
          "height": 300
        },
        "id": "AlfMemF73Zar",
        "outputId": "f4643680-ebe9-4f02-96a7-cc3c1e461354"
      },
      "execution_count": 11,
      "outputs": [
        {
          "output_type": "execute_result",
          "data": {
            "text/plain": [
              "       SeniorCitizen       tenure  MonthlyCharges  TotalCharges\n",
              "count    7032.000000  7032.000000     7032.000000   7032.000000\n",
              "mean        0.162400    32.421786       64.798208   2283.300441\n",
              "std         0.368844    24.545260       30.085974   2266.771362\n",
              "min         0.000000     1.000000       18.250000     18.800000\n",
              "25%         0.000000     9.000000       35.587500    401.450000\n",
              "50%         0.000000    29.000000       70.350000   1397.475000\n",
              "75%         0.000000    55.000000       89.862500   3794.737500\n",
              "max         1.000000    72.000000      118.750000   8684.800000"
            ],
            "text/html": [
              "\n",
              "  <div id=\"df-4ea79b54-fa70-4c2a-a11e-d336e2523992\">\n",
              "    <div class=\"colab-df-container\">\n",
              "      <div>\n",
              "<style scoped>\n",
              "    .dataframe tbody tr th:only-of-type {\n",
              "        vertical-align: middle;\n",
              "    }\n",
              "\n",
              "    .dataframe tbody tr th {\n",
              "        vertical-align: top;\n",
              "    }\n",
              "\n",
              "    .dataframe thead th {\n",
              "        text-align: right;\n",
              "    }\n",
              "</style>\n",
              "<table border=\"1\" class=\"dataframe\">\n",
              "  <thead>\n",
              "    <tr style=\"text-align: right;\">\n",
              "      <th></th>\n",
              "      <th>SeniorCitizen</th>\n",
              "      <th>tenure</th>\n",
              "      <th>MonthlyCharges</th>\n",
              "      <th>TotalCharges</th>\n",
              "    </tr>\n",
              "  </thead>\n",
              "  <tbody>\n",
              "    <tr>\n",
              "      <th>count</th>\n",
              "      <td>7032.000000</td>\n",
              "      <td>7032.000000</td>\n",
              "      <td>7032.000000</td>\n",
              "      <td>7032.000000</td>\n",
              "    </tr>\n",
              "    <tr>\n",
              "      <th>mean</th>\n",
              "      <td>0.162400</td>\n",
              "      <td>32.421786</td>\n",
              "      <td>64.798208</td>\n",
              "      <td>2283.300441</td>\n",
              "    </tr>\n",
              "    <tr>\n",
              "      <th>std</th>\n",
              "      <td>0.368844</td>\n",
              "      <td>24.545260</td>\n",
              "      <td>30.085974</td>\n",
              "      <td>2266.771362</td>\n",
              "    </tr>\n",
              "    <tr>\n",
              "      <th>min</th>\n",
              "      <td>0.000000</td>\n",
              "      <td>1.000000</td>\n",
              "      <td>18.250000</td>\n",
              "      <td>18.800000</td>\n",
              "    </tr>\n",
              "    <tr>\n",
              "      <th>25%</th>\n",
              "      <td>0.000000</td>\n",
              "      <td>9.000000</td>\n",
              "      <td>35.587500</td>\n",
              "      <td>401.450000</td>\n",
              "    </tr>\n",
              "    <tr>\n",
              "      <th>50%</th>\n",
              "      <td>0.000000</td>\n",
              "      <td>29.000000</td>\n",
              "      <td>70.350000</td>\n",
              "      <td>1397.475000</td>\n",
              "    </tr>\n",
              "    <tr>\n",
              "      <th>75%</th>\n",
              "      <td>0.000000</td>\n",
              "      <td>55.000000</td>\n",
              "      <td>89.862500</td>\n",
              "      <td>3794.737500</td>\n",
              "    </tr>\n",
              "    <tr>\n",
              "      <th>max</th>\n",
              "      <td>1.000000</td>\n",
              "      <td>72.000000</td>\n",
              "      <td>118.750000</td>\n",
              "      <td>8684.800000</td>\n",
              "    </tr>\n",
              "  </tbody>\n",
              "</table>\n",
              "</div>\n",
              "      <button class=\"colab-df-convert\" onclick=\"convertToInteractive('df-4ea79b54-fa70-4c2a-a11e-d336e2523992')\"\n",
              "              title=\"Convert this dataframe to an interactive table.\"\n",
              "              style=\"display:none;\">\n",
              "        \n",
              "  <svg xmlns=\"http://www.w3.org/2000/svg\" height=\"24px\"viewBox=\"0 0 24 24\"\n",
              "       width=\"24px\">\n",
              "    <path d=\"M0 0h24v24H0V0z\" fill=\"none\"/>\n",
              "    <path d=\"M18.56 5.44l.94 2.06.94-2.06 2.06-.94-2.06-.94-.94-2.06-.94 2.06-2.06.94zm-11 1L8.5 8.5l.94-2.06 2.06-.94-2.06-.94L8.5 2.5l-.94 2.06-2.06.94zm10 10l.94 2.06.94-2.06 2.06-.94-2.06-.94-.94-2.06-.94 2.06-2.06.94z\"/><path d=\"M17.41 7.96l-1.37-1.37c-.4-.4-.92-.59-1.43-.59-.52 0-1.04.2-1.43.59L10.3 9.45l-7.72 7.72c-.78.78-.78 2.05 0 2.83L4 21.41c.39.39.9.59 1.41.59.51 0 1.02-.2 1.41-.59l7.78-7.78 2.81-2.81c.8-.78.8-2.07 0-2.86zM5.41 20L4 18.59l7.72-7.72 1.47 1.35L5.41 20z\"/>\n",
              "  </svg>\n",
              "      </button>\n",
              "      \n",
              "  <style>\n",
              "    .colab-df-container {\n",
              "      display:flex;\n",
              "      flex-wrap:wrap;\n",
              "      gap: 12px;\n",
              "    }\n",
              "\n",
              "    .colab-df-convert {\n",
              "      background-color: #E8F0FE;\n",
              "      border: none;\n",
              "      border-radius: 50%;\n",
              "      cursor: pointer;\n",
              "      display: none;\n",
              "      fill: #1967D2;\n",
              "      height: 32px;\n",
              "      padding: 0 0 0 0;\n",
              "      width: 32px;\n",
              "    }\n",
              "\n",
              "    .colab-df-convert:hover {\n",
              "      background-color: #E2EBFA;\n",
              "      box-shadow: 0px 1px 2px rgba(60, 64, 67, 0.3), 0px 1px 3px 1px rgba(60, 64, 67, 0.15);\n",
              "      fill: #174EA6;\n",
              "    }\n",
              "\n",
              "    [theme=dark] .colab-df-convert {\n",
              "      background-color: #3B4455;\n",
              "      fill: #D2E3FC;\n",
              "    }\n",
              "\n",
              "    [theme=dark] .colab-df-convert:hover {\n",
              "      background-color: #434B5C;\n",
              "      box-shadow: 0px 1px 3px 1px rgba(0, 0, 0, 0.15);\n",
              "      filter: drop-shadow(0px 1px 2px rgba(0, 0, 0, 0.3));\n",
              "      fill: #FFFFFF;\n",
              "    }\n",
              "  </style>\n",
              "\n",
              "      <script>\n",
              "        const buttonEl =\n",
              "          document.querySelector('#df-4ea79b54-fa70-4c2a-a11e-d336e2523992 button.colab-df-convert');\n",
              "        buttonEl.style.display =\n",
              "          google.colab.kernel.accessAllowed ? 'block' : 'none';\n",
              "\n",
              "        async function convertToInteractive(key) {\n",
              "          const element = document.querySelector('#df-4ea79b54-fa70-4c2a-a11e-d336e2523992');\n",
              "          const dataTable =\n",
              "            await google.colab.kernel.invokeFunction('convertToInteractive',\n",
              "                                                     [key], {});\n",
              "          if (!dataTable) return;\n",
              "\n",
              "          const docLinkHtml = 'Like what you see? Visit the ' +\n",
              "            '<a target=\"_blank\" href=https://colab.research.google.com/notebooks/data_table.ipynb>data table notebook</a>'\n",
              "            + ' to learn more about interactive tables.';\n",
              "          element.innerHTML = '';\n",
              "          dataTable['output_type'] = 'display_data';\n",
              "          await google.colab.output.renderOutput(dataTable, element);\n",
              "          const docLink = document.createElement('div');\n",
              "          docLink.innerHTML = docLinkHtml;\n",
              "          element.appendChild(docLink);\n",
              "        }\n",
              "      </script>\n",
              "    </div>\n",
              "  </div>\n",
              "  "
            ]
          },
          "metadata": {},
          "execution_count": 11
        }
      ]
    },
    {
      "cell_type": "code",
      "source": [
        "df1.SeniorCitizen.astype('category')"
      ],
      "metadata": {
        "colab": {
          "base_uri": "https://localhost:8080/"
        },
        "id": "I6vgW8-e77l7",
        "outputId": "65edfaa4-6b8a-4e10-8b36-f5a6f0a92b8b"
      },
      "execution_count": 12,
      "outputs": [
        {
          "output_type": "execute_result",
          "data": {
            "text/plain": [
              "0       0\n",
              "1       0\n",
              "2       0\n",
              "3       0\n",
              "4       0\n",
              "       ..\n",
              "7038    0\n",
              "7039    0\n",
              "7040    0\n",
              "7041    1\n",
              "7042    0\n",
              "Name: SeniorCitizen, Length: 7032, dtype: category\n",
              "Categories (2, int64): [0, 1]"
            ]
          },
          "metadata": {},
          "execution_count": 12
        }
      ]
    },
    {
      "cell_type": "code",
      "source": [
        "df1.info()"
      ],
      "metadata": {
        "colab": {
          "base_uri": "https://localhost:8080/"
        },
        "id": "9LC-HXLQ8FeQ",
        "outputId": "1bee747d-bdd9-4513-b50e-8ce43baf4b26"
      },
      "execution_count": 13,
      "outputs": [
        {
          "output_type": "stream",
          "name": "stdout",
          "text": [
            "<class 'pandas.core.frame.DataFrame'>\n",
            "Int64Index: 7032 entries, 0 to 7042\n",
            "Data columns (total 20 columns):\n",
            " #   Column            Non-Null Count  Dtype  \n",
            "---  ------            --------------  -----  \n",
            " 0   gender            7032 non-null   object \n",
            " 1   SeniorCitizen     7032 non-null   int64  \n",
            " 2   Partner           7032 non-null   object \n",
            " 3   Dependents        7032 non-null   object \n",
            " 4   tenure            7032 non-null   int64  \n",
            " 5   PhoneService      7032 non-null   object \n",
            " 6   MultipleLines     7032 non-null   object \n",
            " 7   InternetService   7032 non-null   object \n",
            " 8   OnlineSecurity    7032 non-null   object \n",
            " 9   OnlineBackup      7032 non-null   object \n",
            " 10  DeviceProtection  7032 non-null   object \n",
            " 11  TechSupport       7032 non-null   object \n",
            " 12  StreamingTV       7032 non-null   object \n",
            " 13  StreamingMovies   7032 non-null   object \n",
            " 14  Contract          7032 non-null   object \n",
            " 15  PaperlessBilling  7032 non-null   object \n",
            " 16  PaymentMethod     7032 non-null   object \n",
            " 17  MonthlyCharges    7032 non-null   float64\n",
            " 18  TotalCharges      7032 non-null   float64\n",
            " 19  Churn             7032 non-null   object \n",
            "dtypes: float64(2), int64(2), object(16)\n",
            "memory usage: 1.1+ MB\n"
          ]
        }
      ]
    },
    {
      "cell_type": "code",
      "source": [
        "import seaborn as sns\n",
        "import matplotlib.pyplot as plt\n",
        "sns.set_theme(style=\"ticks\", color_codes=True)\n",
        "plt.rcParams[\"figure.figsize\"] = (20,10)"
      ],
      "metadata": {
        "id": "zYomIf17u82L"
      },
      "execution_count": 14,
      "outputs": []
    },
    {
      "cell_type": "code",
      "source": [
        "cont_col = df1.describe().columns ## Continous variable"
      ],
      "metadata": {
        "id": "lKhYumS_uETz"
      },
      "execution_count": 15,
      "outputs": []
    },
    {
      "cell_type": "code",
      "source": [
        "#box plot for cont_col\n",
        "data=df1[cont_col]\n",
        "data.drop(\"SeniorCitizen\",axis= 1, inplace=True)\n",
        "plt.rcParams.update({'font.size':20})\n",
        "for i, col in enumerate(data):\n",
        "  plt.subplot(2,2, i+1)\n",
        "  \n",
        "  sns.boxplot(data=data[col],palette = \"Set3\").set(title=col)\n",
        "plt.xticks(rotation=90)\n",
        "plt.tight_layout()\n",
        "plt.show()\n"
      ],
      "metadata": {
        "colab": {
          "base_uri": "https://localhost:8080/",
          "height": 798
        },
        "id": "M2wUYviL3UQG",
        "outputId": "0d5c80b2-f36d-4ee6-9dd2-f704fa62e441"
      },
      "execution_count": 16,
      "outputs": [
        {
          "output_type": "stream",
          "name": "stderr",
          "text": [
            "/usr/local/lib/python3.7/dist-packages/pandas/core/frame.py:4913: SettingWithCopyWarning: \n",
            "A value is trying to be set on a copy of a slice from a DataFrame\n",
            "\n",
            "See the caveats in the documentation: https://pandas.pydata.org/pandas-docs/stable/user_guide/indexing.html#returning-a-view-versus-a-copy\n",
            "  errors=errors,\n"
          ]
        },
        {
          "output_type": "display_data",
          "data": {
            "text/plain": [
              "<Figure size 1440x720 with 3 Axes>"
            ],
            "image/png": "[encoded data removed]"
          },
          "metadata": {}
        }
      ]
    },
    {
      "cell_type": "code",
      "source": [
        "cat_col = df1.describe(include=object).columns ## for categorical data"
      ],
      "metadata": {
        "id": "t780GeX219E7"
      },
      "execution_count": 17,
      "outputs": []
    },
    {
      "cell_type": "code",
      "source": [
        "type(cat_col)"
      ],
      "metadata": {
        "colab": {
          "base_uri": "https://localhost:8080/"
        },
        "id": "3OpE0Xcs_4Uo",
        "outputId": "b8f1fa07-ec84-493f-8875-17221cb77c31"
      },
      "execution_count": 18,
      "outputs": [
        {
          "output_type": "execute_result",
          "data": {
            "text/plain": [
              "pandas.core.indexes.base.Index"
            ]
          },
          "metadata": {},
          "execution_count": 18
        }
      ]
    },
    {
      "cell_type": "code",
      "source": [
        "data2 = df1[cat_col]\n",
        "data2[\"SeniorCitizen\"] = df1[\"SeniorCitizen\"]"
      ],
      "metadata": {
        "colab": {
          "base_uri": "https://localhost:8080/"
        },
        "id": "FcPkV_qJAp_A",
        "outputId": "5084f61d-b899-4bcd-870a-b782639be135"
      },
      "execution_count": 19,
      "outputs": [
        {
          "output_type": "stream",
          "name": "stderr",
          "text": [
            "/usr/local/lib/python3.7/dist-packages/ipykernel_launcher.py:2: SettingWithCopyWarning: \n",
            "A value is trying to be set on a copy of a slice from a DataFrame.\n",
            "Try using .loc[row_indexer,col_indexer] = value instead\n",
            "\n",
            "See the caveats in the documentation: https://pandas.pydata.org/pandas-docs/stable/user_guide/indexing.html#returning-a-view-versus-a-copy\n",
            "  \n"
          ]
        }
      ]
    },
    {
      "cell_type": "code",
      "source": [
        "data2.columns"
      ],
      "metadata": {
        "colab": {
          "base_uri": "https://localhost:8080/"
        },
        "id": "jlWXlve9A9N4",
        "outputId": "2d6f2dc4-5daf-4392-aaef-86a9b0356f24"
      },
      "execution_count": 20,
      "outputs": [
        {
          "output_type": "execute_result",
          "data": {
            "text/plain": [
              "Index(['gender', 'Partner', 'Dependents', 'PhoneService', 'MultipleLines',\n",
              "       'InternetService', 'OnlineSecurity', 'OnlineBackup', 'DeviceProtection',\n",
              "       'TechSupport', 'StreamingTV', 'StreamingMovies', 'Contract',\n",
              "       'PaperlessBilling', 'PaymentMethod', 'Churn', 'SeniorCitizen'],\n",
              "      dtype='object')"
            ]
          },
          "metadata": {},
          "execution_count": 20
        }
      ]
    },
    {
      "cell_type": "code",
      "source": [
        "sns.countplot(x ='SeniorCitizen', data = df)"
      ],
      "metadata": {
        "colab": {
          "base_uri": "https://localhost:8080/",
          "height": 629
        },
        "id": "K4ivlObxwiR3",
        "outputId": "020d0299-cf5f-4f9d-a067-34db67739923"
      },
      "execution_count": 21,
      "outputs": [
        {
          "output_type": "execute_result",
          "data": {
            "text/plain": [
              "<matplotlib.axes._subplots.AxesSubplot at 0x7f4f4a9ff790>"
            ]
          },
          "metadata": {},
          "execution_count": 21
        },
        {
          "output_type": "display_data",
          "data": {
            "text/plain": [
              "<Figure size 1440x720 with 1 Axes>"
            ],
            "image/png": "[encoded data removed]"
          },
          "metadata": {}
        }
      ]
    },
    {
      "cell_type": "code",
      "source": [
        "## histplot to visualize the feature space (Categorical dataspace)\n",
        "for i, column in enumerate(data2.columns):\n",
        "    plt.subplot(6,4, i+1)\n",
        "    sns.histplot(data=data2[column])\n",
        "plt.tight_layout()\n",
        "plt.show()"
      ],
      "metadata": {
        "colab": {
          "base_uri": "https://localhost:8080/",
          "height": 623
        },
        "id": "tP5pT4Hvxr4l",
        "outputId": "330f12f1-bf00-4bd0-85df-fdab9eaf6497"
      },
      "execution_count": 22,
      "outputs": [
        {
          "output_type": "display_data",
          "data": {
            "text/plain": [
              "<Figure size 1440x720 with 17 Axes>"
            ],
            "image/png": "[encoded data removed]"
          },
          "metadata": {}
        }
      ]
    },
    {
      "cell_type": "code",
      "source": [
        "df1[\"PaymentMethod\"].unique() # Basic intution says payment method should not affect our output\n",
        "# Lets remove that empty space. I would use XG classifier here, hence cleaning it up is a good idea"
      ],
      "metadata": {
        "colab": {
          "base_uri": "https://localhost:8080/"
        },
        "id": "KQvJ3Q-OzBRq",
        "outputId": "62e958e3-1340-4b89-cee5-3fff3694fe73"
      },
      "execution_count": 23,
      "outputs": [
        {
          "output_type": "execute_result",
          "data": {
            "text/plain": [
              "array(['Electronic check', 'Mailed check', 'Bank transfer (automatic)',\n",
              "       'Credit card (automatic)'], dtype=object)"
            ]
          },
          "metadata": {},
          "execution_count": 23
        }
      ]
    },
    {
      "cell_type": "code",
      "source": [
        "df1.replace(\" \", \"_\", regex=True, inplace=True)"
      ],
      "metadata": {
        "colab": {
          "base_uri": "https://localhost:8080/"
        },
        "id": "wPcvnqXc8kVq",
        "outputId": "d358ea04-8474-491d-a59e-f39d9c68f32b"
      },
      "execution_count": 24,
      "outputs": [
        {
          "output_type": "stream",
          "name": "stderr",
          "text": [
            "/usr/local/lib/python3.7/dist-packages/pandas/core/frame.py:5244: SettingWithCopyWarning: \n",
            "A value is trying to be set on a copy of a slice from a DataFrame\n",
            "\n",
            "See the caveats in the documentation: https://pandas.pydata.org/pandas-docs/stable/user_guide/indexing.html#returning-a-view-versus-a-copy\n",
            "  method=method,\n"
          ]
        }
      ]
    },
    {
      "cell_type": "code",
      "source": [
        "df1[\"PaymentMethod\"].unique()"
      ],
      "metadata": {
        "colab": {
          "base_uri": "https://localhost:8080/"
        },
        "id": "MWcQRWhl9DoD",
        "outputId": "94c00fba-61ab-4607-bc14-0d24eb2f4f89"
      },
      "execution_count": 25,
      "outputs": [
        {
          "output_type": "execute_result",
          "data": {
            "text/plain": [
              "array(['Electronic_check', 'Mailed_check', 'Bank_transfer_(automatic)',\n",
              "       'Credit_card_(automatic)'], dtype=object)"
            ]
          },
          "metadata": {},
          "execution_count": 25
        }
      ]
    },
    {
      "cell_type": "code",
      "source": [
        "from sklearn.preprocessing import LabelEncoder"
      ],
      "metadata": {
        "id": "yeagjyV4Bnk_"
      },
      "execution_count": 26,
      "outputs": []
    },
    {
      "cell_type": "code",
      "source": [
        "labelencoder = LabelEncoder()\n"
      ],
      "metadata": {
        "id": "KZUnn7MmBogP"
      },
      "execution_count": 27,
      "outputs": []
    },
    {
      "cell_type": "code",
      "source": [
        "df1[\"Churn_value\"] = labelencoder.fit_transform(df1[\"Churn\"]) # Encode target variable"
      ],
      "metadata": {
        "colab": {
          "base_uri": "https://localhost:8080/"
        },
        "id": "H9LbSWa1Bq5P",
        "outputId": "31bc927a-362f-498f-d882-a4ada2315849"
      },
      "execution_count": 28,
      "outputs": [
        {
          "output_type": "stream",
          "name": "stderr",
          "text": [
            "/usr/local/lib/python3.7/dist-packages/ipykernel_launcher.py:1: SettingWithCopyWarning: \n",
            "A value is trying to be set on a copy of a slice from a DataFrame.\n",
            "Try using .loc[row_indexer,col_indexer] = value instead\n",
            "\n",
            "See the caveats in the documentation: https://pandas.pydata.org/pandas-docs/stable/user_guide/indexing.html#returning-a-view-versus-a-copy\n",
            "  \"\"\"Entry point for launching an IPython kernel.\n"
          ]
        }
      ]
    },
    {
      "cell_type": "code",
      "source": [
        "df1.drop(\"Churn\", axis=1, inplace=True)"
      ],
      "metadata": {
        "colab": {
          "base_uri": "https://localhost:8080/"
        },
        "id": "8dmLdu10B8QA",
        "outputId": "3b0d8fbf-32e1-49fd-f88b-a53b53b6d838"
      },
      "execution_count": 29,
      "outputs": [
        {
          "output_type": "stream",
          "name": "stderr",
          "text": [
            "/usr/local/lib/python3.7/dist-packages/pandas/core/frame.py:4913: SettingWithCopyWarning: \n",
            "A value is trying to be set on a copy of a slice from a DataFrame\n",
            "\n",
            "See the caveats in the documentation: https://pandas.pydata.org/pandas-docs/stable/user_guide/indexing.html#returning-a-view-versus-a-copy\n",
            "  errors=errors,\n"
          ]
        }
      ]
    },
    {
      "cell_type": "code",
      "source": [
        "df1.head()"
      ],
      "metadata": {
        "colab": {
          "base_uri": "https://localhost:8080/",
          "height": 322
        },
        "id": "KLaY0i7uCS2X",
        "outputId": "842d5097-9760-4a5d-fcc8-5d3643fdb7c1"
      },
      "execution_count": 30,
      "outputs": [
        {
          "output_type": "execute_result",
          "data": {
            "text/plain": [
              "   gender  SeniorCitizen Partner Dependents  tenure PhoneService  \\\n",
              "0  Female              0     Yes         No       1           No   \n",
              "1    Male              0      No         No      34          Yes   \n",
              "2    Male              0      No         No       2          Yes   \n",
              "3    Male              0      No         No      45           No   \n",
              "4  Female              0      No         No       2          Yes   \n",
              "\n",
              "      MultipleLines InternetService OnlineSecurity OnlineBackup  \\\n",
              "0  No_phone_service             DSL             No          Yes   \n",
              "1                No             DSL            Yes           No   \n",
              "2                No             DSL            Yes          Yes   \n",
              "3  No_phone_service             DSL            Yes           No   \n",
              "4                No     Fiber_optic             No           No   \n",
              "\n",
              "  DeviceProtection TechSupport StreamingTV StreamingMovies        Contract  \\\n",
              "0               No          No          No              No  Month-to-month   \n",
              "1              Yes          No          No              No        One_year   \n",
              "2               No          No          No              No  Month-to-month   \n",
              "3              Yes         Yes          No              No        One_year   \n",
              "4               No          No          No              No  Month-to-month   \n",
              "\n",
              "  PaperlessBilling              PaymentMethod  MonthlyCharges  TotalCharges  \\\n",
              "0              Yes           Electronic_check           29.85         29.85   \n",
              "1               No               Mailed_check           56.95       1889.50   \n",
              "2              Yes               Mailed_check           53.85        108.15   \n",
              "3               No  Bank_transfer_(automatic)           42.30       1840.75   \n",
              "4              Yes           Electronic_check           70.70        151.65   \n",
              "\n",
              "   Churn_value  \n",
              "0            0  \n",
              "1            0  \n",
              "2            1  \n",
              "3            0  \n",
              "4            1  "
            ],
            "text/html": [
              "\n",
              "  <div id=\"df-e12c3b40-9399-4cb6-8621-806c09c4c7af\">\n",
              "    <div class=\"colab-df-container\">\n",
              "      <div>\n",
              "<style scoped>\n",
              "    .dataframe tbody tr th:only-of-type {\n",
              "        vertical-align: middle;\n",
              "    }\n",
              "\n",
              "    .dataframe tbody tr th {\n",
              "        vertical-align: top;\n",
              "    }\n",
              "\n",
              "    .dataframe thead th {\n",
              "        text-align: right;\n",
              "    }\n",
              "</style>\n",
              "<table border=\"1\" class=\"dataframe\">\n",
              "  <thead>\n",
              "    <tr style=\"text-align: right;\">\n",
              "      <th></th>\n",
              "      <th>gender</th>\n",
              "      <th>SeniorCitizen</th>\n",
              "      <th>Partner</th>\n",
              "      <th>Dependents</th>\n",
              "      <th>tenure</th>\n",
              "      <th>PhoneService</th>\n",
              "      <th>MultipleLines</th>\n",
              "      <th>InternetService</th>\n",
              "      <th>OnlineSecurity</th>\n",
              "      <th>OnlineBackup</th>\n",
              "      <th>DeviceProtection</th>\n",
              "      <th>TechSupport</th>\n",
              "      <th>StreamingTV</th>\n",
              "      <th>StreamingMovies</th>\n",
              "      <th>Contract</th>\n",
              "      <th>PaperlessBilling</th>\n",
              "      <th>PaymentMethod</th>\n",
              "      <th>MonthlyCharges</th>\n",
              "      <th>TotalCharges</th>\n",
              "      <th>Churn_value</th>\n",
              "    </tr>\n",
              "  </thead>\n",
              "  <tbody>\n",
              "    <tr>\n",
              "      <th>0</th>\n",
              "      <td>Female</td>\n",
              "      <td>0</td>\n",
              "      <td>Yes</td>\n",
              "      <td>No</td>\n",
              "      <td>1</td>\n",
              "      <td>No</td>\n",
              "      <td>No_phone_service</td>\n",
              "      <td>DSL</td>\n",
              "      <td>No</td>\n",
              "      <td>Yes</td>\n",
              "      <td>No</td>\n",
              "      <td>No</td>\n",
              "      <td>No</td>\n",
              "      <td>No</td>\n",
              "      <td>Month-to-month</td>\n",
              "      <td>Yes</td>\n",
              "      <td>Electronic_check</td>\n",
              "      <td>29.85</td>\n",
              "      <td>29.85</td>\n",
              "      <td>0</td>\n",
              "    </tr>\n",
              "    <tr>\n",
              "      <th>1</th>\n",
              "      <td>Male</td>\n",
              "      <td>0</td>\n",
              "      <td>No</td>\n",
              "      <td>No</td>\n",
              "      <td>34</td>\n",
              "      <td>Yes</td>\n",
              "      <td>No</td>\n",
              "      <td>DSL</td>\n",
              "      <td>Yes</td>\n",
              "      <td>No</td>\n",
              "      <td>Yes</td>\n",
              "      <td>No</td>\n",
              "      <td>No</td>\n",
              "      <td>No</td>\n",
              "      <td>One_year</td>\n",
              "      <td>No</td>\n",
              "      <td>Mailed_check</td>\n",
              "      <td>56.95</td>\n",
              "      <td>1889.50</td>\n",
              "      <td>0</td>\n",
              "    </tr>\n",
              "    <tr>\n",
              "      <th>2</th>\n",
              "      <td>Male</td>\n",
              "      <td>0</td>\n",
              "      <td>No</td>\n",
              "      <td>No</td>\n",
              "      <td>2</td>\n",
              "      <td>Yes</td>\n",
              "      <td>No</td>\n",
              "      <td>DSL</td>\n",
              "      <td>Yes</td>\n",
              "      <td>Yes</td>\n",
              "      <td>No</td>\n",
              "      <td>No</td>\n",
              "      <td>No</td>\n",
              "      <td>No</td>\n",
              "      <td>Month-to-month</td>\n",
              "      <td>Yes</td>\n",
              "      <td>Mailed_check</td>\n",
              "      <td>53.85</td>\n",
              "      <td>108.15</td>\n",
              "      <td>1</td>\n",
              "    </tr>\n",
              "    <tr>\n",
              "      <th>3</th>\n",
              "      <td>Male</td>\n",
              "      <td>0</td>\n",
              "      <td>No</td>\n",
              "      <td>No</td>\n",
              "      <td>45</td>\n",
              "      <td>No</td>\n",
              "      <td>No_phone_service</td>\n",
              "      <td>DSL</td>\n",
              "      <td>Yes</td>\n",
              "      <td>No</td>\n",
              "      <td>Yes</td>\n",
              "      <td>Yes</td>\n",
              "      <td>No</td>\n",
              "      <td>No</td>\n",
              "      <td>One_year</td>\n",
              "      <td>No</td>\n",
              "      <td>Bank_transfer_(automatic)</td>\n",
              "      <td>42.30</td>\n",
              "      <td>1840.75</td>\n",
              "      <td>0</td>\n",
              "    </tr>\n",
              "    <tr>\n",
              "      <th>4</th>\n",
              "      <td>Female</td>\n",
              "      <td>0</td>\n",
              "      <td>No</td>\n",
              "      <td>No</td>\n",
              "      <td>2</td>\n",
              "      <td>Yes</td>\n",
              "      <td>No</td>\n",
              "      <td>Fiber_optic</td>\n",
              "      <td>No</td>\n",
              "      <td>No</td>\n",
              "      <td>No</td>\n",
              "      <td>No</td>\n",
              "      <td>No</td>\n",
              "      <td>No</td>\n",
              "      <td>Month-to-month</td>\n",
              "      <td>Yes</td>\n",
              "      <td>Electronic_check</td>\n",
              "      <td>70.70</td>\n",
              "      <td>151.65</td>\n",
              "      <td>1</td>\n",
              "    </tr>\n",
              "  </tbody>\n",
              "</table>\n",
              "</div>\n",
              "      <button class=\"colab-df-convert\" onclick=\"convertToInteractive('df-e12c3b40-9399-4cb6-8621-806c09c4c7af')\"\n",
              "              title=\"Convert this dataframe to an interactive table.\"\n",
              "              style=\"display:none;\">\n",
              "        \n",
              "  <svg xmlns=\"http://www.w3.org/2000/svg\" height=\"24px\"viewBox=\"0 0 24 24\"\n",
              "       width=\"24px\">\n",
              "    <path d=\"M0 0h24v24H0V0z\" fill=\"none\"/>\n",
              "    <path d=\"M18.56 5.44l.94 2.06.94-2.06 2.06-.94-2.06-.94-.94-2.06-.94 2.06-2.06.94zm-11 1L8.5 8.5l.94-2.06 2.06-.94-2.06-.94L8.5 2.5l-.94 2.06-2.06.94zm10 10l.94 2.06.94-2.06 2.06-.94-2.06-.94-.94-2.06-.94 2.06-2.06.94z\"/><path d=\"M17.41 7.96l-1.37-1.37c-.4-.4-.92-.59-1.43-.59-.52 0-1.04.2-1.43.59L10.3 9.45l-7.72 7.72c-.78.78-.78 2.05 0 2.83L4 21.41c.39.39.9.59 1.41.59.51 0 1.02-.2 1.41-.59l7.78-7.78 2.81-2.81c.8-.78.8-2.07 0-2.86zM5.41 20L4 18.59l7.72-7.72 1.47 1.35L5.41 20z\"/>\n",
              "  </svg>\n",
              "      </button>\n",
              "      \n",
              "  <style>\n",
              "    .colab-df-container {\n",
              "      display:flex;\n",
              "      flex-wrap:wrap;\n",
              "      gap: 12px;\n",
              "    }\n",
              "\n",
              "    .colab-df-convert {\n",
              "      background-color: #E8F0FE;\n",
              "      border: none;\n",
              "      border-radius: 50%;\n",
              "      cursor: pointer;\n",
              "      display: none;\n",
              "      fill: #1967D2;\n",
              "      height: 32px;\n",
              "      padding: 0 0 0 0;\n",
              "      width: 32px;\n",
              "    }\n",
              "\n",
              "    .colab-df-convert:hover {\n",
              "      background-color: #E2EBFA;\n",
              "      box-shadow: 0px 1px 2px rgba(60, 64, 67, 0.3), 0px 1px 3px 1px rgba(60, 64, 67, 0.15);\n",
              "      fill: #174EA6;\n",
              "    }\n",
              "\n",
              "    [theme=dark] .colab-df-convert {\n",
              "      background-color: #3B4455;\n",
              "      fill: #D2E3FC;\n",
              "    }\n",
              "\n",
              "    [theme=dark] .colab-df-convert:hover {\n",
              "      background-color: #434B5C;\n",
              "      box-shadow: 0px 1px 3px 1px rgba(0, 0, 0, 0.15);\n",
              "      filter: drop-shadow(0px 1px 2px rgba(0, 0, 0, 0.3));\n",
              "      fill: #FFFFFF;\n",
              "    }\n",
              "  </style>\n",
              "\n",
              "      <script>\n",
              "        const buttonEl =\n",
              "          document.querySelector('#df-e12c3b40-9399-4cb6-8621-806c09c4c7af button.colab-df-convert');\n",
              "        buttonEl.style.display =\n",
              "          google.colab.kernel.accessAllowed ? 'block' : 'none';\n",
              "\n",
              "        async function convertToInteractive(key) {\n",
              "          const element = document.querySelector('#df-e12c3b40-9399-4cb6-8621-806c09c4c7af');\n",
              "          const dataTable =\n",
              "            await google.colab.kernel.invokeFunction('convertToInteractive',\n",
              "                                                     [key], {});\n",
              "          if (!dataTable) return;\n",
              "\n",
              "          const docLinkHtml = 'Like what you see? Visit the ' +\n",
              "            '<a target=\"_blank\" href=https://colab.research.google.com/notebooks/data_table.ipynb>data table notebook</a>'\n",
              "            + ' to learn more about interactive tables.';\n",
              "          element.innerHTML = '';\n",
              "          dataTable['output_type'] = 'display_data';\n",
              "          await google.colab.output.renderOutput(dataTable, element);\n",
              "          const docLink = document.createElement('div');\n",
              "          docLink.innerHTML = docLinkHtml;\n",
              "          element.appendChild(docLink);\n",
              "        }\n",
              "      </script>\n",
              "    </div>\n",
              "  </div>\n",
              "  "
            ]
          },
          "metadata": {},
          "execution_count": 30
        }
      ]
    },
    {
      "cell_type": "markdown",
      "source": [
        "## Lets have X(Predictor variables) and Y(Traget Variables) in seperate DF"
      ],
      "metadata": {
        "id": "H-JxwdsPD9G9"
      }
    },
    {
      "cell_type": "code",
      "source": [
        "X= df1.drop(\"Churn_value\", axis=1).copy()"
      ],
      "metadata": {
        "id": "SXCMuEZID6dQ"
      },
      "execution_count": 31,
      "outputs": []
    },
    {
      "cell_type": "code",
      "source": [
        "X.head()"
      ],
      "metadata": {
        "colab": {
          "base_uri": "https://localhost:8080/",
          "height": 322
        },
        "id": "a_n3JpBPERJt",
        "outputId": "29c2526a-a3d4-4dce-b893-236494f06664"
      },
      "execution_count": 32,
      "outputs": [
        {
          "output_type": "execute_result",
          "data": {
            "text/plain": [
              "   gender  SeniorCitizen Partner Dependents  tenure PhoneService  \\\n",
              "0  Female              0     Yes         No       1           No   \n",
              "1    Male              0      No         No      34          Yes   \n",
              "2    Male              0      No         No       2          Yes   \n",
              "3    Male              0      No         No      45           No   \n",
              "4  Female              0      No         No       2          Yes   \n",
              "\n",
              "      MultipleLines InternetService OnlineSecurity OnlineBackup  \\\n",
              "0  No_phone_service             DSL             No          Yes   \n",
              "1                No             DSL            Yes           No   \n",
              "2                No             DSL            Yes          Yes   \n",
              "3  No_phone_service             DSL            Yes           No   \n",
              "4                No     Fiber_optic             No           No   \n",
              "\n",
              "  DeviceProtection TechSupport StreamingTV StreamingMovies        Contract  \\\n",
              "0               No          No          No              No  Month-to-month   \n",
              "1              Yes          No          No              No        One_year   \n",
              "2               No          No          No              No  Month-to-month   \n",
              "3              Yes         Yes          No              No        One_year   \n",
              "4               No          No          No              No  Month-to-month   \n",
              "\n",
              "  PaperlessBilling              PaymentMethod  MonthlyCharges  TotalCharges  \n",
              "0              Yes           Electronic_check           29.85         29.85  \n",
              "1               No               Mailed_check           56.95       1889.50  \n",
              "2              Yes               Mailed_check           53.85        108.15  \n",
              "3               No  Bank_transfer_(automatic)           42.30       1840.75  \n",
              "4              Yes           Electronic_check           70.70        151.65  "
            ],
            "text/html": [
              "\n",
              "  <div id=\"df-cc1f619d-aec5-432b-b151-b9487b666ccd\">\n",
              "    <div class=\"colab-df-container\">\n",
              "      <div>\n",
              "<style scoped>\n",
              "    .dataframe tbody tr th:only-of-type {\n",
              "        vertical-align: middle;\n",
              "    }\n",
              "\n",
              "    .dataframe tbody tr th {\n",
              "        vertical-align: top;\n",
              "    }\n",
              "\n",
              "    .dataframe thead th {\n",
              "        text-align: right;\n",
              "    }\n",
              "</style>\n",
              "<table border=\"1\" class=\"dataframe\">\n",
              "  <thead>\n",
              "    <tr style=\"text-align: right;\">\n",
              "      <th></th>\n",
              "      <th>gender</th>\n",
              "      <th>SeniorCitizen</th>\n",
              "      <th>Partner</th>\n",
              "      <th>Dependents</th>\n",
              "      <th>tenure</th>\n",
              "      <th>PhoneService</th>\n",
              "      <th>MultipleLines</th>\n",
              "      <th>InternetService</th>\n",
              "      <th>OnlineSecurity</th>\n",
              "      <th>OnlineBackup</th>\n",
              "      <th>DeviceProtection</th>\n",
              "      <th>TechSupport</th>\n",
              "      <th>StreamingTV</th>\n",
              "      <th>StreamingMovies</th>\n",
              "      <th>Contract</th>\n",
              "      <th>PaperlessBilling</th>\n",
              "      <th>PaymentMethod</th>\n",
              "      <th>MonthlyCharges</th>\n",
              "      <th>TotalCharges</th>\n",
              "    </tr>\n",
              "  </thead>\n",
              "  <tbody>\n",
              "    <tr>\n",
              "      <th>0</th>\n",
              "      <td>Female</td>\n",
              "      <td>0</td>\n",
              "      <td>Yes</td>\n",
              "      <td>No</td>\n",
              "      <td>1</td>\n",
              "      <td>No</td>\n",
              "      <td>No_phone_service</td>\n",
              "      <td>DSL</td>\n",
              "      <td>No</td>\n",
              "      <td>Yes</td>\n",
              "      <td>No</td>\n",
              "      <td>No</td>\n",
              "      <td>No</td>\n",
              "      <td>No</td>\n",
              "      <td>Month-to-month</td>\n",
              "      <td>Yes</td>\n",
              "      <td>Electronic_check</td>\n",
              "      <td>29.85</td>\n",
              "      <td>29.85</td>\n",
              "    </tr>\n",
              "    <tr>\n",
              "      <th>1</th>\n",
              "      <td>Male</td>\n",
              "      <td>0</td>\n",
              "      <td>No</td>\n",
              "      <td>No</td>\n",
              "      <td>34</td>\n",
              "      <td>Yes</td>\n",
              "      <td>No</td>\n",
              "      <td>DSL</td>\n",
              "      <td>Yes</td>\n",
              "      <td>No</td>\n",
              "      <td>Yes</td>\n",
              "      <td>No</td>\n",
              "      <td>No</td>\n",
              "      <td>No</td>\n",
              "      <td>One_year</td>\n",
              "      <td>No</td>\n",
              "      <td>Mailed_check</td>\n",
              "      <td>56.95</td>\n",
              "      <td>1889.50</td>\n",
              "    </tr>\n",
              "    <tr>\n",
              "      <th>2</th>\n",
              "      <td>Male</td>\n",
              "      <td>0</td>\n",
              "      <td>No</td>\n",
              "      <td>No</td>\n",
              "      <td>2</td>\n",
              "      <td>Yes</td>\n",
              "      <td>No</td>\n",
              "      <td>DSL</td>\n",
              "      <td>Yes</td>\n",
              "      <td>Yes</td>\n",
              "      <td>No</td>\n",
              "      <td>No</td>\n",
              "      <td>No</td>\n",
              "      <td>No</td>\n",
              "      <td>Month-to-month</td>\n",
              "      <td>Yes</td>\n",
              "      <td>Mailed_check</td>\n",
              "      <td>53.85</td>\n",
              "      <td>108.15</td>\n",
              "    </tr>\n",
              "    <tr>\n",
              "      <th>3</th>\n",
              "      <td>Male</td>\n",
              "      <td>0</td>\n",
              "      <td>No</td>\n",
              "      <td>No</td>\n",
              "      <td>45</td>\n",
              "      <td>No</td>\n",
              "      <td>No_phone_service</td>\n",
              "      <td>DSL</td>\n",
              "      <td>Yes</td>\n",
              "      <td>No</td>\n",
              "      <td>Yes</td>\n",
              "      <td>Yes</td>\n",
              "      <td>No</td>\n",
              "      <td>No</td>\n",
              "      <td>One_year</td>\n",
              "      <td>No</td>\n",
              "      <td>Bank_transfer_(automatic)</td>\n",
              "      <td>42.30</td>\n",
              "      <td>1840.75</td>\n",
              "    </tr>\n",
              "    <tr>\n",
              "      <th>4</th>\n",
              "      <td>Female</td>\n",
              "      <td>0</td>\n",
              "      <td>No</td>\n",
              "      <td>No</td>\n",
              "      <td>2</td>\n",
              "      <td>Yes</td>\n",
              "      <td>No</td>\n",
              "      <td>Fiber_optic</td>\n",
              "      <td>No</td>\n",
              "      <td>No</td>\n",
              "      <td>No</td>\n",
              "      <td>No</td>\n",
              "      <td>No</td>\n",
              "      <td>No</td>\n",
              "      <td>Month-to-month</td>\n",
              "      <td>Yes</td>\n",
              "      <td>Electronic_check</td>\n",
              "      <td>70.70</td>\n",
              "      <td>151.65</td>\n",
              "    </tr>\n",
              "  </tbody>\n",
              "</table>\n",
              "</div>\n",
              "      <button class=\"colab-df-convert\" onclick=\"convertToInteractive('df-cc1f619d-aec5-432b-b151-b9487b666ccd')\"\n",
              "              title=\"Convert this dataframe to an interactive table.\"\n",
              "              style=\"display:none;\">\n",
              "        \n",
              "  <svg xmlns=\"http://www.w3.org/2000/svg\" height=\"24px\"viewBox=\"0 0 24 24\"\n",
              "       width=\"24px\">\n",
              "    <path d=\"M0 0h24v24H0V0z\" fill=\"none\"/>\n",
              "    <path d=\"M18.56 5.44l.94 2.06.94-2.06 2.06-.94-2.06-.94-.94-2.06-.94 2.06-2.06.94zm-11 1L8.5 8.5l.94-2.06 2.06-.94-2.06-.94L8.5 2.5l-.94 2.06-2.06.94zm10 10l.94 2.06.94-2.06 2.06-.94-2.06-.94-.94-2.06-.94 2.06-2.06.94z\"/><path d=\"M17.41 7.96l-1.37-1.37c-.4-.4-.92-.59-1.43-.59-.52 0-1.04.2-1.43.59L10.3 9.45l-7.72 7.72c-.78.78-.78 2.05 0 2.83L4 21.41c.39.39.9.59 1.41.59.51 0 1.02-.2 1.41-.59l7.78-7.78 2.81-2.81c.8-.78.8-2.07 0-2.86zM5.41 20L4 18.59l7.72-7.72 1.47 1.35L5.41 20z\"/>\n",
              "  </svg>\n",
              "      </button>\n",
              "      \n",
              "  <style>\n",
              "    .colab-df-container {\n",
              "      display:flex;\n",
              "      flex-wrap:wrap;\n",
              "      gap: 12px;\n",
              "    }\n",
              "\n",
              "    .colab-df-convert {\n",
              "      background-color: #E8F0FE;\n",
              "      border: none;\n",
              "      border-radius: 50%;\n",
              "      cursor: pointer;\n",
              "      display: none;\n",
              "      fill: #1967D2;\n",
              "      height: 32px;\n",
              "      padding: 0 0 0 0;\n",
              "      width: 32px;\n",
              "    }\n",
              "\n",
              "    .colab-df-convert:hover {\n",
              "      background-color: #E2EBFA;\n",
              "      box-shadow: 0px 1px 2px rgba(60, 64, 67, 0.3), 0px 1px 3px 1px rgba(60, 64, 67, 0.15);\n",
              "      fill: #174EA6;\n",
              "    }\n",
              "\n",
              "    [theme=dark] .colab-df-convert {\n",
              "      background-color: #3B4455;\n",
              "      fill: #D2E3FC;\n",
              "    }\n",
              "\n",
              "    [theme=dark] .colab-df-convert:hover {\n",
              "      background-color: #434B5C;\n",
              "      box-shadow: 0px 1px 3px 1px rgba(0, 0, 0, 0.15);\n",
              "      filter: drop-shadow(0px 1px 2px rgba(0, 0, 0, 0.3));\n",
              "      fill: #FFFFFF;\n",
              "    }\n",
              "  </style>\n",
              "\n",
              "      <script>\n",
              "        const buttonEl =\n",
              "          document.querySelector('#df-cc1f619d-aec5-432b-b151-b9487b666ccd button.colab-df-convert');\n",
              "        buttonEl.style.display =\n",
              "          google.colab.kernel.accessAllowed ? 'block' : 'none';\n",
              "\n",
              "        async function convertToInteractive(key) {\n",
              "          const element = document.querySelector('#df-cc1f619d-aec5-432b-b151-b9487b666ccd');\n",
              "          const dataTable =\n",
              "            await google.colab.kernel.invokeFunction('convertToInteractive',\n",
              "                                                     [key], {});\n",
              "          if (!dataTable) return;\n",
              "\n",
              "          const docLinkHtml = 'Like what you see? Visit the ' +\n",
              "            '<a target=\"_blank\" href=https://colab.research.google.com/notebooks/data_table.ipynb>data table notebook</a>'\n",
              "            + ' to learn more about interactive tables.';\n",
              "          element.innerHTML = '';\n",
              "          dataTable['output_type'] = 'display_data';\n",
              "          await google.colab.output.renderOutput(dataTable, element);\n",
              "          const docLink = document.createElement('div');\n",
              "          docLink.innerHTML = docLinkHtml;\n",
              "          element.appendChild(docLink);\n",
              "        }\n",
              "      </script>\n",
              "    </div>\n",
              "  </div>\n",
              "  "
            ]
          },
          "metadata": {},
          "execution_count": 32
        }
      ]
    },
    {
      "cell_type": "code",
      "source": [
        ""
      ],
      "metadata": {
        "id": "7nzb59VBGQ6w"
      },
      "execution_count": 32,
      "outputs": []
    },
    {
      "cell_type": "code",
      "source": [
        "y= df1[\"Churn_value\"].copy()"
      ],
      "metadata": {
        "id": "mpo4_Y69EUCW"
      },
      "execution_count": 33,
      "outputs": []
    },
    {
      "cell_type": "code",
      "source": [
        "y.unique()"
      ],
      "metadata": {
        "colab": {
          "base_uri": "https://localhost:8080/"
        },
        "id": "QyVap4HDEe6l",
        "outputId": "d50c42b6-f87a-4cf4-ac1d-f75dbbd04753"
      },
      "execution_count": 34,
      "outputs": [
        {
          "output_type": "execute_result",
          "data": {
            "text/plain": [
              "array([0, 1])"
            ]
          },
          "metadata": {},
          "execution_count": 34
        }
      ]
    },
    {
      "cell_type": "code",
      "source": [
        "X[\"SeniorCitizen\"]= pd.Series(np.where(X.SeniorCitizen.values == 1, \"Yes\", \"No\"),\n",
        "          X.index)"
      ],
      "metadata": {
        "id": "OjP2lv1nF6pH"
      },
      "execution_count": 35,
      "outputs": []
    },
    {
      "cell_type": "code",
      "source": [
        "X.head()"
      ],
      "metadata": {
        "colab": {
          "base_uri": "https://localhost:8080/",
          "height": 322
        },
        "id": "1a5QvRYLGRvd",
        "outputId": "8dee9007-b7b5-4226-b344-04a668bea49d"
      },
      "execution_count": 36,
      "outputs": [
        {
          "output_type": "execute_result",
          "data": {
            "text/plain": [
              "   gender SeniorCitizen Partner Dependents  tenure PhoneService  \\\n",
              "0  Female            No     Yes         No       1           No   \n",
              "1    Male            No      No         No      34          Yes   \n",
              "2    Male            No      No         No       2          Yes   \n",
              "3    Male            No      No         No      45           No   \n",
              "4  Female            No      No         No       2          Yes   \n",
              "\n",
              "      MultipleLines InternetService OnlineSecurity OnlineBackup  \\\n",
              "0  No_phone_service             DSL             No          Yes   \n",
              "1                No             DSL            Yes           No   \n",
              "2                No             DSL            Yes          Yes   \n",
              "3  No_phone_service             DSL            Yes           No   \n",
              "4                No     Fiber_optic             No           No   \n",
              "\n",
              "  DeviceProtection TechSupport StreamingTV StreamingMovies        Contract  \\\n",
              "0               No          No          No              No  Month-to-month   \n",
              "1              Yes          No          No              No        One_year   \n",
              "2               No          No          No              No  Month-to-month   \n",
              "3              Yes         Yes          No              No        One_year   \n",
              "4               No          No          No              No  Month-to-month   \n",
              "\n",
              "  PaperlessBilling              PaymentMethod  MonthlyCharges  TotalCharges  \n",
              "0              Yes           Electronic_check           29.85         29.85  \n",
              "1               No               Mailed_check           56.95       1889.50  \n",
              "2              Yes               Mailed_check           53.85        108.15  \n",
              "3               No  Bank_transfer_(automatic)           42.30       1840.75  \n",
              "4              Yes           Electronic_check           70.70        151.65  "
            ],
            "text/html": [
              "\n",
              "  <div id=\"df-2ee014db-01b3-4096-bbd9-801e7743fe18\">\n",
              "    <div class=\"colab-df-container\">\n",
              "      <div>\n",
              "<style scoped>\n",
              "    .dataframe tbody tr th:only-of-type {\n",
              "        vertical-align: middle;\n",
              "    }\n",
              "\n",
              "    .dataframe tbody tr th {\n",
              "        vertical-align: top;\n",
              "    }\n",
              "\n",
              "    .dataframe thead th {\n",
              "        text-align: right;\n",
              "    }\n",
              "</style>\n",
              "<table border=\"1\" class=\"dataframe\">\n",
              "  <thead>\n",
              "    <tr style=\"text-align: right;\">\n",
              "      <th></th>\n",
              "      <th>gender</th>\n",
              "      <th>SeniorCitizen</th>\n",
              "      <th>Partner</th>\n",
              "      <th>Dependents</th>\n",
              "      <th>tenure</th>\n",
              "      <th>PhoneService</th>\n",
              "      <th>MultipleLines</th>\n",
              "      <th>InternetService</th>\n",
              "      <th>OnlineSecurity</th>\n",
              "      <th>OnlineBackup</th>\n",
              "      <th>DeviceProtection</th>\n",
              "      <th>TechSupport</th>\n",
              "      <th>StreamingTV</th>\n",
              "      <th>StreamingMovies</th>\n",
              "      <th>Contract</th>\n",
              "      <th>PaperlessBilling</th>\n",
              "      <th>PaymentMethod</th>\n",
              "      <th>MonthlyCharges</th>\n",
              "      <th>TotalCharges</th>\n",
              "    </tr>\n",
              "  </thead>\n",
              "  <tbody>\n",
              "    <tr>\n",
              "      <th>0</th>\n",
              "      <td>Female</td>\n",
              "      <td>No</td>\n",
              "      <td>Yes</td>\n",
              "      <td>No</td>\n",
              "      <td>1</td>\n",
              "      <td>No</td>\n",
              "      <td>No_phone_service</td>\n",
              "      <td>DSL</td>\n",
              "      <td>No</td>\n",
              "      <td>Yes</td>\n",
              "      <td>No</td>\n",
              "      <td>No</td>\n",
              "      <td>No</td>\n",
              "      <td>No</td>\n",
              "      <td>Month-to-month</td>\n",
              "      <td>Yes</td>\n",
              "      <td>Electronic_check</td>\n",
              "      <td>29.85</td>\n",
              "      <td>29.85</td>\n",
              "    </tr>\n",
              "    <tr>\n",
              "      <th>1</th>\n",
              "      <td>Male</td>\n",
              "      <td>No</td>\n",
              "      <td>No</td>\n",
              "      <td>No</td>\n",
              "      <td>34</td>\n",
              "      <td>Yes</td>\n",
              "      <td>No</td>\n",
              "      <td>DSL</td>\n",
              "      <td>Yes</td>\n",
              "      <td>No</td>\n",
              "      <td>Yes</td>\n",
              "      <td>No</td>\n",
              "      <td>No</td>\n",
              "      <td>No</td>\n",
              "      <td>One_year</td>\n",
              "      <td>No</td>\n",
              "      <td>Mailed_check</td>\n",
              "      <td>56.95</td>\n",
              "      <td>1889.50</td>\n",
              "    </tr>\n",
              "    <tr>\n",
              "      <th>2</th>\n",
              "      <td>Male</td>\n",
              "      <td>No</td>\n",
              "      <td>No</td>\n",
              "      <td>No</td>\n",
              "      <td>2</td>\n",
              "      <td>Yes</td>\n",
              "      <td>No</td>\n",
              "      <td>DSL</td>\n",
              "      <td>Yes</td>\n",
              "      <td>Yes</td>\n",
              "      <td>No</td>\n",
              "      <td>No</td>\n",
              "      <td>No</td>\n",
              "      <td>No</td>\n",
              "      <td>Month-to-month</td>\n",
              "      <td>Yes</td>\n",
              "      <td>Mailed_check</td>\n",
              "      <td>53.85</td>\n",
              "      <td>108.15</td>\n",
              "    </tr>\n",
              "    <tr>\n",
              "      <th>3</th>\n",
              "      <td>Male</td>\n",
              "      <td>No</td>\n",
              "      <td>No</td>\n",
              "      <td>No</td>\n",
              "      <td>45</td>\n",
              "      <td>No</td>\n",
              "      <td>No_phone_service</td>\n",
              "      <td>DSL</td>\n",
              "      <td>Yes</td>\n",
              "      <td>No</td>\n",
              "      <td>Yes</td>\n",
              "      <td>Yes</td>\n",
              "      <td>No</td>\n",
              "      <td>No</td>\n",
              "      <td>One_year</td>\n",
              "      <td>No</td>\n",
              "      <td>Bank_transfer_(automatic)</td>\n",
              "      <td>42.30</td>\n",
              "      <td>1840.75</td>\n",
              "    </tr>\n",
              "    <tr>\n",
              "      <th>4</th>\n",
              "      <td>Female</td>\n",
              "      <td>No</td>\n",
              "      <td>No</td>\n",
              "      <td>No</td>\n",
              "      <td>2</td>\n",
              "      <td>Yes</td>\n",
              "      <td>No</td>\n",
              "      <td>Fiber_optic</td>\n",
              "      <td>No</td>\n",
              "      <td>No</td>\n",
              "      <td>No</td>\n",
              "      <td>No</td>\n",
              "      <td>No</td>\n",
              "      <td>No</td>\n",
              "      <td>Month-to-month</td>\n",
              "      <td>Yes</td>\n",
              "      <td>Electronic_check</td>\n",
              "      <td>70.70</td>\n",
              "      <td>151.65</td>\n",
              "    </tr>\n",
              "  </tbody>\n",
              "</table>\n",
              "</div>\n",
              "      <button class=\"colab-df-convert\" onclick=\"convertToInteractive('df-2ee014db-01b3-4096-bbd9-801e7743fe18')\"\n",
              "              title=\"Convert this dataframe to an interactive table.\"\n",
              "              style=\"display:none;\">\n",
              "        \n",
              "  <svg xmlns=\"http://www.w3.org/2000/svg\" height=\"24px\"viewBox=\"0 0 24 24\"\n",
              "       width=\"24px\">\n",
              "    <path d=\"M0 0h24v24H0V0z\" fill=\"none\"/>\n",
              "    <path d=\"M18.56 5.44l.94 2.06.94-2.06 2.06-.94-2.06-.94-.94-2.06-.94 2.06-2.06.94zm-11 1L8.5 8.5l.94-2.06 2.06-.94-2.06-.94L8.5 2.5l-.94 2.06-2.06.94zm10 10l.94 2.06.94-2.06 2.06-.94-2.06-.94-.94-2.06-.94 2.06-2.06.94z\"/><path d=\"M17.41 7.96l-1.37-1.37c-.4-.4-.92-.59-1.43-.59-.52 0-1.04.2-1.43.59L10.3 9.45l-7.72 7.72c-.78.78-.78 2.05 0 2.83L4 21.41c.39.39.9.59 1.41.59.51 0 1.02-.2 1.41-.59l7.78-7.78 2.81-2.81c.8-.78.8-2.07 0-2.86zM5.41 20L4 18.59l7.72-7.72 1.47 1.35L5.41 20z\"/>\n",
              "  </svg>\n",
              "      </button>\n",
              "      \n",
              "  <style>\n",
              "    .colab-df-container {\n",
              "      display:flex;\n",
              "      flex-wrap:wrap;\n",
              "      gap: 12px;\n",
              "    }\n",
              "\n",
              "    .colab-df-convert {\n",
              "      background-color: #E8F0FE;\n",
              "      border: none;\n",
              "      border-radius: 50%;\n",
              "      cursor: pointer;\n",
              "      display: none;\n",
              "      fill: #1967D2;\n",
              "      height: 32px;\n",
              "      padding: 0 0 0 0;\n",
              "      width: 32px;\n",
              "    }\n",
              "\n",
              "    .colab-df-convert:hover {\n",
              "      background-color: #E2EBFA;\n",
              "      box-shadow: 0px 1px 2px rgba(60, 64, 67, 0.3), 0px 1px 3px 1px rgba(60, 64, 67, 0.15);\n",
              "      fill: #174EA6;\n",
              "    }\n",
              "\n",
              "    [theme=dark] .colab-df-convert {\n",
              "      background-color: #3B4455;\n",
              "      fill: #D2E3FC;\n",
              "    }\n",
              "\n",
              "    [theme=dark] .colab-df-convert:hover {\n",
              "      background-color: #434B5C;\n",
              "      box-shadow: 0px 1px 3px 1px rgba(0, 0, 0, 0.15);\n",
              "      filter: drop-shadow(0px 1px 2px rgba(0, 0, 0, 0.3));\n",
              "      fill: #FFFFFF;\n",
              "    }\n",
              "  </style>\n",
              "\n",
              "      <script>\n",
              "        const buttonEl =\n",
              "          document.querySelector('#df-2ee014db-01b3-4096-bbd9-801e7743fe18 button.colab-df-convert');\n",
              "        buttonEl.style.display =\n",
              "          google.colab.kernel.accessAllowed ? 'block' : 'none';\n",
              "\n",
              "        async function convertToInteractive(key) {\n",
              "          const element = document.querySelector('#df-2ee014db-01b3-4096-bbd9-801e7743fe18');\n",
              "          const dataTable =\n",
              "            await google.colab.kernel.invokeFunction('convertToInteractive',\n",
              "                                                     [key], {});\n",
              "          if (!dataTable) return;\n",
              "\n",
              "          const docLinkHtml = 'Like what you see? Visit the ' +\n",
              "            '<a target=\"_blank\" href=https://colab.research.google.com/notebooks/data_table.ipynb>data table notebook</a>'\n",
              "            + ' to learn more about interactive tables.';\n",
              "          element.innerHTML = '';\n",
              "          dataTable['output_type'] = 'display_data';\n",
              "          await google.colab.output.renderOutput(dataTable, element);\n",
              "          const docLink = document.createElement('div');\n",
              "          docLink.innerHTML = docLinkHtml;\n",
              "          element.appendChild(docLink);\n",
              "        }\n",
              "      </script>\n",
              "    </div>\n",
              "  </div>\n",
              "  "
            ]
          },
          "metadata": {},
          "execution_count": 36
        }
      ]
    },
    {
      "cell_type": "code",
      "source": [
        "One_HOT_COl = X.describe(include=object).columns"
      ],
      "metadata": {
        "id": "bS7SlcoiGU11"
      },
      "execution_count": 37,
      "outputs": []
    },
    {
      "cell_type": "markdown",
      "source": [
        "## Get Dummies (One HOT)"
      ],
      "metadata": {
        "id": "-gFQe8s8GVI_"
      }
    },
    {
      "cell_type": "code",
      "source": [
        "X_encoded = pd.get_dummies(data=X,prefix_sep=\"_\", columns= One_HOT_COl)"
      ],
      "metadata": {
        "id": "iyQ8phECGZ2V"
      },
      "execution_count": 38,
      "outputs": []
    },
    {
      "cell_type": "code",
      "source": [
        "X_encoded.head()"
      ],
      "metadata": {
        "colab": {
          "base_uri": "https://localhost:8080/",
          "height": 317
        },
        "id": "dxWdUHY9G9M3",
        "outputId": "5a41af50-426f-4509-d433-a85ca5156a40"
      },
      "execution_count": 39,
      "outputs": [
        {
          "output_type": "execute_result",
          "data": {
            "text/plain": [
              "   tenure  MonthlyCharges  TotalCharges  gender_Female  gender_Male  \\\n",
              "0       1           29.85         29.85              1            0   \n",
              "1      34           56.95       1889.50              0            1   \n",
              "2       2           53.85        108.15              0            1   \n",
              "3      45           42.30       1840.75              0            1   \n",
              "4       2           70.70        151.65              1            0   \n",
              "\n",
              "   SeniorCitizen_No  SeniorCitizen_Yes  Partner_No  Partner_Yes  \\\n",
              "0                 1                  0           0            1   \n",
              "1                 1                  0           1            0   \n",
              "2                 1                  0           1            0   \n",
              "3                 1                  0           1            0   \n",
              "4                 1                  0           1            0   \n",
              "\n",
              "   Dependents_No  ...  StreamingMovies_Yes  Contract_Month-to-month  \\\n",
              "0              1  ...                    0                        1   \n",
              "1              1  ...                    0                        0   \n",
              "2              1  ...                    0                        1   \n",
              "3              1  ...                    0                        0   \n",
              "4              1  ...                    0                        1   \n",
              "\n",
              "   Contract_One_year  Contract_Two_year  PaperlessBilling_No  \\\n",
              "0                  0                  0                    0   \n",
              "1                  1                  0                    1   \n",
              "2                  0                  0                    0   \n",
              "3                  1                  0                    1   \n",
              "4                  0                  0                    0   \n",
              "\n",
              "   PaperlessBilling_Yes  PaymentMethod_Bank_transfer_(automatic)  \\\n",
              "0                     1                                        0   \n",
              "1                     0                                        0   \n",
              "2                     1                                        0   \n",
              "3                     0                                        1   \n",
              "4                     1                                        0   \n",
              "\n",
              "   PaymentMethod_Credit_card_(automatic)  PaymentMethod_Electronic_check  \\\n",
              "0                                      0                               1   \n",
              "1                                      0                               0   \n",
              "2                                      0                               0   \n",
              "3                                      0                               0   \n",
              "4                                      0                               1   \n",
              "\n",
              "   PaymentMethod_Mailed_check  \n",
              "0                           0  \n",
              "1                           1  \n",
              "2                           1  \n",
              "3                           0  \n",
              "4                           0  \n",
              "\n",
              "[5 rows x 46 columns]"
            ],
            "text/html": [
              "\n",
              "  <div id=\"df-7e9a2316-853a-4b06-9aa4-f4ca6a80e532\">\n",
              "    <div class=\"colab-df-container\">\n",
              "      <div>\n",
              "<style scoped>\n",
              "    .dataframe tbody tr th:only-of-type {\n",
              "        vertical-align: middle;\n",
              "    }\n",
              "\n",
              "    .dataframe tbody tr th {\n",
              "        vertical-align: top;\n",
              "    }\n",
              "\n",
              "    .dataframe thead th {\n",
              "        text-align: right;\n",
              "    }\n",
              "</style>\n",
              "<table border=\"1\" class=\"dataframe\">\n",
              "  <thead>\n",
              "    <tr style=\"text-align: right;\">\n",
              "      <th></th>\n",
              "      <th>tenure</th>\n",
              "      <th>MonthlyCharges</th>\n",
              "      <th>TotalCharges</th>\n",
              "      <th>gender_Female</th>\n",
              "      <th>gender_Male</th>\n",
              "      <th>SeniorCitizen_No</th>\n",
              "      <th>SeniorCitizen_Yes</th>\n",
              "      <th>Partner_No</th>\n",
              "      <th>Partner_Yes</th>\n",
              "      <th>Dependents_No</th>\n",
              "      <th>...</th>\n",
              "      <th>StreamingMovies_Yes</th>\n",
              "      <th>Contract_Month-to-month</th>\n",
              "      <th>Contract_One_year</th>\n",
              "      <th>Contract_Two_year</th>\n",
              "      <th>PaperlessBilling_No</th>\n",
              "      <th>PaperlessBilling_Yes</th>\n",
              "      <th>PaymentMethod_Bank_transfer_(automatic)</th>\n",
              "      <th>PaymentMethod_Credit_card_(automatic)</th>\n",
              "      <th>PaymentMethod_Electronic_check</th>\n",
              "      <th>PaymentMethod_Mailed_check</th>\n",
              "    </tr>\n",
              "  </thead>\n",
              "  <tbody>\n",
              "    <tr>\n",
              "      <th>0</th>\n",
              "      <td>1</td>\n",
              "      <td>29.85</td>\n",
              "      <td>29.85</td>\n",
              "      <td>1</td>\n",
              "      <td>0</td>\n",
              "      <td>1</td>\n",
              "      <td>0</td>\n",
              "      <td>0</td>\n",
              "      <td>1</td>\n",
              "      <td>1</td>\n",
              "      <td>...</td>\n",
              "      <td>0</td>\n",
              "      <td>1</td>\n",
              "      <td>0</td>\n",
              "      <td>0</td>\n",
              "      <td>0</td>\n",
              "      <td>1</td>\n",
              "      <td>0</td>\n",
              "      <td>0</td>\n",
              "      <td>1</td>\n",
              "      <td>0</td>\n",
              "    </tr>\n",
              "    <tr>\n",
              "      <th>1</th>\n",
              "      <td>34</td>\n",
              "      <td>56.95</td>\n",
              "      <td>1889.50</td>\n",
              "      <td>0</td>\n",
              "      <td>1</td>\n",
              "      <td>1</td>\n",
              "      <td>0</td>\n",
              "      <td>1</td>\n",
              "      <td>0</td>\n",
              "      <td>1</td>\n",
              "      <td>...</td>\n",
              "      <td>0</td>\n",
              "      <td>0</td>\n",
              "      <td>1</td>\n",
              "      <td>0</td>\n",
              "      <td>1</td>\n",
              "      <td>0</td>\n",
              "      <td>0</td>\n",
              "      <td>0</td>\n",
              "      <td>0</td>\n",
              "      <td>1</td>\n",
              "    </tr>\n",
              "    <tr>\n",
              "      <th>2</th>\n",
              "      <td>2</td>\n",
              "      <td>53.85</td>\n",
              "      <td>108.15</td>\n",
              "      <td>0</td>\n",
              "      <td>1</td>\n",
              "      <td>1</td>\n",
              "      <td>0</td>\n",
              "      <td>1</td>\n",
              "      <td>0</td>\n",
              "      <td>1</td>\n",
              "      <td>...</td>\n",
              "      <td>0</td>\n",
              "      <td>1</td>\n",
              "      <td>0</td>\n",
              "      <td>0</td>\n",
              "      <td>0</td>\n",
              "      <td>1</td>\n",
              "      <td>0</td>\n",
              "      <td>0</td>\n",
              "      <td>0</td>\n",
              "      <td>1</td>\n",
              "    </tr>\n",
              "    <tr>\n",
              "      <th>3</th>\n",
              "      <td>45</td>\n",
              "      <td>42.30</td>\n",
              "      <td>1840.75</td>\n",
              "      <td>0</td>\n",
              "      <td>1</td>\n",
              "      <td>1</td>\n",
              "      <td>0</td>\n",
              "      <td>1</td>\n",
              "      <td>0</td>\n",
              "      <td>1</td>\n",
              "      <td>...</td>\n",
              "      <td>0</td>\n",
              "      <td>0</td>\n",
              "      <td>1</td>\n",
              "      <td>0</td>\n",
              "      <td>1</td>\n",
              "      <td>0</td>\n",
              "      <td>1</td>\n",
              "      <td>0</td>\n",
              "      <td>0</td>\n",
              "      <td>0</td>\n",
              "    </tr>\n",
              "    <tr>\n",
              "      <th>4</th>\n",
              "      <td>2</td>\n",
              "      <td>70.70</td>\n",
              "      <td>151.65</td>\n",
              "      <td>1</td>\n",
              "      <td>0</td>\n",
              "      <td>1</td>\n",
              "      <td>0</td>\n",
              "      <td>1</td>\n",
              "      <td>0</td>\n",
              "      <td>1</td>\n",
              "      <td>...</td>\n",
              "      <td>0</td>\n",
              "      <td>1</td>\n",
              "      <td>0</td>\n",
              "      <td>0</td>\n",
              "      <td>0</td>\n",
              "      <td>1</td>\n",
              "      <td>0</td>\n",
              "      <td>0</td>\n",
              "      <td>1</td>\n",
              "      <td>0</td>\n",
              "    </tr>\n",
              "  </tbody>\n",
              "</table>\n",
              "<p>5 rows × 46 columns</p>\n",
              "</div>\n",
              "      <button class=\"colab-df-convert\" onclick=\"convertToInteractive('df-7e9a2316-853a-4b06-9aa4-f4ca6a80e532')\"\n",
              "              title=\"Convert this dataframe to an interactive table.\"\n",
              "              style=\"display:none;\">\n",
              "        \n",
              "  <svg xmlns=\"http://www.w3.org/2000/svg\" height=\"24px\"viewBox=\"0 0 24 24\"\n",
              "       width=\"24px\">\n",
              "    <path d=\"M0 0h24v24H0V0z\" fill=\"none\"/>\n",
              "    <path d=\"M18.56 5.44l.94 2.06.94-2.06 2.06-.94-2.06-.94-.94-2.06-.94 2.06-2.06.94zm-11 1L8.5 8.5l.94-2.06 2.06-.94-2.06-.94L8.5 2.5l-.94 2.06-2.06.94zm10 10l.94 2.06.94-2.06 2.06-.94-2.06-.94-.94-2.06-.94 2.06-2.06.94z\"/><path d=\"M17.41 7.96l-1.37-1.37c-.4-.4-.92-.59-1.43-.59-.52 0-1.04.2-1.43.59L10.3 9.45l-7.72 7.72c-.78.78-.78 2.05 0 2.83L4 21.41c.39.39.9.59 1.41.59.51 0 1.02-.2 1.41-.59l7.78-7.78 2.81-2.81c.8-.78.8-2.07 0-2.86zM5.41 20L4 18.59l7.72-7.72 1.47 1.35L5.41 20z\"/>\n",
              "  </svg>\n",
              "      </button>\n",
              "      \n",
              "  <style>\n",
              "    .colab-df-container {\n",
              "      display:flex;\n",
              "      flex-wrap:wrap;\n",
              "      gap: 12px;\n",
              "    }\n",
              "\n",
              "    .colab-df-convert {\n",
              "      background-color: #E8F0FE;\n",
              "      border: none;\n",
              "      border-radius: 50%;\n",
              "      cursor: pointer;\n",
              "      display: none;\n",
              "      fill: #1967D2;\n",
              "      height: 32px;\n",
              "      padding: 0 0 0 0;\n",
              "      width: 32px;\n",
              "    }\n",
              "\n",
              "    .colab-df-convert:hover {\n",
              "      background-color: #E2EBFA;\n",
              "      box-shadow: 0px 1px 2px rgba(60, 64, 67, 0.3), 0px 1px 3px 1px rgba(60, 64, 67, 0.15);\n",
              "      fill: #174EA6;\n",
              "    }\n",
              "\n",
              "    [theme=dark] .colab-df-convert {\n",
              "      background-color: #3B4455;\n",
              "      fill: #D2E3FC;\n",
              "    }\n",
              "\n",
              "    [theme=dark] .colab-df-convert:hover {\n",
              "      background-color: #434B5C;\n",
              "      box-shadow: 0px 1px 3px 1px rgba(0, 0, 0, 0.15);\n",
              "      filter: drop-shadow(0px 1px 2px rgba(0, 0, 0, 0.3));\n",
              "      fill: #FFFFFF;\n",
              "    }\n",
              "  </style>\n",
              "\n",
              "      <script>\n",
              "        const buttonEl =\n",
              "          document.querySelector('#df-7e9a2316-853a-4b06-9aa4-f4ca6a80e532 button.colab-df-convert');\n",
              "        buttonEl.style.display =\n",
              "          google.colab.kernel.accessAllowed ? 'block' : 'none';\n",
              "\n",
              "        async function convertToInteractive(key) {\n",
              "          const element = document.querySelector('#df-7e9a2316-853a-4b06-9aa4-f4ca6a80e532');\n",
              "          const dataTable =\n",
              "            await google.colab.kernel.invokeFunction('convertToInteractive',\n",
              "                                                     [key], {});\n",
              "          if (!dataTable) return;\n",
              "\n",
              "          const docLinkHtml = 'Like what you see? Visit the ' +\n",
              "            '<a target=\"_blank\" href=https://colab.research.google.com/notebooks/data_table.ipynb>data table notebook</a>'\n",
              "            + ' to learn more about interactive tables.';\n",
              "          element.innerHTML = '';\n",
              "          dataTable['output_type'] = 'display_data';\n",
              "          await google.colab.output.renderOutput(dataTable, element);\n",
              "          const docLink = document.createElement('div');\n",
              "          docLink.innerHTML = docLinkHtml;\n",
              "          element.appendChild(docLink);\n",
              "        }\n",
              "      </script>\n",
              "    </div>\n",
              "  </div>\n",
              "  "
            ]
          },
          "metadata": {},
          "execution_count": 39
        }
      ]
    },
    {
      "cell_type": "markdown",
      "source": [
        "## Build a preliminary XGboost Model"
      ],
      "metadata": {
        "id": "TSKNks31HLPV"
      }
    },
    {
      "cell_type": "code",
      "source": [
        "sns.histplot(data=y) ## As you can see Y values are heavily disbalanced"
      ],
      "metadata": {
        "colab": {
          "base_uri": "https://localhost:8080/",
          "height": 629
        },
        "id": "upAf0BO3HEqu",
        "outputId": "19cd22a8-d51c-4f36-d5cd-be5543ef3210"
      },
      "execution_count": 40,
      "outputs": [
        {
          "output_type": "execute_result",
          "data": {
            "text/plain": [
              "<matplotlib.axes._subplots.AxesSubplot at 0x7f4f45c81c10>"
            ]
          },
          "metadata": {},
          "execution_count": 40
        },
        {
          "output_type": "display_data",
          "data": {
            "text/plain": [
              "<Figure size 1440x720 with 1 Axes>"
            ],
            "image/png": "[encoded data removed]"
          },
          "metadata": {}
        }
      ]
    },
    {
      "cell_type": "code",
      "source": [
        "sum(y)/len(y) *100 "
      ],
      "metadata": {
        "colab": {
          "base_uri": "https://localhost:8080/"
        },
        "id": "YT4nyODdIr92",
        "outputId": "738df742-7e12-438d-bf1a-cfdb8afe1c37"
      },
      "execution_count": 41,
      "outputs": [
        {
          "output_type": "execute_result",
          "data": {
            "text/plain": [
              "26.578498293515356"
            ]
          },
          "metadata": {},
          "execution_count": 41
        }
      ]
    },
    {
      "cell_type": "code",
      "source": [
        "from sklearn.model_selection import train_test_split"
      ],
      "metadata": {
        "id": "OezjhGgKHlEW"
      },
      "execution_count": 42,
      "outputs": []
    },
    {
      "cell_type": "code",
      "source": [
        "X_train, X_test, y_train, y_test = train_test_split(X_encoded,y , random_state=42, stratify =y ) # We are statifying Y such that test train have similar Y data as original"
      ],
      "metadata": {
        "id": "I565841zHwme"
      },
      "execution_count": 43,
      "outputs": []
    },
    {
      "cell_type": "code",
      "source": [
        "X_train.shape"
      ],
      "metadata": {
        "colab": {
          "base_uri": "https://localhost:8080/"
        },
        "id": "3YLAbvq5IRsO",
        "outputId": "60934fa8-3938-4906-ef42-39a4860a4957"
      },
      "execution_count": 44,
      "outputs": [
        {
          "output_type": "execute_result",
          "data": {
            "text/plain": [
              "(5274, 46)"
            ]
          },
          "metadata": {},
          "execution_count": 44
        }
      ]
    },
    {
      "cell_type": "code",
      "source": [
        "X_test.shape"
      ],
      "metadata": {
        "colab": {
          "base_uri": "https://localhost:8080/"
        },
        "id": "mbzgfBnUIXRd",
        "outputId": "75c47208-a5cf-4767-9064-b964dbb8e622"
      },
      "execution_count": 45,
      "outputs": [
        {
          "output_type": "execute_result",
          "data": {
            "text/plain": [
              "(1758, 46)"
            ]
          },
          "metadata": {},
          "execution_count": 45
        }
      ]
    },
    {
      "cell_type": "code",
      "source": [
        "sum(y_train)/len(y_train) # Stratifying worked"
      ],
      "metadata": {
        "colab": {
          "base_uri": "https://localhost:8080/"
        },
        "id": "nQ5aPLkGI2F8",
        "outputId": "c26d330c-9072-449a-ae8c-889639d14ae0"
      },
      "execution_count": 46,
      "outputs": [
        {
          "output_type": "execute_result",
          "data": {
            "text/plain": [
              "0.2658323852863102"
            ]
          },
          "metadata": {},
          "execution_count": 46
        }
      ]
    },
    {
      "cell_type": "code",
      "source": [
        "sum(y_test)/len(y_test)"
      ],
      "metadata": {
        "colab": {
          "base_uri": "https://localhost:8080/"
        },
        "id": "iCumfor0JD6k",
        "outputId": "9b3db4ea-b8b7-47b3-beb3-628d6720f11f"
      },
      "execution_count": 47,
      "outputs": [
        {
          "output_type": "execute_result",
          "data": {
            "text/plain": [
              "0.2656427758816837"
            ]
          },
          "metadata": {},
          "execution_count": 47
        }
      ]
    },
    {
      "cell_type": "code",
      "source": [
        "from pandas.core.common import random_state\n",
        "clf_XGB = xgb.XGBClassifier(objective=\"binary:logistic\", seed=42)"
      ],
      "metadata": {
        "id": "WRKCVRz5JH1N"
      },
      "execution_count": 48,
      "outputs": []
    },
    {
      "cell_type": "code",
      "source": [
        "clf_XGB.fit(X_train, y_train, \n",
        "            verbose=True,\n",
        "            early_stopping_rounds=10,\n",
        "            eval_metric=\"aucpr\",\n",
        "            eval_set= [(X_test, y_test)])"
      ],
      "metadata": {
        "colab": {
          "base_uri": "https://localhost:8080/"
        },
        "id": "HO6s_ll7JpbG",
        "outputId": "0a7585c8-3321-4e57-9b97-940bfc990e6e"
      },
      "execution_count": 49,
      "outputs": [
        {
          "output_type": "stream",
          "name": "stdout",
          "text": [
            "[0]\tvalidation_0-aucpr:0.56444\n",
            "Will train until validation_0-aucpr hasn't improved in 10 rounds.\n",
            "[1]\tvalidation_0-aucpr:0.570276\n",
            "[2]\tvalidation_0-aucpr:0.593737\n",
            "[3]\tvalidation_0-aucpr:0.595333\n",
            "[4]\tvalidation_0-aucpr:0.598776\n",
            "[5]\tvalidation_0-aucpr:0.596215\n",
            "[6]\tvalidation_0-aucpr:0.597173\n",
            "[7]\tvalidation_0-aucpr:0.62558\n",
            "[8]\tvalidation_0-aucpr:0.625487\n",
            "[9]\tvalidation_0-aucpr:0.626427\n",
            "[10]\tvalidation_0-aucpr:0.632234\n",
            "[11]\tvalidation_0-aucpr:0.633184\n",
            "[12]\tvalidation_0-aucpr:0.635384\n",
            "[13]\tvalidation_0-aucpr:0.641766\n",
            "[14]\tvalidation_0-aucpr:0.645125\n",
            "[15]\tvalidation_0-aucpr:0.645573\n",
            "[16]\tvalidation_0-aucpr:0.64711\n",
            "[17]\tvalidation_0-aucpr:0.647258\n",
            "[18]\tvalidation_0-aucpr:0.648837\n",
            "[19]\tvalidation_0-aucpr:0.648829\n",
            "[20]\tvalidation_0-aucpr:0.650257\n",
            "[21]\tvalidation_0-aucpr:0.651288\n",
            "[22]\tvalidation_0-aucpr:0.651982\n",
            "[23]\tvalidation_0-aucpr:0.651876\n",
            "[24]\tvalidation_0-aucpr:0.651356\n",
            "[25]\tvalidation_0-aucpr:0.652021\n",
            "[26]\tvalidation_0-aucpr:0.652761\n",
            "[27]\tvalidation_0-aucpr:0.653898\n",
            "[28]\tvalidation_0-aucpr:0.655403\n",
            "[29]\tvalidation_0-aucpr:0.655622\n",
            "[30]\tvalidation_0-aucpr:0.654188\n",
            "[31]\tvalidation_0-aucpr:0.656236\n",
            "[32]\tvalidation_0-aucpr:0.656841\n",
            "[33]\tvalidation_0-aucpr:0.656729\n",
            "[34]\tvalidation_0-aucpr:0.65707\n",
            "[35]\tvalidation_0-aucpr:0.656245\n",
            "[36]\tvalidation_0-aucpr:0.657565\n",
            "[37]\tvalidation_0-aucpr:0.657942\n",
            "[38]\tvalidation_0-aucpr:0.656935\n",
            "[39]\tvalidation_0-aucpr:0.657055\n",
            "[40]\tvalidation_0-aucpr:0.657331\n",
            "[41]\tvalidation_0-aucpr:0.657097\n",
            "[42]\tvalidation_0-aucpr:0.657206\n",
            "[43]\tvalidation_0-aucpr:0.65692\n",
            "[44]\tvalidation_0-aucpr:0.656571\n",
            "[45]\tvalidation_0-aucpr:0.656228\n",
            "[46]\tvalidation_0-aucpr:0.656398\n",
            "[47]\tvalidation_0-aucpr:0.656046\n",
            "Stopping. Best iteration:\n",
            "[37]\tvalidation_0-aucpr:0.657942\n",
            "\n"
          ]
        },
        {
          "output_type": "execute_result",
          "data": {
            "text/plain": [
              "XGBClassifier(seed=42)"
            ]
          },
          "metadata": {},
          "execution_count": 49
        }
      ]
    },
    {
      "cell_type": "code",
      "source": [
        "from sklearn.metrics import plot_confusion_matrix\n",
        "plot_confusion_matrix(clf_XGB, X_test, y_test)\n",
        "plt.show()"
      ],
      "metadata": {
        "colab": {
          "base_uri": "https://localhost:8080/",
          "height": 667
        },
        "id": "Hi27vjd_LQA2",
        "outputId": "f8b7a6cd-45fd-4ecc-fe42-af0f2f3bc85f"
      },
      "execution_count": 50,
      "outputs": [
        {
          "output_type": "stream",
          "name": "stderr",
          "text": [
            "/usr/local/lib/python3.7/dist-packages/sklearn/utils/deprecation.py:87: FutureWarning: Function plot_confusion_matrix is deprecated; Function `plot_confusion_matrix` is deprecated in 1.0 and will be removed in 1.2. Use one of the class methods: ConfusionMatrixDisplay.from_predictions or ConfusionMatrixDisplay.from_estimator.\n",
            "  warnings.warn(msg, category=FutureWarning)\n"
          ]
        },
        {
          "output_type": "display_data",
          "data": {
            "text/plain": [
              "<Figure size 1440x720 with 2 Axes>"
            ],
            "image/png": "[encoded data removed]"
          },
          "metadata": {}
        }
      ]
    },
    {
      "cell_type": "markdown",
      "source": [
        "**Clearly model is not able to predict people who left very accurately**"
      ],
      "metadata": {
        "id": "ei9rnHDRVEAC"
      }
    },
    {
      "cell_type": "code",
      "source": [
        "from sklearn.metrics import confusion_matrix\n",
        "\n",
        "y_pred =clf_XGB.predict(X_test)\n",
        "\n",
        "cm=confusion_matrix(y_test, y_pred)"
      ],
      "metadata": {
        "id": "Qv0RUbV5oEKr"
      },
      "execution_count": 51,
      "outputs": []
    },
    {
      "cell_type": "code",
      "source": [
        "tn, fp, fn, tp = cm.ravel()"
      ],
      "metadata": {
        "id": "hSSd09z_o1L8"
      },
      "execution_count": 52,
      "outputs": []
    },
    {
      "cell_type": "code",
      "source": [
        "print(\"True Postive : \", tp)\n",
        "print(\"True Negative : \", tn)\n",
        "print(\"False Postive :\", fp)\n",
        "print(\"False negative :\", fn)"
      ],
      "metadata": {
        "colab": {
          "base_uri": "https://localhost:8080/"
        },
        "id": "C9f26J7Go94R",
        "outputId": "f70fb84a-2ef8-4b59-fbd2-b0dc513a8b96"
      },
      "execution_count": 53,
      "outputs": [
        {
          "output_type": "stream",
          "name": "stdout",
          "text": [
            "True Postive :  225\n",
            "True Negative :  1166\n",
            "False Postive : 125\n",
            "False negative : 242\n"
          ]
        }
      ]
    },
    {
      "cell_type": "code",
      "source": [
        "from sklearn.metrics import f1_score\n",
        "f1_score(y_test, y_pred, average='weighted')"
      ],
      "metadata": {
        "colab": {
          "base_uri": "https://localhost:8080/"
        },
        "id": "GUUXM3rLpcYy",
        "outputId": "bb7a3a1a-1e76-4f80-a4ab-41fcb2c8e653"
      },
      "execution_count": 54,
      "outputs": [
        {
          "output_type": "execute_result",
          "data": {
            "text/plain": [
              "0.780816925510367"
            ]
          },
          "metadata": {},
          "execution_count": 54
        }
      ]
    },
    {
      "cell_type": "code",
      "source": [
        "from sklearn import metrics\n",
        "print(metrics.classification_report(y_test, y_pred))"
      ],
      "metadata": {
        "colab": {
          "base_uri": "https://localhost:8080/"
        },
        "id": "gI10CURXWIOB",
        "outputId": "7c596437-4a4e-4499-8c8e-12de94ad11d1"
      },
      "execution_count": 75,
      "outputs": [
        {
          "output_type": "stream",
          "name": "stdout",
          "text": [
            "              precision    recall  f1-score   support\n",
            "\n",
            "           0       0.83      0.90      0.86      1291\n",
            "           1       0.64      0.48      0.55       467\n",
            "\n",
            "    accuracy                           0.79      1758\n",
            "   macro avg       0.74      0.69      0.71      1758\n",
            "weighted avg       0.78      0.79      0.78      1758\n",
            "\n"
          ]
        }
      ]
    },
    {
      "cell_type": "code",
      "source": [
        ""
      ],
      "metadata": {
        "id": "-hPfu4feW1kK"
      },
      "execution_count": null,
      "outputs": []
    },
    {
      "cell_type": "markdown",
      "source": [
        "## Optimization using GridSearchCv and Cross-validation"
      ],
      "metadata": {
        "id": "hXUHoB4sJF6Y"
      }
    },
    {
      "cell_type": "code",
      "source": [
        "from sklearn.model_selection import GridSearchCV\n",
        "\n",
        "parameters = {'max_depth':[3,4,5], \n",
        "              'learning_rate':[0.1 ,0.5, 0.75],\n",
        "              \"gamma\": [0.25, 1.0],\n",
        "              \"min_child_weight\":  [1,5],\n",
        "              \"reg_lambda\": [0,1.0, 10.0,20.0],\n",
        "              \"scale_pos_weight\": [1,3,5]}"
      ],
      "metadata": {
        "id": "vyjtuTRVII1n"
      },
      "execution_count": 61,
      "outputs": []
    },
    {
      "cell_type": "code",
      "source": [
        "optimal_params = GridSearchCV(\n",
        "    estimator= xgb.XGBClassifier(objective = \"binary:logistic\",\n",
        "                                seed=42,\n",
        "                                 subsample=0.9,\n",
        "                                 colsample_bytree=0.5),\n",
        "                              param_grid=parameters ,\n",
        "                              scoring = \"roc_auc\",\n",
        "                              verbose=1,\n",
        "                              n_jobs=10,\n",
        "                              cv=5\n",
        ")"
      ],
      "metadata": {
        "id": "VmIUSUm2Pw2N"
      },
      "execution_count": 62,
      "outputs": []
    },
    {
      "cell_type": "code",
      "source": [
        "optimal_params"
      ],
      "metadata": {
        "colab": {
          "base_uri": "https://localhost:8080/"
        },
        "id": "XBwGq6a8Q_3j",
        "outputId": "b789446c-7198-4bed-bb15-03721331ee4d"
      },
      "execution_count": 63,
      "outputs": [
        {
          "output_type": "execute_result",
          "data": {
            "text/plain": [
              "GridSearchCV(cv=5,\n",
              "             estimator=XGBClassifier(colsample_bytree=0.5, seed=42,\n",
              "                                     subsample=0.9),\n",
              "             n_jobs=10,\n",
              "             param_grid={'gamma': [0.25, 1.0],\n",
              "                         'learning_rate': [0.1, 0.5, 0.75],\n",
              "                         'max_depth': [3, 4, 5], 'min_child_weight': [1, 5],\n",
              "                         'reg_lambda': [0, 1.0, 10.0, 20.0],\n",
              "                         'scale_pos_weight': [1, 3, 5]},\n",
              "             scoring='roc_auc', verbose=1)"
            ]
          },
          "metadata": {},
          "execution_count": 63
        }
      ]
    },
    {
      "cell_type": "code",
      "source": [
        "optimal_params.fit(X_train, y_train) # Run only once, takes tooooooooo long"
      ],
      "metadata": {
        "colab": {
          "base_uri": "https://localhost:8080/"
        },
        "id": "Kbp5YwPvRI1D",
        "outputId": "35ef05fb-0377-4846-8bc4-911da67676ca"
      },
      "execution_count": 64,
      "outputs": [
        {
          "output_type": "stream",
          "name": "stdout",
          "text": [
            "Fitting 5 folds for each of 432 candidates, totalling 2160 fits\n"
          ]
        },
        {
          "output_type": "execute_result",
          "data": {
            "text/plain": [
              "GridSearchCV(cv=5,\n",
              "             estimator=XGBClassifier(colsample_bytree=0.5, seed=42,\n",
              "                                     subsample=0.9),\n",
              "             n_jobs=10,\n",
              "             param_grid={'gamma': [0.25, 1.0],\n",
              "                         'learning_rate': [0.1, 0.5, 0.75],\n",
              "                         'max_depth': [3, 4, 5], 'min_child_weight': [1, 5],\n",
              "                         'reg_lambda': [0, 1.0, 10.0, 20.0],\n",
              "                         'scale_pos_weight': [1, 3, 5]},\n",
              "             scoring='roc_auc', verbose=1)"
            ]
          },
          "metadata": {},
          "execution_count": 64
        }
      ]
    },
    {
      "cell_type": "code",
      "source": [
        "print(optimal_params.best_params_)"
      ],
      "metadata": {
        "colab": {
          "base_uri": "https://localhost:8080/"
        },
        "id": "TvEUrh7_Sjhr",
        "outputId": "313e1b58-5b6e-449f-b5dc-fa8d2a6b344b"
      },
      "execution_count": 65,
      "outputs": [
        {
          "output_type": "stream",
          "name": "stdout",
          "text": [
            "{'gamma': 0.25, 'learning_rate': 0.1, 'max_depth': 3, 'min_child_weight': 1, 'reg_lambda': 20.0, 'scale_pos_weight': 1}\n"
          ]
        }
      ]
    },
    {
      "cell_type": "code",
      "source": [
        "means=optimal_params.cv_results_[\"mean_test_score\"]"
      ],
      "metadata": {
        "id": "ZxVCQdSxVixR"
      },
      "execution_count": 68,
      "outputs": []
    },
    {
      "cell_type": "code",
      "source": [
        "stds = optimal_params.cv_results_[\"std_test_score\"]"
      ],
      "metadata": {
        "id": "DyJiDRqdV5MB"
      },
      "execution_count": 69,
      "outputs": []
    },
    {
      "cell_type": "code",
      "source": [
        "for mean, std, params in zip(means, stds, optimal_params.cv_results_[\"params\"]):\n",
        "  print(\"%0.3f (+/-%0.03f) for %r\" % (mean, std * 2, params))\n",
        " "
      ],
      "metadata": {
        "colab": {
          "base_uri": "https://localhost:8080/"
        },
        "id": "FXLc_3giW2fI",
        "outputId": "4e4c26c7-e41e-440b-f6f4-8ea9c22171cd"
      },
      "execution_count": 76,
      "outputs": [
        {
          "output_type": "stream",
          "name": "stdout",
          "text": [
            "0.849 (+/-0.017) for {'gamma': 0.25, 'learning_rate': 0.1, 'max_depth': 3, 'min_child_weight': 1, 'reg_lambda': 0, 'scale_pos_weight': 1}\n",
            "0.847 (+/-0.018) for {'gamma': 0.25, 'learning_rate': 0.1, 'max_depth': 3, 'min_child_weight': 1, 'reg_lambda': 0, 'scale_pos_weight': 3}\n",
            "0.845 (+/-0.018) for {'gamma': 0.25, 'learning_rate': 0.1, 'max_depth': 3, 'min_child_weight': 1, 'reg_lambda': 0, 'scale_pos_weight': 5}\n",
            "0.849 (+/-0.018) for {'gamma': 0.25, 'learning_rate': 0.1, 'max_depth': 3, 'min_child_weight': 1, 'reg_lambda': 1.0, 'scale_pos_weight': 1}\n",
            "0.848 (+/-0.019) for {'gamma': 0.25, 'learning_rate': 0.1, 'max_depth': 3, 'min_child_weight': 1, 'reg_lambda': 1.0, 'scale_pos_weight': 3}\n",
            "0.846 (+/-0.019) for {'gamma': 0.25, 'learning_rate': 0.1, 'max_depth': 3, 'min_child_weight': 1, 'reg_lambda': 1.0, 'scale_pos_weight': 5}\n",
            "0.850 (+/-0.018) for {'gamma': 0.25, 'learning_rate': 0.1, 'max_depth': 3, 'min_child_weight': 1, 'reg_lambda': 10.0, 'scale_pos_weight': 1}\n",
            "0.848 (+/-0.018) for {'gamma': 0.25, 'learning_rate': 0.1, 'max_depth': 3, 'min_child_weight': 1, 'reg_lambda': 10.0, 'scale_pos_weight': 3}\n",
            "0.848 (+/-0.018) for {'gamma': 0.25, 'learning_rate': 0.1, 'max_depth': 3, 'min_child_weight': 1, 'reg_lambda': 10.0, 'scale_pos_weight': 5}\n",
            "0.850 (+/-0.017) for {'gamma': 0.25, 'learning_rate': 0.1, 'max_depth': 3, 'min_child_weight': 1, 'reg_lambda': 20.0, 'scale_pos_weight': 1}\n",
            "0.849 (+/-0.017) for {'gamma': 0.25, 'learning_rate': 0.1, 'max_depth': 3, 'min_child_weight': 1, 'reg_lambda': 20.0, 'scale_pos_weight': 3}\n",
            "0.849 (+/-0.018) for {'gamma': 0.25, 'learning_rate': 0.1, 'max_depth': 3, 'min_child_weight': 1, 'reg_lambda': 20.0, 'scale_pos_weight': 5}\n",
            "0.848 (+/-0.018) for {'gamma': 0.25, 'learning_rate': 0.1, 'max_depth': 3, 'min_child_weight': 5, 'reg_lambda': 0, 'scale_pos_weight': 1}\n",
            "0.847 (+/-0.018) for {'gamma': 0.25, 'learning_rate': 0.1, 'max_depth': 3, 'min_child_weight': 5, 'reg_lambda': 0, 'scale_pos_weight': 3}\n",
            "0.847 (+/-0.019) for {'gamma': 0.25, 'learning_rate': 0.1, 'max_depth': 3, 'min_child_weight': 5, 'reg_lambda': 0, 'scale_pos_weight': 5}\n",
            "0.848 (+/-0.018) for {'gamma': 0.25, 'learning_rate': 0.1, 'max_depth': 3, 'min_child_weight': 5, 'reg_lambda': 1.0, 'scale_pos_weight': 1}\n",
            "0.847 (+/-0.018) for {'gamma': 0.25, 'learning_rate': 0.1, 'max_depth': 3, 'min_child_weight': 5, 'reg_lambda': 1.0, 'scale_pos_weight': 3}\n",
            "0.847 (+/-0.018) for {'gamma': 0.25, 'learning_rate': 0.1, 'max_depth': 3, 'min_child_weight': 5, 'reg_lambda': 1.0, 'scale_pos_weight': 5}\n",
            "0.849 (+/-0.018) for {'gamma': 0.25, 'learning_rate': 0.1, 'max_depth': 3, 'min_child_weight': 5, 'reg_lambda': 10.0, 'scale_pos_weight': 1}\n",
            "0.848 (+/-0.018) for {'gamma': 0.25, 'learning_rate': 0.1, 'max_depth': 3, 'min_child_weight': 5, 'reg_lambda': 10.0, 'scale_pos_weight': 3}\n",
            "0.848 (+/-0.018) for {'gamma': 0.25, 'learning_rate': 0.1, 'max_depth': 3, 'min_child_weight': 5, 'reg_lambda': 10.0, 'scale_pos_weight': 5}\n",
            "0.850 (+/-0.017) for {'gamma': 0.25, 'learning_rate': 0.1, 'max_depth': 3, 'min_child_weight': 5, 'reg_lambda': 20.0, 'scale_pos_weight': 1}\n",
            "0.849 (+/-0.017) for {'gamma': 0.25, 'learning_rate': 0.1, 'max_depth': 3, 'min_child_weight': 5, 'reg_lambda': 20.0, 'scale_pos_weight': 3}\n",
            "0.849 (+/-0.018) for {'gamma': 0.25, 'learning_rate': 0.1, 'max_depth': 3, 'min_child_weight': 5, 'reg_lambda': 20.0, 'scale_pos_weight': 5}\n",
            "0.845 (+/-0.020) for {'gamma': 0.25, 'learning_rate': 0.1, 'max_depth': 4, 'min_child_weight': 1, 'reg_lambda': 0, 'scale_pos_weight': 1}\n",
            "0.846 (+/-0.020) for {'gamma': 0.25, 'learning_rate': 0.1, 'max_depth': 4, 'min_child_weight': 1, 'reg_lambda': 0, 'scale_pos_weight': 3}\n",
            "0.843 (+/-0.021) for {'gamma': 0.25, 'learning_rate': 0.1, 'max_depth': 4, 'min_child_weight': 1, 'reg_lambda': 0, 'scale_pos_weight': 5}\n",
            "0.845 (+/-0.019) for {'gamma': 0.25, 'learning_rate': 0.1, 'max_depth': 4, 'min_child_weight': 1, 'reg_lambda': 1.0, 'scale_pos_weight': 1}\n",
            "0.846 (+/-0.018) for {'gamma': 0.25, 'learning_rate': 0.1, 'max_depth': 4, 'min_child_weight': 1, 'reg_lambda': 1.0, 'scale_pos_weight': 3}\n",
            "0.845 (+/-0.017) for {'gamma': 0.25, 'learning_rate': 0.1, 'max_depth': 4, 'min_child_weight': 1, 'reg_lambda': 1.0, 'scale_pos_weight': 5}\n",
            "0.848 (+/-0.019) for {'gamma': 0.25, 'learning_rate': 0.1, 'max_depth': 4, 'min_child_weight': 1, 'reg_lambda': 10.0, 'scale_pos_weight': 1}\n",
            "0.847 (+/-0.016) for {'gamma': 0.25, 'learning_rate': 0.1, 'max_depth': 4, 'min_child_weight': 1, 'reg_lambda': 10.0, 'scale_pos_weight': 3}\n",
            "0.847 (+/-0.020) for {'gamma': 0.25, 'learning_rate': 0.1, 'max_depth': 4, 'min_child_weight': 1, 'reg_lambda': 10.0, 'scale_pos_weight': 5}\n",
            "0.848 (+/-0.018) for {'gamma': 0.25, 'learning_rate': 0.1, 'max_depth': 4, 'min_child_weight': 1, 'reg_lambda': 20.0, 'scale_pos_weight': 1}\n",
            "0.848 (+/-0.018) for {'gamma': 0.25, 'learning_rate': 0.1, 'max_depth': 4, 'min_child_weight': 1, 'reg_lambda': 20.0, 'scale_pos_weight': 3}\n",
            "0.848 (+/-0.017) for {'gamma': 0.25, 'learning_rate': 0.1, 'max_depth': 4, 'min_child_weight': 1, 'reg_lambda': 20.0, 'scale_pos_weight': 5}\n",
            "0.845 (+/-0.018) for {'gamma': 0.25, 'learning_rate': 0.1, 'max_depth': 4, 'min_child_weight': 5, 'reg_lambda': 0, 'scale_pos_weight': 1}\n",
            "0.846 (+/-0.018) for {'gamma': 0.25, 'learning_rate': 0.1, 'max_depth': 4, 'min_child_weight': 5, 'reg_lambda': 0, 'scale_pos_weight': 3}\n",
            "0.844 (+/-0.017) for {'gamma': 0.25, 'learning_rate': 0.1, 'max_depth': 4, 'min_child_weight': 5, 'reg_lambda': 0, 'scale_pos_weight': 5}\n",
            "0.845 (+/-0.020) for {'gamma': 0.25, 'learning_rate': 0.1, 'max_depth': 4, 'min_child_weight': 5, 'reg_lambda': 1.0, 'scale_pos_weight': 1}\n",
            "0.847 (+/-0.018) for {'gamma': 0.25, 'learning_rate': 0.1, 'max_depth': 4, 'min_child_weight': 5, 'reg_lambda': 1.0, 'scale_pos_weight': 3}\n",
            "0.845 (+/-0.017) for {'gamma': 0.25, 'learning_rate': 0.1, 'max_depth': 4, 'min_child_weight': 5, 'reg_lambda': 1.0, 'scale_pos_weight': 5}\n",
            "0.847 (+/-0.017) for {'gamma': 0.25, 'learning_rate': 0.1, 'max_depth': 4, 'min_child_weight': 5, 'reg_lambda': 10.0, 'scale_pos_weight': 1}\n",
            "0.846 (+/-0.017) for {'gamma': 0.25, 'learning_rate': 0.1, 'max_depth': 4, 'min_child_weight': 5, 'reg_lambda': 10.0, 'scale_pos_weight': 3}\n",
            "0.846 (+/-0.020) for {'gamma': 0.25, 'learning_rate': 0.1, 'max_depth': 4, 'min_child_weight': 5, 'reg_lambda': 10.0, 'scale_pos_weight': 5}\n",
            "0.848 (+/-0.018) for {'gamma': 0.25, 'learning_rate': 0.1, 'max_depth': 4, 'min_child_weight': 5, 'reg_lambda': 20.0, 'scale_pos_weight': 1}\n",
            "0.848 (+/-0.016) for {'gamma': 0.25, 'learning_rate': 0.1, 'max_depth': 4, 'min_child_weight': 5, 'reg_lambda': 20.0, 'scale_pos_weight': 3}\n",
            "0.848 (+/-0.018) for {'gamma': 0.25, 'learning_rate': 0.1, 'max_depth': 4, 'min_child_weight': 5, 'reg_lambda': 20.0, 'scale_pos_weight': 5}\n",
            "0.841 (+/-0.020) for {'gamma': 0.25, 'learning_rate': 0.1, 'max_depth': 5, 'min_child_weight': 1, 'reg_lambda': 0, 'scale_pos_weight': 1}\n",
            "0.843 (+/-0.021) for {'gamma': 0.25, 'learning_rate': 0.1, 'max_depth': 5, 'min_child_weight': 1, 'reg_lambda': 0, 'scale_pos_weight': 3}\n",
            "0.840 (+/-0.020) for {'gamma': 0.25, 'learning_rate': 0.1, 'max_depth': 5, 'min_child_weight': 1, 'reg_lambda': 0, 'scale_pos_weight': 5}\n",
            "0.843 (+/-0.017) for {'gamma': 0.25, 'learning_rate': 0.1, 'max_depth': 5, 'min_child_weight': 1, 'reg_lambda': 1.0, 'scale_pos_weight': 1}\n",
            "0.843 (+/-0.018) for {'gamma': 0.25, 'learning_rate': 0.1, 'max_depth': 5, 'min_child_weight': 1, 'reg_lambda': 1.0, 'scale_pos_weight': 3}\n",
            "0.842 (+/-0.020) for {'gamma': 0.25, 'learning_rate': 0.1, 'max_depth': 5, 'min_child_weight': 1, 'reg_lambda': 1.0, 'scale_pos_weight': 5}\n",
            "0.846 (+/-0.018) for {'gamma': 0.25, 'learning_rate': 0.1, 'max_depth': 5, 'min_child_weight': 1, 'reg_lambda': 10.0, 'scale_pos_weight': 1}\n",
            "0.846 (+/-0.017) for {'gamma': 0.25, 'learning_rate': 0.1, 'max_depth': 5, 'min_child_weight': 1, 'reg_lambda': 10.0, 'scale_pos_weight': 3}\n",
            "0.845 (+/-0.017) for {'gamma': 0.25, 'learning_rate': 0.1, 'max_depth': 5, 'min_child_weight': 1, 'reg_lambda': 10.0, 'scale_pos_weight': 5}\n",
            "0.847 (+/-0.017) for {'gamma': 0.25, 'learning_rate': 0.1, 'max_depth': 5, 'min_child_weight': 1, 'reg_lambda': 20.0, 'scale_pos_weight': 1}\n",
            "0.847 (+/-0.016) for {'gamma': 0.25, 'learning_rate': 0.1, 'max_depth': 5, 'min_child_weight': 1, 'reg_lambda': 20.0, 'scale_pos_weight': 3}\n",
            "0.846 (+/-0.017) for {'gamma': 0.25, 'learning_rate': 0.1, 'max_depth': 5, 'min_child_weight': 1, 'reg_lambda': 20.0, 'scale_pos_weight': 5}\n",
            "0.843 (+/-0.017) for {'gamma': 0.25, 'learning_rate': 0.1, 'max_depth': 5, 'min_child_weight': 5, 'reg_lambda': 0, 'scale_pos_weight': 1}\n",
            "0.843 (+/-0.018) for {'gamma': 0.25, 'learning_rate': 0.1, 'max_depth': 5, 'min_child_weight': 5, 'reg_lambda': 0, 'scale_pos_weight': 3}\n",
            "0.842 (+/-0.019) for {'gamma': 0.25, 'learning_rate': 0.1, 'max_depth': 5, 'min_child_weight': 5, 'reg_lambda': 0, 'scale_pos_weight': 5}\n",
            "0.843 (+/-0.019) for {'gamma': 0.25, 'learning_rate': 0.1, 'max_depth': 5, 'min_child_weight': 5, 'reg_lambda': 1.0, 'scale_pos_weight': 1}\n",
            "0.844 (+/-0.020) for {'gamma': 0.25, 'learning_rate': 0.1, 'max_depth': 5, 'min_child_weight': 5, 'reg_lambda': 1.0, 'scale_pos_weight': 3}\n",
            "0.842 (+/-0.017) for {'gamma': 0.25, 'learning_rate': 0.1, 'max_depth': 5, 'min_child_weight': 5, 'reg_lambda': 1.0, 'scale_pos_weight': 5}\n",
            "0.845 (+/-0.016) for {'gamma': 0.25, 'learning_rate': 0.1, 'max_depth': 5, 'min_child_weight': 5, 'reg_lambda': 10.0, 'scale_pos_weight': 1}\n",
            "0.845 (+/-0.018) for {'gamma': 0.25, 'learning_rate': 0.1, 'max_depth': 5, 'min_child_weight': 5, 'reg_lambda': 10.0, 'scale_pos_weight': 3}\n",
            "0.845 (+/-0.018) for {'gamma': 0.25, 'learning_rate': 0.1, 'max_depth': 5, 'min_child_weight': 5, 'reg_lambda': 10.0, 'scale_pos_weight': 5}\n",
            "0.847 (+/-0.017) for {'gamma': 0.25, 'learning_rate': 0.1, 'max_depth': 5, 'min_child_weight': 5, 'reg_lambda': 20.0, 'scale_pos_weight': 1}\n",
            "0.846 (+/-0.015) for {'gamma': 0.25, 'learning_rate': 0.1, 'max_depth': 5, 'min_child_weight': 5, 'reg_lambda': 20.0, 'scale_pos_weight': 3}\n",
            "0.846 (+/-0.016) for {'gamma': 0.25, 'learning_rate': 0.1, 'max_depth': 5, 'min_child_weight': 5, 'reg_lambda': 20.0, 'scale_pos_weight': 5}\n",
            "0.821 (+/-0.020) for {'gamma': 0.25, 'learning_rate': 0.5, 'max_depth': 3, 'min_child_weight': 1, 'reg_lambda': 0, 'scale_pos_weight': 1}\n",
            "0.820 (+/-0.024) for {'gamma': 0.25, 'learning_rate': 0.5, 'max_depth': 3, 'min_child_weight': 1, 'reg_lambda': 0, 'scale_pos_weight': 3}\n",
            "0.820 (+/-0.020) for {'gamma': 0.25, 'learning_rate': 0.5, 'max_depth': 3, 'min_child_weight': 1, 'reg_lambda': 0, 'scale_pos_weight': 5}\n",
            "0.824 (+/-0.012) for {'gamma': 0.25, 'learning_rate': 0.5, 'max_depth': 3, 'min_child_weight': 1, 'reg_lambda': 1.0, 'scale_pos_weight': 1}\n",
            "0.825 (+/-0.030) for {'gamma': 0.25, 'learning_rate': 0.5, 'max_depth': 3, 'min_child_weight': 1, 'reg_lambda': 1.0, 'scale_pos_weight': 3}\n",
            "0.827 (+/-0.016) for {'gamma': 0.25, 'learning_rate': 0.5, 'max_depth': 3, 'min_child_weight': 1, 'reg_lambda': 1.0, 'scale_pos_weight': 5}\n",
            "0.834 (+/-0.016) for {'gamma': 0.25, 'learning_rate': 0.5, 'max_depth': 3, 'min_child_weight': 1, 'reg_lambda': 10.0, 'scale_pos_weight': 1}\n",
            "0.831 (+/-0.020) for {'gamma': 0.25, 'learning_rate': 0.5, 'max_depth': 3, 'min_child_weight': 1, 'reg_lambda': 10.0, 'scale_pos_weight': 3}\n",
            "0.833 (+/-0.022) for {'gamma': 0.25, 'learning_rate': 0.5, 'max_depth': 3, 'min_child_weight': 1, 'reg_lambda': 10.0, 'scale_pos_weight': 5}\n",
            "0.839 (+/-0.018) for {'gamma': 0.25, 'learning_rate': 0.5, 'max_depth': 3, 'min_child_weight': 1, 'reg_lambda': 20.0, 'scale_pos_weight': 1}\n",
            "0.836 (+/-0.022) for {'gamma': 0.25, 'learning_rate': 0.5, 'max_depth': 3, 'min_child_weight': 1, 'reg_lambda': 20.0, 'scale_pos_weight': 3}\n",
            "0.837 (+/-0.019) for {'gamma': 0.25, 'learning_rate': 0.5, 'max_depth': 3, 'min_child_weight': 1, 'reg_lambda': 20.0, 'scale_pos_weight': 5}\n",
            "0.827 (+/-0.016) for {'gamma': 0.25, 'learning_rate': 0.5, 'max_depth': 3, 'min_child_weight': 5, 'reg_lambda': 0, 'scale_pos_weight': 1}\n",
            "0.823 (+/-0.015) for {'gamma': 0.25, 'learning_rate': 0.5, 'max_depth': 3, 'min_child_weight': 5, 'reg_lambda': 0, 'scale_pos_weight': 3}\n",
            "0.824 (+/-0.018) for {'gamma': 0.25, 'learning_rate': 0.5, 'max_depth': 3, 'min_child_weight': 5, 'reg_lambda': 0, 'scale_pos_weight': 5}\n",
            "0.827 (+/-0.016) for {'gamma': 0.25, 'learning_rate': 0.5, 'max_depth': 3, 'min_child_weight': 5, 'reg_lambda': 1.0, 'scale_pos_weight': 1}\n",
            "0.823 (+/-0.018) for {'gamma': 0.25, 'learning_rate': 0.5, 'max_depth': 3, 'min_child_weight': 5, 'reg_lambda': 1.0, 'scale_pos_weight': 3}\n",
            "0.828 (+/-0.021) for {'gamma': 0.25, 'learning_rate': 0.5, 'max_depth': 3, 'min_child_weight': 5, 'reg_lambda': 1.0, 'scale_pos_weight': 5}\n",
            "0.836 (+/-0.018) for {'gamma': 0.25, 'learning_rate': 0.5, 'max_depth': 3, 'min_child_weight': 5, 'reg_lambda': 10.0, 'scale_pos_weight': 1}\n",
            "0.832 (+/-0.024) for {'gamma': 0.25, 'learning_rate': 0.5, 'max_depth': 3, 'min_child_weight': 5, 'reg_lambda': 10.0, 'scale_pos_weight': 3}\n",
            "0.833 (+/-0.016) for {'gamma': 0.25, 'learning_rate': 0.5, 'max_depth': 3, 'min_child_weight': 5, 'reg_lambda': 10.0, 'scale_pos_weight': 5}\n",
            "0.840 (+/-0.016) for {'gamma': 0.25, 'learning_rate': 0.5, 'max_depth': 3, 'min_child_weight': 5, 'reg_lambda': 20.0, 'scale_pos_weight': 1}\n",
            "0.835 (+/-0.017) for {'gamma': 0.25, 'learning_rate': 0.5, 'max_depth': 3, 'min_child_weight': 5, 'reg_lambda': 20.0, 'scale_pos_weight': 3}\n",
            "0.836 (+/-0.022) for {'gamma': 0.25, 'learning_rate': 0.5, 'max_depth': 3, 'min_child_weight': 5, 'reg_lambda': 20.0, 'scale_pos_weight': 5}\n",
            "0.810 (+/-0.020) for {'gamma': 0.25, 'learning_rate': 0.5, 'max_depth': 4, 'min_child_weight': 1, 'reg_lambda': 0, 'scale_pos_weight': 1}\n",
            "0.810 (+/-0.021) for {'gamma': 0.25, 'learning_rate': 0.5, 'max_depth': 4, 'min_child_weight': 1, 'reg_lambda': 0, 'scale_pos_weight': 3}\n",
            "0.812 (+/-0.013) for {'gamma': 0.25, 'learning_rate': 0.5, 'max_depth': 4, 'min_child_weight': 1, 'reg_lambda': 0, 'scale_pos_weight': 5}\n",
            "0.821 (+/-0.025) for {'gamma': 0.25, 'learning_rate': 0.5, 'max_depth': 4, 'min_child_weight': 1, 'reg_lambda': 1.0, 'scale_pos_weight': 1}\n",
            "0.818 (+/-0.024) for {'gamma': 0.25, 'learning_rate': 0.5, 'max_depth': 4, 'min_child_weight': 1, 'reg_lambda': 1.0, 'scale_pos_weight': 3}\n",
            "0.819 (+/-0.023) for {'gamma': 0.25, 'learning_rate': 0.5, 'max_depth': 4, 'min_child_weight': 1, 'reg_lambda': 1.0, 'scale_pos_weight': 5}\n",
            "0.830 (+/-0.019) for {'gamma': 0.25, 'learning_rate': 0.5, 'max_depth': 4, 'min_child_weight': 1, 'reg_lambda': 10.0, 'scale_pos_weight': 1}\n",
            "0.826 (+/-0.016) for {'gamma': 0.25, 'learning_rate': 0.5, 'max_depth': 4, 'min_child_weight': 1, 'reg_lambda': 10.0, 'scale_pos_weight': 3}\n",
            "0.828 (+/-0.021) for {'gamma': 0.25, 'learning_rate': 0.5, 'max_depth': 4, 'min_child_weight': 1, 'reg_lambda': 10.0, 'scale_pos_weight': 5}\n",
            "0.833 (+/-0.018) for {'gamma': 0.25, 'learning_rate': 0.5, 'max_depth': 4, 'min_child_weight': 1, 'reg_lambda': 20.0, 'scale_pos_weight': 1}\n",
            "0.828 (+/-0.018) for {'gamma': 0.25, 'learning_rate': 0.5, 'max_depth': 4, 'min_child_weight': 1, 'reg_lambda': 20.0, 'scale_pos_weight': 3}\n",
            "0.826 (+/-0.018) for {'gamma': 0.25, 'learning_rate': 0.5, 'max_depth': 4, 'min_child_weight': 1, 'reg_lambda': 20.0, 'scale_pos_weight': 5}\n",
            "0.815 (+/-0.017) for {'gamma': 0.25, 'learning_rate': 0.5, 'max_depth': 4, 'min_child_weight': 5, 'reg_lambda': 0, 'scale_pos_weight': 1}\n",
            "0.820 (+/-0.025) for {'gamma': 0.25, 'learning_rate': 0.5, 'max_depth': 4, 'min_child_weight': 5, 'reg_lambda': 0, 'scale_pos_weight': 3}\n",
            "0.814 (+/-0.017) for {'gamma': 0.25, 'learning_rate': 0.5, 'max_depth': 4, 'min_child_weight': 5, 'reg_lambda': 0, 'scale_pos_weight': 5}\n",
            "0.818 (+/-0.018) for {'gamma': 0.25, 'learning_rate': 0.5, 'max_depth': 4, 'min_child_weight': 5, 'reg_lambda': 1.0, 'scale_pos_weight': 1}\n",
            "0.818 (+/-0.014) for {'gamma': 0.25, 'learning_rate': 0.5, 'max_depth': 4, 'min_child_weight': 5, 'reg_lambda': 1.0, 'scale_pos_weight': 3}\n",
            "0.820 (+/-0.019) for {'gamma': 0.25, 'learning_rate': 0.5, 'max_depth': 4, 'min_child_weight': 5, 'reg_lambda': 1.0, 'scale_pos_weight': 5}\n",
            "0.829 (+/-0.020) for {'gamma': 0.25, 'learning_rate': 0.5, 'max_depth': 4, 'min_child_weight': 5, 'reg_lambda': 10.0, 'scale_pos_weight': 1}\n",
            "0.825 (+/-0.018) for {'gamma': 0.25, 'learning_rate': 0.5, 'max_depth': 4, 'min_child_weight': 5, 'reg_lambda': 10.0, 'scale_pos_weight': 3}\n",
            "0.825 (+/-0.017) for {'gamma': 0.25, 'learning_rate': 0.5, 'max_depth': 4, 'min_child_weight': 5, 'reg_lambda': 10.0, 'scale_pos_weight': 5}\n",
            "0.833 (+/-0.014) for {'gamma': 0.25, 'learning_rate': 0.5, 'max_depth': 4, 'min_child_weight': 5, 'reg_lambda': 20.0, 'scale_pos_weight': 1}\n",
            "0.827 (+/-0.015) for {'gamma': 0.25, 'learning_rate': 0.5, 'max_depth': 4, 'min_child_weight': 5, 'reg_lambda': 20.0, 'scale_pos_weight': 3}\n",
            "0.827 (+/-0.015) for {'gamma': 0.25, 'learning_rate': 0.5, 'max_depth': 4, 'min_child_weight': 5, 'reg_lambda': 20.0, 'scale_pos_weight': 5}\n",
            "0.803 (+/-0.023) for {'gamma': 0.25, 'learning_rate': 0.5, 'max_depth': 5, 'min_child_weight': 1, 'reg_lambda': 0, 'scale_pos_weight': 1}\n",
            "0.805 (+/-0.025) for {'gamma': 0.25, 'learning_rate': 0.5, 'max_depth': 5, 'min_child_weight': 1, 'reg_lambda': 0, 'scale_pos_weight': 3}\n",
            "0.804 (+/-0.023) for {'gamma': 0.25, 'learning_rate': 0.5, 'max_depth': 5, 'min_child_weight': 1, 'reg_lambda': 0, 'scale_pos_weight': 5}\n",
            "0.809 (+/-0.020) for {'gamma': 0.25, 'learning_rate': 0.5, 'max_depth': 5, 'min_child_weight': 1, 'reg_lambda': 1.0, 'scale_pos_weight': 1}\n",
            "0.809 (+/-0.016) for {'gamma': 0.25, 'learning_rate': 0.5, 'max_depth': 5, 'min_child_weight': 1, 'reg_lambda': 1.0, 'scale_pos_weight': 3}\n",
            "0.810 (+/-0.022) for {'gamma': 0.25, 'learning_rate': 0.5, 'max_depth': 5, 'min_child_weight': 1, 'reg_lambda': 1.0, 'scale_pos_weight': 5}\n",
            "0.818 (+/-0.019) for {'gamma': 0.25, 'learning_rate': 0.5, 'max_depth': 5, 'min_child_weight': 1, 'reg_lambda': 10.0, 'scale_pos_weight': 1}\n",
            "0.820 (+/-0.011) for {'gamma': 0.25, 'learning_rate': 0.5, 'max_depth': 5, 'min_child_weight': 1, 'reg_lambda': 10.0, 'scale_pos_weight': 3}\n",
            "0.822 (+/-0.017) for {'gamma': 0.25, 'learning_rate': 0.5, 'max_depth': 5, 'min_child_weight': 1, 'reg_lambda': 10.0, 'scale_pos_weight': 5}\n",
            "0.825 (+/-0.018) for {'gamma': 0.25, 'learning_rate': 0.5, 'max_depth': 5, 'min_child_weight': 1, 'reg_lambda': 20.0, 'scale_pos_weight': 1}\n",
            "0.825 (+/-0.019) for {'gamma': 0.25, 'learning_rate': 0.5, 'max_depth': 5, 'min_child_weight': 1, 'reg_lambda': 20.0, 'scale_pos_weight': 3}\n",
            "0.827 (+/-0.021) for {'gamma': 0.25, 'learning_rate': 0.5, 'max_depth': 5, 'min_child_weight': 1, 'reg_lambda': 20.0, 'scale_pos_weight': 5}\n",
            "0.807 (+/-0.023) for {'gamma': 0.25, 'learning_rate': 0.5, 'max_depth': 5, 'min_child_weight': 5, 'reg_lambda': 0, 'scale_pos_weight': 1}\n",
            "0.812 (+/-0.020) for {'gamma': 0.25, 'learning_rate': 0.5, 'max_depth': 5, 'min_child_weight': 5, 'reg_lambda': 0, 'scale_pos_weight': 3}\n",
            "0.810 (+/-0.019) for {'gamma': 0.25, 'learning_rate': 0.5, 'max_depth': 5, 'min_child_weight': 5, 'reg_lambda': 0, 'scale_pos_weight': 5}\n",
            "0.808 (+/-0.021) for {'gamma': 0.25, 'learning_rate': 0.5, 'max_depth': 5, 'min_child_weight': 5, 'reg_lambda': 1.0, 'scale_pos_weight': 1}\n",
            "0.813 (+/-0.022) for {'gamma': 0.25, 'learning_rate': 0.5, 'max_depth': 5, 'min_child_weight': 5, 'reg_lambda': 1.0, 'scale_pos_weight': 3}\n",
            "0.814 (+/-0.022) for {'gamma': 0.25, 'learning_rate': 0.5, 'max_depth': 5, 'min_child_weight': 5, 'reg_lambda': 1.0, 'scale_pos_weight': 5}\n",
            "0.820 (+/-0.016) for {'gamma': 0.25, 'learning_rate': 0.5, 'max_depth': 5, 'min_child_weight': 5, 'reg_lambda': 10.0, 'scale_pos_weight': 1}\n",
            "0.816 (+/-0.015) for {'gamma': 0.25, 'learning_rate': 0.5, 'max_depth': 5, 'min_child_weight': 5, 'reg_lambda': 10.0, 'scale_pos_weight': 3}\n",
            "0.820 (+/-0.016) for {'gamma': 0.25, 'learning_rate': 0.5, 'max_depth': 5, 'min_child_weight': 5, 'reg_lambda': 10.0, 'scale_pos_weight': 5}\n",
            "0.825 (+/-0.015) for {'gamma': 0.25, 'learning_rate': 0.5, 'max_depth': 5, 'min_child_weight': 5, 'reg_lambda': 20.0, 'scale_pos_weight': 1}\n",
            "0.823 (+/-0.016) for {'gamma': 0.25, 'learning_rate': 0.5, 'max_depth': 5, 'min_child_weight': 5, 'reg_lambda': 20.0, 'scale_pos_weight': 3}\n",
            "0.825 (+/-0.017) for {'gamma': 0.25, 'learning_rate': 0.5, 'max_depth': 5, 'min_child_weight': 5, 'reg_lambda': 20.0, 'scale_pos_weight': 5}\n",
            "0.808 (+/-0.036) for {'gamma': 0.25, 'learning_rate': 0.75, 'max_depth': 3, 'min_child_weight': 1, 'reg_lambda': 0, 'scale_pos_weight': 1}\n",
            "0.810 (+/-0.018) for {'gamma': 0.25, 'learning_rate': 0.75, 'max_depth': 3, 'min_child_weight': 1, 'reg_lambda': 0, 'scale_pos_weight': 3}\n",
            "0.809 (+/-0.019) for {'gamma': 0.25, 'learning_rate': 0.75, 'max_depth': 3, 'min_child_weight': 1, 'reg_lambda': 0, 'scale_pos_weight': 5}\n",
            "0.810 (+/-0.020) for {'gamma': 0.25, 'learning_rate': 0.75, 'max_depth': 3, 'min_child_weight': 1, 'reg_lambda': 1.0, 'scale_pos_weight': 1}\n",
            "0.809 (+/-0.018) for {'gamma': 0.25, 'learning_rate': 0.75, 'max_depth': 3, 'min_child_weight': 1, 'reg_lambda': 1.0, 'scale_pos_weight': 3}\n",
            "0.810 (+/-0.023) for {'gamma': 0.25, 'learning_rate': 0.75, 'max_depth': 3, 'min_child_weight': 1, 'reg_lambda': 1.0, 'scale_pos_weight': 5}\n",
            "0.826 (+/-0.021) for {'gamma': 0.25, 'learning_rate': 0.75, 'max_depth': 3, 'min_child_weight': 1, 'reg_lambda': 10.0, 'scale_pos_weight': 1}\n",
            "0.823 (+/-0.021) for {'gamma': 0.25, 'learning_rate': 0.75, 'max_depth': 3, 'min_child_weight': 1, 'reg_lambda': 10.0, 'scale_pos_weight': 3}\n",
            "0.822 (+/-0.018) for {'gamma': 0.25, 'learning_rate': 0.75, 'max_depth': 3, 'min_child_weight': 1, 'reg_lambda': 10.0, 'scale_pos_weight': 5}\n",
            "0.833 (+/-0.018) for {'gamma': 0.25, 'learning_rate': 0.75, 'max_depth': 3, 'min_child_weight': 1, 'reg_lambda': 20.0, 'scale_pos_weight': 1}\n",
            "0.827 (+/-0.018) for {'gamma': 0.25, 'learning_rate': 0.75, 'max_depth': 3, 'min_child_weight': 1, 'reg_lambda': 20.0, 'scale_pos_weight': 3}\n",
            "0.828 (+/-0.024) for {'gamma': 0.25, 'learning_rate': 0.75, 'max_depth': 3, 'min_child_weight': 1, 'reg_lambda': 20.0, 'scale_pos_weight': 5}\n",
            "0.817 (+/-0.025) for {'gamma': 0.25, 'learning_rate': 0.75, 'max_depth': 3, 'min_child_weight': 5, 'reg_lambda': 0, 'scale_pos_weight': 1}\n",
            "0.813 (+/-0.017) for {'gamma': 0.25, 'learning_rate': 0.75, 'max_depth': 3, 'min_child_weight': 5, 'reg_lambda': 0, 'scale_pos_weight': 3}\n",
            "0.811 (+/-0.021) for {'gamma': 0.25, 'learning_rate': 0.75, 'max_depth': 3, 'min_child_weight': 5, 'reg_lambda': 0, 'scale_pos_weight': 5}\n",
            "0.819 (+/-0.017) for {'gamma': 0.25, 'learning_rate': 0.75, 'max_depth': 3, 'min_child_weight': 5, 'reg_lambda': 1.0, 'scale_pos_weight': 1}\n",
            "0.817 (+/-0.017) for {'gamma': 0.25, 'learning_rate': 0.75, 'max_depth': 3, 'min_child_weight': 5, 'reg_lambda': 1.0, 'scale_pos_weight': 3}\n",
            "0.818 (+/-0.022) for {'gamma': 0.25, 'learning_rate': 0.75, 'max_depth': 3, 'min_child_weight': 5, 'reg_lambda': 1.0, 'scale_pos_weight': 5}\n",
            "0.827 (+/-0.014) for {'gamma': 0.25, 'learning_rate': 0.75, 'max_depth': 3, 'min_child_weight': 5, 'reg_lambda': 10.0, 'scale_pos_weight': 1}\n",
            "0.825 (+/-0.017) for {'gamma': 0.25, 'learning_rate': 0.75, 'max_depth': 3, 'min_child_weight': 5, 'reg_lambda': 10.0, 'scale_pos_weight': 3}\n",
            "0.822 (+/-0.024) for {'gamma': 0.25, 'learning_rate': 0.75, 'max_depth': 3, 'min_child_weight': 5, 'reg_lambda': 10.0, 'scale_pos_weight': 5}\n",
            "0.831 (+/-0.017) for {'gamma': 0.25, 'learning_rate': 0.75, 'max_depth': 3, 'min_child_weight': 5, 'reg_lambda': 20.0, 'scale_pos_weight': 1}\n",
            "0.829 (+/-0.022) for {'gamma': 0.25, 'learning_rate': 0.75, 'max_depth': 3, 'min_child_weight': 5, 'reg_lambda': 20.0, 'scale_pos_weight': 3}\n",
            "0.823 (+/-0.018) for {'gamma': 0.25, 'learning_rate': 0.75, 'max_depth': 3, 'min_child_weight': 5, 'reg_lambda': 20.0, 'scale_pos_weight': 5}\n",
            "0.797 (+/-0.014) for {'gamma': 0.25, 'learning_rate': 0.75, 'max_depth': 4, 'min_child_weight': 1, 'reg_lambda': 0, 'scale_pos_weight': 1}\n",
            "0.794 (+/-0.026) for {'gamma': 0.25, 'learning_rate': 0.75, 'max_depth': 4, 'min_child_weight': 1, 'reg_lambda': 0, 'scale_pos_weight': 3}\n",
            "0.797 (+/-0.018) for {'gamma': 0.25, 'learning_rate': 0.75, 'max_depth': 4, 'min_child_weight': 1, 'reg_lambda': 0, 'scale_pos_weight': 5}\n",
            "0.802 (+/-0.017) for {'gamma': 0.25, 'learning_rate': 0.75, 'max_depth': 4, 'min_child_weight': 1, 'reg_lambda': 1.0, 'scale_pos_weight': 1}\n",
            "0.808 (+/-0.025) for {'gamma': 0.25, 'learning_rate': 0.75, 'max_depth': 4, 'min_child_weight': 1, 'reg_lambda': 1.0, 'scale_pos_weight': 3}\n",
            "0.805 (+/-0.014) for {'gamma': 0.25, 'learning_rate': 0.75, 'max_depth': 4, 'min_child_weight': 1, 'reg_lambda': 1.0, 'scale_pos_weight': 5}\n",
            "0.815 (+/-0.019) for {'gamma': 0.25, 'learning_rate': 0.75, 'max_depth': 4, 'min_child_weight': 1, 'reg_lambda': 10.0, 'scale_pos_weight': 1}\n",
            "0.816 (+/-0.022) for {'gamma': 0.25, 'learning_rate': 0.75, 'max_depth': 4, 'min_child_weight': 1, 'reg_lambda': 10.0, 'scale_pos_weight': 3}\n",
            "0.816 (+/-0.016) for {'gamma': 0.25, 'learning_rate': 0.75, 'max_depth': 4, 'min_child_weight': 1, 'reg_lambda': 10.0, 'scale_pos_weight': 5}\n",
            "0.821 (+/-0.017) for {'gamma': 0.25, 'learning_rate': 0.75, 'max_depth': 4, 'min_child_weight': 1, 'reg_lambda': 20.0, 'scale_pos_weight': 1}\n",
            "0.819 (+/-0.017) for {'gamma': 0.25, 'learning_rate': 0.75, 'max_depth': 4, 'min_child_weight': 1, 'reg_lambda': 20.0, 'scale_pos_weight': 3}\n",
            "0.820 (+/-0.019) for {'gamma': 0.25, 'learning_rate': 0.75, 'max_depth': 4, 'min_child_weight': 1, 'reg_lambda': 20.0, 'scale_pos_weight': 5}\n",
            "0.801 (+/-0.020) for {'gamma': 0.25, 'learning_rate': 0.75, 'max_depth': 4, 'min_child_weight': 5, 'reg_lambda': 0, 'scale_pos_weight': 1}\n",
            "0.802 (+/-0.028) for {'gamma': 0.25, 'learning_rate': 0.75, 'max_depth': 4, 'min_child_weight': 5, 'reg_lambda': 0, 'scale_pos_weight': 3}\n",
            "0.805 (+/-0.019) for {'gamma': 0.25, 'learning_rate': 0.75, 'max_depth': 4, 'min_child_weight': 5, 'reg_lambda': 0, 'scale_pos_weight': 5}\n",
            "0.799 (+/-0.014) for {'gamma': 0.25, 'learning_rate': 0.75, 'max_depth': 4, 'min_child_weight': 5, 'reg_lambda': 1.0, 'scale_pos_weight': 1}\n",
            "0.808 (+/-0.020) for {'gamma': 0.25, 'learning_rate': 0.75, 'max_depth': 4, 'min_child_weight': 5, 'reg_lambda': 1.0, 'scale_pos_weight': 3}\n",
            "0.804 (+/-0.021) for {'gamma': 0.25, 'learning_rate': 0.75, 'max_depth': 4, 'min_child_weight': 5, 'reg_lambda': 1.0, 'scale_pos_weight': 5}\n",
            "0.818 (+/-0.020) for {'gamma': 0.25, 'learning_rate': 0.75, 'max_depth': 4, 'min_child_weight': 5, 'reg_lambda': 10.0, 'scale_pos_weight': 1}\n",
            "0.817 (+/-0.018) for {'gamma': 0.25, 'learning_rate': 0.75, 'max_depth': 4, 'min_child_weight': 5, 'reg_lambda': 10.0, 'scale_pos_weight': 3}\n",
            "0.814 (+/-0.016) for {'gamma': 0.25, 'learning_rate': 0.75, 'max_depth': 4, 'min_child_weight': 5, 'reg_lambda': 10.0, 'scale_pos_weight': 5}\n",
            "0.824 (+/-0.019) for {'gamma': 0.25, 'learning_rate': 0.75, 'max_depth': 4, 'min_child_weight': 5, 'reg_lambda': 20.0, 'scale_pos_weight': 1}\n",
            "0.818 (+/-0.018) for {'gamma': 0.25, 'learning_rate': 0.75, 'max_depth': 4, 'min_child_weight': 5, 'reg_lambda': 20.0, 'scale_pos_weight': 3}\n",
            "0.820 (+/-0.016) for {'gamma': 0.25, 'learning_rate': 0.75, 'max_depth': 4, 'min_child_weight': 5, 'reg_lambda': 20.0, 'scale_pos_weight': 5}\n",
            "0.790 (+/-0.018) for {'gamma': 0.25, 'learning_rate': 0.75, 'max_depth': 5, 'min_child_weight': 1, 'reg_lambda': 0, 'scale_pos_weight': 1}\n",
            "0.795 (+/-0.018) for {'gamma': 0.25, 'learning_rate': 0.75, 'max_depth': 5, 'min_child_weight': 1, 'reg_lambda': 0, 'scale_pos_weight': 3}\n",
            "0.791 (+/-0.031) for {'gamma': 0.25, 'learning_rate': 0.75, 'max_depth': 5, 'min_child_weight': 1, 'reg_lambda': 0, 'scale_pos_weight': 5}\n",
            "0.800 (+/-0.011) for {'gamma': 0.25, 'learning_rate': 0.75, 'max_depth': 5, 'min_child_weight': 1, 'reg_lambda': 1.0, 'scale_pos_weight': 1}\n",
            "0.802 (+/-0.017) for {'gamma': 0.25, 'learning_rate': 0.75, 'max_depth': 5, 'min_child_weight': 1, 'reg_lambda': 1.0, 'scale_pos_weight': 3}\n",
            "0.799 (+/-0.011) for {'gamma': 0.25, 'learning_rate': 0.75, 'max_depth': 5, 'min_child_weight': 1, 'reg_lambda': 1.0, 'scale_pos_weight': 5}\n",
            "0.810 (+/-0.016) for {'gamma': 0.25, 'learning_rate': 0.75, 'max_depth': 5, 'min_child_weight': 1, 'reg_lambda': 10.0, 'scale_pos_weight': 1}\n",
            "0.810 (+/-0.022) for {'gamma': 0.25, 'learning_rate': 0.75, 'max_depth': 5, 'min_child_weight': 1, 'reg_lambda': 10.0, 'scale_pos_weight': 3}\n",
            "0.813 (+/-0.022) for {'gamma': 0.25, 'learning_rate': 0.75, 'max_depth': 5, 'min_child_weight': 1, 'reg_lambda': 10.0, 'scale_pos_weight': 5}\n",
            "0.818 (+/-0.016) for {'gamma': 0.25, 'learning_rate': 0.75, 'max_depth': 5, 'min_child_weight': 1, 'reg_lambda': 20.0, 'scale_pos_weight': 1}\n",
            "0.816 (+/-0.013) for {'gamma': 0.25, 'learning_rate': 0.75, 'max_depth': 5, 'min_child_weight': 1, 'reg_lambda': 20.0, 'scale_pos_weight': 3}\n",
            "0.816 (+/-0.016) for {'gamma': 0.25, 'learning_rate': 0.75, 'max_depth': 5, 'min_child_weight': 1, 'reg_lambda': 20.0, 'scale_pos_weight': 5}\n",
            "0.796 (+/-0.011) for {'gamma': 0.25, 'learning_rate': 0.75, 'max_depth': 5, 'min_child_weight': 5, 'reg_lambda': 0, 'scale_pos_weight': 1}\n",
            "0.799 (+/-0.024) for {'gamma': 0.25, 'learning_rate': 0.75, 'max_depth': 5, 'min_child_weight': 5, 'reg_lambda': 0, 'scale_pos_weight': 3}\n",
            "0.797 (+/-0.022) for {'gamma': 0.25, 'learning_rate': 0.75, 'max_depth': 5, 'min_child_weight': 5, 'reg_lambda': 0, 'scale_pos_weight': 5}\n",
            "0.800 (+/-0.023) for {'gamma': 0.25, 'learning_rate': 0.75, 'max_depth': 5, 'min_child_weight': 5, 'reg_lambda': 1.0, 'scale_pos_weight': 1}\n",
            "0.796 (+/-0.017) for {'gamma': 0.25, 'learning_rate': 0.75, 'max_depth': 5, 'min_child_weight': 5, 'reg_lambda': 1.0, 'scale_pos_weight': 3}\n",
            "0.803 (+/-0.015) for {'gamma': 0.25, 'learning_rate': 0.75, 'max_depth': 5, 'min_child_weight': 5, 'reg_lambda': 1.0, 'scale_pos_weight': 5}\n",
            "0.808 (+/-0.017) for {'gamma': 0.25, 'learning_rate': 0.75, 'max_depth': 5, 'min_child_weight': 5, 'reg_lambda': 10.0, 'scale_pos_weight': 1}\n",
            "0.802 (+/-0.016) for {'gamma': 0.25, 'learning_rate': 0.75, 'max_depth': 5, 'min_child_weight': 5, 'reg_lambda': 10.0, 'scale_pos_weight': 3}\n",
            "0.809 (+/-0.021) for {'gamma': 0.25, 'learning_rate': 0.75, 'max_depth': 5, 'min_child_weight': 5, 'reg_lambda': 10.0, 'scale_pos_weight': 5}\n",
            "0.813 (+/-0.019) for {'gamma': 0.25, 'learning_rate': 0.75, 'max_depth': 5, 'min_child_weight': 5, 'reg_lambda': 20.0, 'scale_pos_weight': 1}\n",
            "0.815 (+/-0.019) for {'gamma': 0.25, 'learning_rate': 0.75, 'max_depth': 5, 'min_child_weight': 5, 'reg_lambda': 20.0, 'scale_pos_weight': 3}\n",
            "0.814 (+/-0.015) for {'gamma': 0.25, 'learning_rate': 0.75, 'max_depth': 5, 'min_child_weight': 5, 'reg_lambda': 20.0, 'scale_pos_weight': 5}\n",
            "0.849 (+/-0.019) for {'gamma': 1.0, 'learning_rate': 0.1, 'max_depth': 3, 'min_child_weight': 1, 'reg_lambda': 0, 'scale_pos_weight': 1}\n",
            "0.847 (+/-0.019) for {'gamma': 1.0, 'learning_rate': 0.1, 'max_depth': 3, 'min_child_weight': 1, 'reg_lambda': 0, 'scale_pos_weight': 3}\n",
            "0.846 (+/-0.019) for {'gamma': 1.0, 'learning_rate': 0.1, 'max_depth': 3, 'min_child_weight': 1, 'reg_lambda': 0, 'scale_pos_weight': 5}\n",
            "0.849 (+/-0.018) for {'gamma': 1.0, 'learning_rate': 0.1, 'max_depth': 3, 'min_child_weight': 1, 'reg_lambda': 1.0, 'scale_pos_weight': 1}\n",
            "0.848 (+/-0.019) for {'gamma': 1.0, 'learning_rate': 0.1, 'max_depth': 3, 'min_child_weight': 1, 'reg_lambda': 1.0, 'scale_pos_weight': 3}\n",
            "0.846 (+/-0.018) for {'gamma': 1.0, 'learning_rate': 0.1, 'max_depth': 3, 'min_child_weight': 1, 'reg_lambda': 1.0, 'scale_pos_weight': 5}\n",
            "0.849 (+/-0.018) for {'gamma': 1.0, 'learning_rate': 0.1, 'max_depth': 3, 'min_child_weight': 1, 'reg_lambda': 10.0, 'scale_pos_weight': 1}\n",
            "0.849 (+/-0.018) for {'gamma': 1.0, 'learning_rate': 0.1, 'max_depth': 3, 'min_child_weight': 1, 'reg_lambda': 10.0, 'scale_pos_weight': 3}\n",
            "0.848 (+/-0.018) for {'gamma': 1.0, 'learning_rate': 0.1, 'max_depth': 3, 'min_child_weight': 1, 'reg_lambda': 10.0, 'scale_pos_weight': 5}\n",
            "0.850 (+/-0.017) for {'gamma': 1.0, 'learning_rate': 0.1, 'max_depth': 3, 'min_child_weight': 1, 'reg_lambda': 20.0, 'scale_pos_weight': 1}\n",
            "0.849 (+/-0.018) for {'gamma': 1.0, 'learning_rate': 0.1, 'max_depth': 3, 'min_child_weight': 1, 'reg_lambda': 20.0, 'scale_pos_weight': 3}\n",
            "0.849 (+/-0.019) for {'gamma': 1.0, 'learning_rate': 0.1, 'max_depth': 3, 'min_child_weight': 1, 'reg_lambda': 20.0, 'scale_pos_weight': 5}\n",
            "0.848 (+/-0.018) for {'gamma': 1.0, 'learning_rate': 0.1, 'max_depth': 3, 'min_child_weight': 5, 'reg_lambda': 0, 'scale_pos_weight': 1}\n",
            "0.847 (+/-0.019) for {'gamma': 1.0, 'learning_rate': 0.1, 'max_depth': 3, 'min_child_weight': 5, 'reg_lambda': 0, 'scale_pos_weight': 3}\n",
            "0.847 (+/-0.020) for {'gamma': 1.0, 'learning_rate': 0.1, 'max_depth': 3, 'min_child_weight': 5, 'reg_lambda': 0, 'scale_pos_weight': 5}\n",
            "0.848 (+/-0.018) for {'gamma': 1.0, 'learning_rate': 0.1, 'max_depth': 3, 'min_child_weight': 5, 'reg_lambda': 1.0, 'scale_pos_weight': 1}\n",
            "0.847 (+/-0.019) for {'gamma': 1.0, 'learning_rate': 0.1, 'max_depth': 3, 'min_child_weight': 5, 'reg_lambda': 1.0, 'scale_pos_weight': 3}\n",
            "0.846 (+/-0.018) for {'gamma': 1.0, 'learning_rate': 0.1, 'max_depth': 3, 'min_child_weight': 5, 'reg_lambda': 1.0, 'scale_pos_weight': 5}\n",
            "0.849 (+/-0.017) for {'gamma': 1.0, 'learning_rate': 0.1, 'max_depth': 3, 'min_child_weight': 5, 'reg_lambda': 10.0, 'scale_pos_weight': 1}\n",
            "0.848 (+/-0.018) for {'gamma': 1.0, 'learning_rate': 0.1, 'max_depth': 3, 'min_child_weight': 5, 'reg_lambda': 10.0, 'scale_pos_weight': 3}\n",
            "0.848 (+/-0.019) for {'gamma': 1.0, 'learning_rate': 0.1, 'max_depth': 3, 'min_child_weight': 5, 'reg_lambda': 10.0, 'scale_pos_weight': 5}\n",
            "0.850 (+/-0.017) for {'gamma': 1.0, 'learning_rate': 0.1, 'max_depth': 3, 'min_child_weight': 5, 'reg_lambda': 20.0, 'scale_pos_weight': 1}\n",
            "0.849 (+/-0.017) for {'gamma': 1.0, 'learning_rate': 0.1, 'max_depth': 3, 'min_child_weight': 5, 'reg_lambda': 20.0, 'scale_pos_weight': 3}\n",
            "0.848 (+/-0.018) for {'gamma': 1.0, 'learning_rate': 0.1, 'max_depth': 3, 'min_child_weight': 5, 'reg_lambda': 20.0, 'scale_pos_weight': 5}\n",
            "0.845 (+/-0.019) for {'gamma': 1.0, 'learning_rate': 0.1, 'max_depth': 4, 'min_child_weight': 1, 'reg_lambda': 0, 'scale_pos_weight': 1}\n",
            "0.845 (+/-0.021) for {'gamma': 1.0, 'learning_rate': 0.1, 'max_depth': 4, 'min_child_weight': 1, 'reg_lambda': 0, 'scale_pos_weight': 3}\n",
            "0.844 (+/-0.020) for {'gamma': 1.0, 'learning_rate': 0.1, 'max_depth': 4, 'min_child_weight': 1, 'reg_lambda': 0, 'scale_pos_weight': 5}\n",
            "0.845 (+/-0.020) for {'gamma': 1.0, 'learning_rate': 0.1, 'max_depth': 4, 'min_child_weight': 1, 'reg_lambda': 1.0, 'scale_pos_weight': 1}\n",
            "0.846 (+/-0.019) for {'gamma': 1.0, 'learning_rate': 0.1, 'max_depth': 4, 'min_child_weight': 1, 'reg_lambda': 1.0, 'scale_pos_weight': 3}\n",
            "0.845 (+/-0.020) for {'gamma': 1.0, 'learning_rate': 0.1, 'max_depth': 4, 'min_child_weight': 1, 'reg_lambda': 1.0, 'scale_pos_weight': 5}\n",
            "0.848 (+/-0.019) for {'gamma': 1.0, 'learning_rate': 0.1, 'max_depth': 4, 'min_child_weight': 1, 'reg_lambda': 10.0, 'scale_pos_weight': 1}\n",
            "0.847 (+/-0.017) for {'gamma': 1.0, 'learning_rate': 0.1, 'max_depth': 4, 'min_child_weight': 1, 'reg_lambda': 10.0, 'scale_pos_weight': 3}\n",
            "0.847 (+/-0.020) for {'gamma': 1.0, 'learning_rate': 0.1, 'max_depth': 4, 'min_child_weight': 1, 'reg_lambda': 10.0, 'scale_pos_weight': 5}\n",
            "0.848 (+/-0.017) for {'gamma': 1.0, 'learning_rate': 0.1, 'max_depth': 4, 'min_child_weight': 1, 'reg_lambda': 20.0, 'scale_pos_weight': 1}\n",
            "0.847 (+/-0.016) for {'gamma': 1.0, 'learning_rate': 0.1, 'max_depth': 4, 'min_child_weight': 1, 'reg_lambda': 20.0, 'scale_pos_weight': 3}\n",
            "0.848 (+/-0.017) for {'gamma': 1.0, 'learning_rate': 0.1, 'max_depth': 4, 'min_child_weight': 1, 'reg_lambda': 20.0, 'scale_pos_weight': 5}\n",
            "0.846 (+/-0.018) for {'gamma': 1.0, 'learning_rate': 0.1, 'max_depth': 4, 'min_child_weight': 5, 'reg_lambda': 0, 'scale_pos_weight': 1}\n",
            "0.846 (+/-0.017) for {'gamma': 1.0, 'learning_rate': 0.1, 'max_depth': 4, 'min_child_weight': 5, 'reg_lambda': 0, 'scale_pos_weight': 3}\n",
            "0.844 (+/-0.018) for {'gamma': 1.0, 'learning_rate': 0.1, 'max_depth': 4, 'min_child_weight': 5, 'reg_lambda': 0, 'scale_pos_weight': 5}\n",
            "0.846 (+/-0.018) for {'gamma': 1.0, 'learning_rate': 0.1, 'max_depth': 4, 'min_child_weight': 5, 'reg_lambda': 1.0, 'scale_pos_weight': 1}\n",
            "0.846 (+/-0.018) for {'gamma': 1.0, 'learning_rate': 0.1, 'max_depth': 4, 'min_child_weight': 5, 'reg_lambda': 1.0, 'scale_pos_weight': 3}\n",
            "0.844 (+/-0.019) for {'gamma': 1.0, 'learning_rate': 0.1, 'max_depth': 4, 'min_child_weight': 5, 'reg_lambda': 1.0, 'scale_pos_weight': 5}\n",
            "0.847 (+/-0.019) for {'gamma': 1.0, 'learning_rate': 0.1, 'max_depth': 4, 'min_child_weight': 5, 'reg_lambda': 10.0, 'scale_pos_weight': 1}\n",
            "0.846 (+/-0.017) for {'gamma': 1.0, 'learning_rate': 0.1, 'max_depth': 4, 'min_child_weight': 5, 'reg_lambda': 10.0, 'scale_pos_weight': 3}\n",
            "0.847 (+/-0.019) for {'gamma': 1.0, 'learning_rate': 0.1, 'max_depth': 4, 'min_child_weight': 5, 'reg_lambda': 10.0, 'scale_pos_weight': 5}\n",
            "0.849 (+/-0.017) for {'gamma': 1.0, 'learning_rate': 0.1, 'max_depth': 4, 'min_child_weight': 5, 'reg_lambda': 20.0, 'scale_pos_weight': 1}\n",
            "0.848 (+/-0.016) for {'gamma': 1.0, 'learning_rate': 0.1, 'max_depth': 4, 'min_child_weight': 5, 'reg_lambda': 20.0, 'scale_pos_weight': 3}\n",
            "0.847 (+/-0.016) for {'gamma': 1.0, 'learning_rate': 0.1, 'max_depth': 4, 'min_child_weight': 5, 'reg_lambda': 20.0, 'scale_pos_weight': 5}\n",
            "0.841 (+/-0.016) for {'gamma': 1.0, 'learning_rate': 0.1, 'max_depth': 5, 'min_child_weight': 1, 'reg_lambda': 0, 'scale_pos_weight': 1}\n",
            "0.842 (+/-0.021) for {'gamma': 1.0, 'learning_rate': 0.1, 'max_depth': 5, 'min_child_weight': 1, 'reg_lambda': 0, 'scale_pos_weight': 3}\n",
            "0.841 (+/-0.022) for {'gamma': 1.0, 'learning_rate': 0.1, 'max_depth': 5, 'min_child_weight': 1, 'reg_lambda': 0, 'scale_pos_weight': 5}\n",
            "0.843 (+/-0.017) for {'gamma': 1.0, 'learning_rate': 0.1, 'max_depth': 5, 'min_child_weight': 1, 'reg_lambda': 1.0, 'scale_pos_weight': 1}\n",
            "0.844 (+/-0.016) for {'gamma': 1.0, 'learning_rate': 0.1, 'max_depth': 5, 'min_child_weight': 1, 'reg_lambda': 1.0, 'scale_pos_weight': 3}\n",
            "0.842 (+/-0.021) for {'gamma': 1.0, 'learning_rate': 0.1, 'max_depth': 5, 'min_child_weight': 1, 'reg_lambda': 1.0, 'scale_pos_weight': 5}\n",
            "0.846 (+/-0.017) for {'gamma': 1.0, 'learning_rate': 0.1, 'max_depth': 5, 'min_child_weight': 1, 'reg_lambda': 10.0, 'scale_pos_weight': 1}\n",
            "0.846 (+/-0.017) for {'gamma': 1.0, 'learning_rate': 0.1, 'max_depth': 5, 'min_child_weight': 1, 'reg_lambda': 10.0, 'scale_pos_weight': 3}\n",
            "0.845 (+/-0.018) for {'gamma': 1.0, 'learning_rate': 0.1, 'max_depth': 5, 'min_child_weight': 1, 'reg_lambda': 10.0, 'scale_pos_weight': 5}\n",
            "0.847 (+/-0.017) for {'gamma': 1.0, 'learning_rate': 0.1, 'max_depth': 5, 'min_child_weight': 1, 'reg_lambda': 20.0, 'scale_pos_weight': 1}\n",
            "0.848 (+/-0.016) for {'gamma': 1.0, 'learning_rate': 0.1, 'max_depth': 5, 'min_child_weight': 1, 'reg_lambda': 20.0, 'scale_pos_weight': 3}\n",
            "0.847 (+/-0.017) for {'gamma': 1.0, 'learning_rate': 0.1, 'max_depth': 5, 'min_child_weight': 1, 'reg_lambda': 20.0, 'scale_pos_weight': 5}\n",
            "0.842 (+/-0.016) for {'gamma': 1.0, 'learning_rate': 0.1, 'max_depth': 5, 'min_child_weight': 5, 'reg_lambda': 0, 'scale_pos_weight': 1}\n",
            "0.842 (+/-0.021) for {'gamma': 1.0, 'learning_rate': 0.1, 'max_depth': 5, 'min_child_weight': 5, 'reg_lambda': 0, 'scale_pos_weight': 3}\n",
            "0.841 (+/-0.021) for {'gamma': 1.0, 'learning_rate': 0.1, 'max_depth': 5, 'min_child_weight': 5, 'reg_lambda': 0, 'scale_pos_weight': 5}\n",
            "0.844 (+/-0.019) for {'gamma': 1.0, 'learning_rate': 0.1, 'max_depth': 5, 'min_child_weight': 5, 'reg_lambda': 1.0, 'scale_pos_weight': 1}\n",
            "0.844 (+/-0.020) for {'gamma': 1.0, 'learning_rate': 0.1, 'max_depth': 5, 'min_child_weight': 5, 'reg_lambda': 1.0, 'scale_pos_weight': 3}\n",
            "0.841 (+/-0.019) for {'gamma': 1.0, 'learning_rate': 0.1, 'max_depth': 5, 'min_child_weight': 5, 'reg_lambda': 1.0, 'scale_pos_weight': 5}\n",
            "0.845 (+/-0.017) for {'gamma': 1.0, 'learning_rate': 0.1, 'max_depth': 5, 'min_child_weight': 5, 'reg_lambda': 10.0, 'scale_pos_weight': 1}\n",
            "0.846 (+/-0.017) for {'gamma': 1.0, 'learning_rate': 0.1, 'max_depth': 5, 'min_child_weight': 5, 'reg_lambda': 10.0, 'scale_pos_weight': 3}\n",
            "0.845 (+/-0.018) for {'gamma': 1.0, 'learning_rate': 0.1, 'max_depth': 5, 'min_child_weight': 5, 'reg_lambda': 10.0, 'scale_pos_weight': 5}\n",
            "0.847 (+/-0.017) for {'gamma': 1.0, 'learning_rate': 0.1, 'max_depth': 5, 'min_child_weight': 5, 'reg_lambda': 20.0, 'scale_pos_weight': 1}\n",
            "0.847 (+/-0.015) for {'gamma': 1.0, 'learning_rate': 0.1, 'max_depth': 5, 'min_child_weight': 5, 'reg_lambda': 20.0, 'scale_pos_weight': 3}\n",
            "0.847 (+/-0.017) for {'gamma': 1.0, 'learning_rate': 0.1, 'max_depth': 5, 'min_child_weight': 5, 'reg_lambda': 20.0, 'scale_pos_weight': 5}\n",
            "0.824 (+/-0.023) for {'gamma': 1.0, 'learning_rate': 0.5, 'max_depth': 3, 'min_child_weight': 1, 'reg_lambda': 0, 'scale_pos_weight': 1}\n",
            "0.820 (+/-0.021) for {'gamma': 1.0, 'learning_rate': 0.5, 'max_depth': 3, 'min_child_weight': 1, 'reg_lambda': 0, 'scale_pos_weight': 3}\n",
            "0.822 (+/-0.019) for {'gamma': 1.0, 'learning_rate': 0.5, 'max_depth': 3, 'min_child_weight': 1, 'reg_lambda': 0, 'scale_pos_weight': 5}\n",
            "0.826 (+/-0.015) for {'gamma': 1.0, 'learning_rate': 0.5, 'max_depth': 3, 'min_child_weight': 1, 'reg_lambda': 1.0, 'scale_pos_weight': 1}\n",
            "0.826 (+/-0.021) for {'gamma': 1.0, 'learning_rate': 0.5, 'max_depth': 3, 'min_child_weight': 1, 'reg_lambda': 1.0, 'scale_pos_weight': 3}\n",
            "0.826 (+/-0.016) for {'gamma': 1.0, 'learning_rate': 0.5, 'max_depth': 3, 'min_child_weight': 1, 'reg_lambda': 1.0, 'scale_pos_weight': 5}\n",
            "0.836 (+/-0.018) for {'gamma': 1.0, 'learning_rate': 0.5, 'max_depth': 3, 'min_child_weight': 1, 'reg_lambda': 10.0, 'scale_pos_weight': 1}\n",
            "0.833 (+/-0.022) for {'gamma': 1.0, 'learning_rate': 0.5, 'max_depth': 3, 'min_child_weight': 1, 'reg_lambda': 10.0, 'scale_pos_weight': 3}\n",
            "0.831 (+/-0.014) for {'gamma': 1.0, 'learning_rate': 0.5, 'max_depth': 3, 'min_child_weight': 1, 'reg_lambda': 10.0, 'scale_pos_weight': 5}\n",
            "0.840 (+/-0.017) for {'gamma': 1.0, 'learning_rate': 0.5, 'max_depth': 3, 'min_child_weight': 1, 'reg_lambda': 20.0, 'scale_pos_weight': 1}\n",
            "0.837 (+/-0.019) for {'gamma': 1.0, 'learning_rate': 0.5, 'max_depth': 3, 'min_child_weight': 1, 'reg_lambda': 20.0, 'scale_pos_weight': 3}\n",
            "0.836 (+/-0.021) for {'gamma': 1.0, 'learning_rate': 0.5, 'max_depth': 3, 'min_child_weight': 1, 'reg_lambda': 20.0, 'scale_pos_weight': 5}\n",
            "0.826 (+/-0.019) for {'gamma': 1.0, 'learning_rate': 0.5, 'max_depth': 3, 'min_child_weight': 5, 'reg_lambda': 0, 'scale_pos_weight': 1}\n",
            "0.823 (+/-0.021) for {'gamma': 1.0, 'learning_rate': 0.5, 'max_depth': 3, 'min_child_weight': 5, 'reg_lambda': 0, 'scale_pos_weight': 3}\n",
            "0.823 (+/-0.021) for {'gamma': 1.0, 'learning_rate': 0.5, 'max_depth': 3, 'min_child_weight': 5, 'reg_lambda': 0, 'scale_pos_weight': 5}\n",
            "0.827 (+/-0.018) for {'gamma': 1.0, 'learning_rate': 0.5, 'max_depth': 3, 'min_child_weight': 5, 'reg_lambda': 1.0, 'scale_pos_weight': 1}\n",
            "0.828 (+/-0.016) for {'gamma': 1.0, 'learning_rate': 0.5, 'max_depth': 3, 'min_child_weight': 5, 'reg_lambda': 1.0, 'scale_pos_weight': 3}\n",
            "0.825 (+/-0.022) for {'gamma': 1.0, 'learning_rate': 0.5, 'max_depth': 3, 'min_child_weight': 5, 'reg_lambda': 1.0, 'scale_pos_weight': 5}\n",
            "0.838 (+/-0.016) for {'gamma': 1.0, 'learning_rate': 0.5, 'max_depth': 3, 'min_child_weight': 5, 'reg_lambda': 10.0, 'scale_pos_weight': 1}\n",
            "0.832 (+/-0.018) for {'gamma': 1.0, 'learning_rate': 0.5, 'max_depth': 3, 'min_child_weight': 5, 'reg_lambda': 10.0, 'scale_pos_weight': 3}\n",
            "0.830 (+/-0.019) for {'gamma': 1.0, 'learning_rate': 0.5, 'max_depth': 3, 'min_child_weight': 5, 'reg_lambda': 10.0, 'scale_pos_weight': 5}\n",
            "0.841 (+/-0.016) for {'gamma': 1.0, 'learning_rate': 0.5, 'max_depth': 3, 'min_child_weight': 5, 'reg_lambda': 20.0, 'scale_pos_weight': 1}\n",
            "0.838 (+/-0.018) for {'gamma': 1.0, 'learning_rate': 0.5, 'max_depth': 3, 'min_child_weight': 5, 'reg_lambda': 20.0, 'scale_pos_weight': 3}\n",
            "0.837 (+/-0.021) for {'gamma': 1.0, 'learning_rate': 0.5, 'max_depth': 3, 'min_child_weight': 5, 'reg_lambda': 20.0, 'scale_pos_weight': 5}\n",
            "0.809 (+/-0.013) for {'gamma': 1.0, 'learning_rate': 0.5, 'max_depth': 4, 'min_child_weight': 1, 'reg_lambda': 0, 'scale_pos_weight': 1}\n",
            "0.812 (+/-0.017) for {'gamma': 1.0, 'learning_rate': 0.5, 'max_depth': 4, 'min_child_weight': 1, 'reg_lambda': 0, 'scale_pos_weight': 3}\n",
            "0.809 (+/-0.028) for {'gamma': 1.0, 'learning_rate': 0.5, 'max_depth': 4, 'min_child_weight': 1, 'reg_lambda': 0, 'scale_pos_weight': 5}\n",
            "0.811 (+/-0.020) for {'gamma': 1.0, 'learning_rate': 0.5, 'max_depth': 4, 'min_child_weight': 1, 'reg_lambda': 1.0, 'scale_pos_weight': 1}\n",
            "0.815 (+/-0.020) for {'gamma': 1.0, 'learning_rate': 0.5, 'max_depth': 4, 'min_child_weight': 1, 'reg_lambda': 1.0, 'scale_pos_weight': 3}\n",
            "0.818 (+/-0.019) for {'gamma': 1.0, 'learning_rate': 0.5, 'max_depth': 4, 'min_child_weight': 1, 'reg_lambda': 1.0, 'scale_pos_weight': 5}\n",
            "0.830 (+/-0.010) for {'gamma': 1.0, 'learning_rate': 0.5, 'max_depth': 4, 'min_child_weight': 1, 'reg_lambda': 10.0, 'scale_pos_weight': 1}\n",
            "0.826 (+/-0.017) for {'gamma': 1.0, 'learning_rate': 0.5, 'max_depth': 4, 'min_child_weight': 1, 'reg_lambda': 10.0, 'scale_pos_weight': 3}\n",
            "0.830 (+/-0.019) for {'gamma': 1.0, 'learning_rate': 0.5, 'max_depth': 4, 'min_child_weight': 1, 'reg_lambda': 10.0, 'scale_pos_weight': 5}\n",
            "0.833 (+/-0.013) for {'gamma': 1.0, 'learning_rate': 0.5, 'max_depth': 4, 'min_child_weight': 1, 'reg_lambda': 20.0, 'scale_pos_weight': 1}\n",
            "0.829 (+/-0.021) for {'gamma': 1.0, 'learning_rate': 0.5, 'max_depth': 4, 'min_child_weight': 1, 'reg_lambda': 20.0, 'scale_pos_weight': 3}\n",
            "0.829 (+/-0.018) for {'gamma': 1.0, 'learning_rate': 0.5, 'max_depth': 4, 'min_child_weight': 1, 'reg_lambda': 20.0, 'scale_pos_weight': 5}\n",
            "0.818 (+/-0.014) for {'gamma': 1.0, 'learning_rate': 0.5, 'max_depth': 4, 'min_child_weight': 5, 'reg_lambda': 0, 'scale_pos_weight': 1}\n",
            "0.820 (+/-0.017) for {'gamma': 1.0, 'learning_rate': 0.5, 'max_depth': 4, 'min_child_weight': 5, 'reg_lambda': 0, 'scale_pos_weight': 3}\n",
            "0.820 (+/-0.014) for {'gamma': 1.0, 'learning_rate': 0.5, 'max_depth': 4, 'min_child_weight': 5, 'reg_lambda': 0, 'scale_pos_weight': 5}\n",
            "0.819 (+/-0.018) for {'gamma': 1.0, 'learning_rate': 0.5, 'max_depth': 4, 'min_child_weight': 5, 'reg_lambda': 1.0, 'scale_pos_weight': 1}\n",
            "0.817 (+/-0.015) for {'gamma': 1.0, 'learning_rate': 0.5, 'max_depth': 4, 'min_child_weight': 5, 'reg_lambda': 1.0, 'scale_pos_weight': 3}\n",
            "0.817 (+/-0.018) for {'gamma': 1.0, 'learning_rate': 0.5, 'max_depth': 4, 'min_child_weight': 5, 'reg_lambda': 1.0, 'scale_pos_weight': 5}\n",
            "0.828 (+/-0.011) for {'gamma': 1.0, 'learning_rate': 0.5, 'max_depth': 4, 'min_child_weight': 5, 'reg_lambda': 10.0, 'scale_pos_weight': 1}\n",
            "0.825 (+/-0.022) for {'gamma': 1.0, 'learning_rate': 0.5, 'max_depth': 4, 'min_child_weight': 5, 'reg_lambda': 10.0, 'scale_pos_weight': 3}\n",
            "0.824 (+/-0.014) for {'gamma': 1.0, 'learning_rate': 0.5, 'max_depth': 4, 'min_child_weight': 5, 'reg_lambda': 10.0, 'scale_pos_weight': 5}\n",
            "0.836 (+/-0.015) for {'gamma': 1.0, 'learning_rate': 0.5, 'max_depth': 4, 'min_child_weight': 5, 'reg_lambda': 20.0, 'scale_pos_weight': 1}\n",
            "0.828 (+/-0.022) for {'gamma': 1.0, 'learning_rate': 0.5, 'max_depth': 4, 'min_child_weight': 5, 'reg_lambda': 20.0, 'scale_pos_weight': 3}\n",
            "0.829 (+/-0.018) for {'gamma': 1.0, 'learning_rate': 0.5, 'max_depth': 4, 'min_child_weight': 5, 'reg_lambda': 20.0, 'scale_pos_weight': 5}\n",
            "0.809 (+/-0.020) for {'gamma': 1.0, 'learning_rate': 0.5, 'max_depth': 5, 'min_child_weight': 1, 'reg_lambda': 0, 'scale_pos_weight': 1}\n",
            "0.809 (+/-0.026) for {'gamma': 1.0, 'learning_rate': 0.5, 'max_depth': 5, 'min_child_weight': 1, 'reg_lambda': 0, 'scale_pos_weight': 3}\n",
            "0.803 (+/-0.028) for {'gamma': 1.0, 'learning_rate': 0.5, 'max_depth': 5, 'min_child_weight': 1, 'reg_lambda': 0, 'scale_pos_weight': 5}\n",
            "0.814 (+/-0.019) for {'gamma': 1.0, 'learning_rate': 0.5, 'max_depth': 5, 'min_child_weight': 1, 'reg_lambda': 1.0, 'scale_pos_weight': 1}\n",
            "0.813 (+/-0.026) for {'gamma': 1.0, 'learning_rate': 0.5, 'max_depth': 5, 'min_child_weight': 1, 'reg_lambda': 1.0, 'scale_pos_weight': 3}\n",
            "0.814 (+/-0.026) for {'gamma': 1.0, 'learning_rate': 0.5, 'max_depth': 5, 'min_child_weight': 1, 'reg_lambda': 1.0, 'scale_pos_weight': 5}\n",
            "0.821 (+/-0.021) for {'gamma': 1.0, 'learning_rate': 0.5, 'max_depth': 5, 'min_child_weight': 1, 'reg_lambda': 10.0, 'scale_pos_weight': 1}\n",
            "0.819 (+/-0.016) for {'gamma': 1.0, 'learning_rate': 0.5, 'max_depth': 5, 'min_child_weight': 1, 'reg_lambda': 10.0, 'scale_pos_weight': 3}\n",
            "0.820 (+/-0.019) for {'gamma': 1.0, 'learning_rate': 0.5, 'max_depth': 5, 'min_child_weight': 1, 'reg_lambda': 10.0, 'scale_pos_weight': 5}\n",
            "0.830 (+/-0.015) for {'gamma': 1.0, 'learning_rate': 0.5, 'max_depth': 5, 'min_child_weight': 1, 'reg_lambda': 20.0, 'scale_pos_weight': 1}\n",
            "0.825 (+/-0.012) for {'gamma': 1.0, 'learning_rate': 0.5, 'max_depth': 5, 'min_child_weight': 1, 'reg_lambda': 20.0, 'scale_pos_weight': 3}\n",
            "0.825 (+/-0.021) for {'gamma': 1.0, 'learning_rate': 0.5, 'max_depth': 5, 'min_child_weight': 1, 'reg_lambda': 20.0, 'scale_pos_weight': 5}\n",
            "0.813 (+/-0.025) for {'gamma': 1.0, 'learning_rate': 0.5, 'max_depth': 5, 'min_child_weight': 5, 'reg_lambda': 0, 'scale_pos_weight': 1}\n",
            "0.811 (+/-0.025) for {'gamma': 1.0, 'learning_rate': 0.5, 'max_depth': 5, 'min_child_weight': 5, 'reg_lambda': 0, 'scale_pos_weight': 3}\n",
            "0.809 (+/-0.018) for {'gamma': 1.0, 'learning_rate': 0.5, 'max_depth': 5, 'min_child_weight': 5, 'reg_lambda': 0, 'scale_pos_weight': 5}\n",
            "0.812 (+/-0.013) for {'gamma': 1.0, 'learning_rate': 0.5, 'max_depth': 5, 'min_child_weight': 5, 'reg_lambda': 1.0, 'scale_pos_weight': 1}\n",
            "0.813 (+/-0.024) for {'gamma': 1.0, 'learning_rate': 0.5, 'max_depth': 5, 'min_child_weight': 5, 'reg_lambda': 1.0, 'scale_pos_weight': 3}\n",
            "0.809 (+/-0.019) for {'gamma': 1.0, 'learning_rate': 0.5, 'max_depth': 5, 'min_child_weight': 5, 'reg_lambda': 1.0, 'scale_pos_weight': 5}\n",
            "0.825 (+/-0.020) for {'gamma': 1.0, 'learning_rate': 0.5, 'max_depth': 5, 'min_child_weight': 5, 'reg_lambda': 10.0, 'scale_pos_weight': 1}\n",
            "0.818 (+/-0.015) for {'gamma': 1.0, 'learning_rate': 0.5, 'max_depth': 5, 'min_child_weight': 5, 'reg_lambda': 10.0, 'scale_pos_weight': 3}\n",
            "0.821 (+/-0.015) for {'gamma': 1.0, 'learning_rate': 0.5, 'max_depth': 5, 'min_child_weight': 5, 'reg_lambda': 10.0, 'scale_pos_weight': 5}\n",
            "0.830 (+/-0.011) for {'gamma': 1.0, 'learning_rate': 0.5, 'max_depth': 5, 'min_child_weight': 5, 'reg_lambda': 20.0, 'scale_pos_weight': 1}\n",
            "0.825 (+/-0.021) for {'gamma': 1.0, 'learning_rate': 0.5, 'max_depth': 5, 'min_child_weight': 5, 'reg_lambda': 20.0, 'scale_pos_weight': 3}\n",
            "0.823 (+/-0.018) for {'gamma': 1.0, 'learning_rate': 0.5, 'max_depth': 5, 'min_child_weight': 5, 'reg_lambda': 20.0, 'scale_pos_weight': 5}\n",
            "0.805 (+/-0.018) for {'gamma': 1.0, 'learning_rate': 0.75, 'max_depth': 3, 'min_child_weight': 1, 'reg_lambda': 0, 'scale_pos_weight': 1}\n",
            "0.809 (+/-0.022) for {'gamma': 1.0, 'learning_rate': 0.75, 'max_depth': 3, 'min_child_weight': 1, 'reg_lambda': 0, 'scale_pos_weight': 3}\n",
            "0.812 (+/-0.020) for {'gamma': 1.0, 'learning_rate': 0.75, 'max_depth': 3, 'min_child_weight': 1, 'reg_lambda': 0, 'scale_pos_weight': 5}\n",
            "0.812 (+/-0.022) for {'gamma': 1.0, 'learning_rate': 0.75, 'max_depth': 3, 'min_child_weight': 1, 'reg_lambda': 1.0, 'scale_pos_weight': 1}\n",
            "0.813 (+/-0.022) for {'gamma': 1.0, 'learning_rate': 0.75, 'max_depth': 3, 'min_child_weight': 1, 'reg_lambda': 1.0, 'scale_pos_weight': 3}\n",
            "0.814 (+/-0.019) for {'gamma': 1.0, 'learning_rate': 0.75, 'max_depth': 3, 'min_child_weight': 1, 'reg_lambda': 1.0, 'scale_pos_weight': 5}\n",
            "0.832 (+/-0.018) for {'gamma': 1.0, 'learning_rate': 0.75, 'max_depth': 3, 'min_child_weight': 1, 'reg_lambda': 10.0, 'scale_pos_weight': 1}\n",
            "0.824 (+/-0.019) for {'gamma': 1.0, 'learning_rate': 0.75, 'max_depth': 3, 'min_child_weight': 1, 'reg_lambda': 10.0, 'scale_pos_weight': 3}\n",
            "0.821 (+/-0.023) for {'gamma': 1.0, 'learning_rate': 0.75, 'max_depth': 3, 'min_child_weight': 1, 'reg_lambda': 10.0, 'scale_pos_weight': 5}\n",
            "0.834 (+/-0.017) for {'gamma': 1.0, 'learning_rate': 0.75, 'max_depth': 3, 'min_child_weight': 1, 'reg_lambda': 20.0, 'scale_pos_weight': 1}\n",
            "0.829 (+/-0.019) for {'gamma': 1.0, 'learning_rate': 0.75, 'max_depth': 3, 'min_child_weight': 1, 'reg_lambda': 20.0, 'scale_pos_weight': 3}\n",
            "0.827 (+/-0.020) for {'gamma': 1.0, 'learning_rate': 0.75, 'max_depth': 3, 'min_child_weight': 1, 'reg_lambda': 20.0, 'scale_pos_weight': 5}\n",
            "0.814 (+/-0.026) for {'gamma': 1.0, 'learning_rate': 0.75, 'max_depth': 3, 'min_child_weight': 5, 'reg_lambda': 0, 'scale_pos_weight': 1}\n",
            "0.812 (+/-0.015) for {'gamma': 1.0, 'learning_rate': 0.75, 'max_depth': 3, 'min_child_weight': 5, 'reg_lambda': 0, 'scale_pos_weight': 3}\n",
            "0.814 (+/-0.030) for {'gamma': 1.0, 'learning_rate': 0.75, 'max_depth': 3, 'min_child_weight': 5, 'reg_lambda': 0, 'scale_pos_weight': 5}\n",
            "0.814 (+/-0.022) for {'gamma': 1.0, 'learning_rate': 0.75, 'max_depth': 3, 'min_child_weight': 5, 'reg_lambda': 1.0, 'scale_pos_weight': 1}\n",
            "0.815 (+/-0.024) for {'gamma': 1.0, 'learning_rate': 0.75, 'max_depth': 3, 'min_child_weight': 5, 'reg_lambda': 1.0, 'scale_pos_weight': 3}\n",
            "0.817 (+/-0.022) for {'gamma': 1.0, 'learning_rate': 0.75, 'max_depth': 3, 'min_child_weight': 5, 'reg_lambda': 1.0, 'scale_pos_weight': 5}\n",
            "0.830 (+/-0.017) for {'gamma': 1.0, 'learning_rate': 0.75, 'max_depth': 3, 'min_child_weight': 5, 'reg_lambda': 10.0, 'scale_pos_weight': 1}\n",
            "0.824 (+/-0.017) for {'gamma': 1.0, 'learning_rate': 0.75, 'max_depth': 3, 'min_child_weight': 5, 'reg_lambda': 10.0, 'scale_pos_weight': 3}\n",
            "0.821 (+/-0.020) for {'gamma': 1.0, 'learning_rate': 0.75, 'max_depth': 3, 'min_child_weight': 5, 'reg_lambda': 10.0, 'scale_pos_weight': 5}\n",
            "0.835 (+/-0.019) for {'gamma': 1.0, 'learning_rate': 0.75, 'max_depth': 3, 'min_child_weight': 5, 'reg_lambda': 20.0, 'scale_pos_weight': 1}\n",
            "0.827 (+/-0.019) for {'gamma': 1.0, 'learning_rate': 0.75, 'max_depth': 3, 'min_child_weight': 5, 'reg_lambda': 20.0, 'scale_pos_weight': 3}\n",
            "0.826 (+/-0.018) for {'gamma': 1.0, 'learning_rate': 0.75, 'max_depth': 3, 'min_child_weight': 5, 'reg_lambda': 20.0, 'scale_pos_weight': 5}\n",
            "0.796 (+/-0.016) for {'gamma': 1.0, 'learning_rate': 0.75, 'max_depth': 4, 'min_child_weight': 1, 'reg_lambda': 0, 'scale_pos_weight': 1}\n",
            "0.796 (+/-0.021) for {'gamma': 1.0, 'learning_rate': 0.75, 'max_depth': 4, 'min_child_weight': 1, 'reg_lambda': 0, 'scale_pos_weight': 3}\n",
            "0.797 (+/-0.018) for {'gamma': 1.0, 'learning_rate': 0.75, 'max_depth': 4, 'min_child_weight': 1, 'reg_lambda': 0, 'scale_pos_weight': 5}\n",
            "0.806 (+/-0.015) for {'gamma': 1.0, 'learning_rate': 0.75, 'max_depth': 4, 'min_child_weight': 1, 'reg_lambda': 1.0, 'scale_pos_weight': 1}\n",
            "0.806 (+/-0.021) for {'gamma': 1.0, 'learning_rate': 0.75, 'max_depth': 4, 'min_child_weight': 1, 'reg_lambda': 1.0, 'scale_pos_weight': 3}\n",
            "0.807 (+/-0.026) for {'gamma': 1.0, 'learning_rate': 0.75, 'max_depth': 4, 'min_child_weight': 1, 'reg_lambda': 1.0, 'scale_pos_weight': 5}\n",
            "0.819 (+/-0.017) for {'gamma': 1.0, 'learning_rate': 0.75, 'max_depth': 4, 'min_child_weight': 1, 'reg_lambda': 10.0, 'scale_pos_weight': 1}\n",
            "0.814 (+/-0.015) for {'gamma': 1.0, 'learning_rate': 0.75, 'max_depth': 4, 'min_child_weight': 1, 'reg_lambda': 10.0, 'scale_pos_weight': 3}\n",
            "0.813 (+/-0.019) for {'gamma': 1.0, 'learning_rate': 0.75, 'max_depth': 4, 'min_child_weight': 1, 'reg_lambda': 10.0, 'scale_pos_weight': 5}\n",
            "0.831 (+/-0.014) for {'gamma': 1.0, 'learning_rate': 0.75, 'max_depth': 4, 'min_child_weight': 1, 'reg_lambda': 20.0, 'scale_pos_weight': 1}\n",
            "0.818 (+/-0.020) for {'gamma': 1.0, 'learning_rate': 0.75, 'max_depth': 4, 'min_child_weight': 1, 'reg_lambda': 20.0, 'scale_pos_weight': 3}\n",
            "0.817 (+/-0.015) for {'gamma': 1.0, 'learning_rate': 0.75, 'max_depth': 4, 'min_child_weight': 1, 'reg_lambda': 20.0, 'scale_pos_weight': 5}\n",
            "0.803 (+/-0.015) for {'gamma': 1.0, 'learning_rate': 0.75, 'max_depth': 4, 'min_child_weight': 5, 'reg_lambda': 0, 'scale_pos_weight': 1}\n",
            "0.799 (+/-0.021) for {'gamma': 1.0, 'learning_rate': 0.75, 'max_depth': 4, 'min_child_weight': 5, 'reg_lambda': 0, 'scale_pos_weight': 3}\n",
            "0.802 (+/-0.016) for {'gamma': 1.0, 'learning_rate': 0.75, 'max_depth': 4, 'min_child_weight': 5, 'reg_lambda': 0, 'scale_pos_weight': 5}\n",
            "0.805 (+/-0.013) for {'gamma': 1.0, 'learning_rate': 0.75, 'max_depth': 4, 'min_child_weight': 5, 'reg_lambda': 1.0, 'scale_pos_weight': 1}\n",
            "0.801 (+/-0.018) for {'gamma': 1.0, 'learning_rate': 0.75, 'max_depth': 4, 'min_child_weight': 5, 'reg_lambda': 1.0, 'scale_pos_weight': 3}\n",
            "0.806 (+/-0.028) for {'gamma': 1.0, 'learning_rate': 0.75, 'max_depth': 4, 'min_child_weight': 5, 'reg_lambda': 1.0, 'scale_pos_weight': 5}\n",
            "0.821 (+/-0.017) for {'gamma': 1.0, 'learning_rate': 0.75, 'max_depth': 4, 'min_child_weight': 5, 'reg_lambda': 10.0, 'scale_pos_weight': 1}\n",
            "0.814 (+/-0.017) for {'gamma': 1.0, 'learning_rate': 0.75, 'max_depth': 4, 'min_child_weight': 5, 'reg_lambda': 10.0, 'scale_pos_weight': 3}\n",
            "0.816 (+/-0.017) for {'gamma': 1.0, 'learning_rate': 0.75, 'max_depth': 4, 'min_child_weight': 5, 'reg_lambda': 10.0, 'scale_pos_weight': 5}\n",
            "0.827 (+/-0.018) for {'gamma': 1.0, 'learning_rate': 0.75, 'max_depth': 4, 'min_child_weight': 5, 'reg_lambda': 20.0, 'scale_pos_weight': 1}\n",
            "0.818 (+/-0.020) for {'gamma': 1.0, 'learning_rate': 0.75, 'max_depth': 4, 'min_child_weight': 5, 'reg_lambda': 20.0, 'scale_pos_weight': 3}\n",
            "0.818 (+/-0.018) for {'gamma': 1.0, 'learning_rate': 0.75, 'max_depth': 4, 'min_child_weight': 5, 'reg_lambda': 20.0, 'scale_pos_weight': 5}\n",
            "0.789 (+/-0.018) for {'gamma': 1.0, 'learning_rate': 0.75, 'max_depth': 5, 'min_child_weight': 1, 'reg_lambda': 0, 'scale_pos_weight': 1}\n",
            "0.786 (+/-0.015) for {'gamma': 1.0, 'learning_rate': 0.75, 'max_depth': 5, 'min_child_weight': 1, 'reg_lambda': 0, 'scale_pos_weight': 3}\n",
            "0.792 (+/-0.023) for {'gamma': 1.0, 'learning_rate': 0.75, 'max_depth': 5, 'min_child_weight': 1, 'reg_lambda': 0, 'scale_pos_weight': 5}\n",
            "0.797 (+/-0.025) for {'gamma': 1.0, 'learning_rate': 0.75, 'max_depth': 5, 'min_child_weight': 1, 'reg_lambda': 1.0, 'scale_pos_weight': 1}\n",
            "0.800 (+/-0.019) for {'gamma': 1.0, 'learning_rate': 0.75, 'max_depth': 5, 'min_child_weight': 1, 'reg_lambda': 1.0, 'scale_pos_weight': 3}\n",
            "0.804 (+/-0.013) for {'gamma': 1.0, 'learning_rate': 0.75, 'max_depth': 5, 'min_child_weight': 1, 'reg_lambda': 1.0, 'scale_pos_weight': 5}\n",
            "0.814 (+/-0.016) for {'gamma': 1.0, 'learning_rate': 0.75, 'max_depth': 5, 'min_child_weight': 1, 'reg_lambda': 10.0, 'scale_pos_weight': 1}\n",
            "0.807 (+/-0.017) for {'gamma': 1.0, 'learning_rate': 0.75, 'max_depth': 5, 'min_child_weight': 1, 'reg_lambda': 10.0, 'scale_pos_weight': 3}\n",
            "0.810 (+/-0.018) for {'gamma': 1.0, 'learning_rate': 0.75, 'max_depth': 5, 'min_child_weight': 1, 'reg_lambda': 10.0, 'scale_pos_weight': 5}\n",
            "0.821 (+/-0.014) for {'gamma': 1.0, 'learning_rate': 0.75, 'max_depth': 5, 'min_child_weight': 1, 'reg_lambda': 20.0, 'scale_pos_weight': 1}\n",
            "0.817 (+/-0.015) for {'gamma': 1.0, 'learning_rate': 0.75, 'max_depth': 5, 'min_child_weight': 1, 'reg_lambda': 20.0, 'scale_pos_weight': 3}\n",
            "0.815 (+/-0.008) for {'gamma': 1.0, 'learning_rate': 0.75, 'max_depth': 5, 'min_child_weight': 1, 'reg_lambda': 20.0, 'scale_pos_weight': 5}\n",
            "0.796 (+/-0.019) for {'gamma': 1.0, 'learning_rate': 0.75, 'max_depth': 5, 'min_child_weight': 5, 'reg_lambda': 0, 'scale_pos_weight': 1}\n",
            "0.798 (+/-0.020) for {'gamma': 1.0, 'learning_rate': 0.75, 'max_depth': 5, 'min_child_weight': 5, 'reg_lambda': 0, 'scale_pos_weight': 3}\n",
            "0.796 (+/-0.011) for {'gamma': 1.0, 'learning_rate': 0.75, 'max_depth': 5, 'min_child_weight': 5, 'reg_lambda': 0, 'scale_pos_weight': 5}\n",
            "0.798 (+/-0.023) for {'gamma': 1.0, 'learning_rate': 0.75, 'max_depth': 5, 'min_child_weight': 5, 'reg_lambda': 1.0, 'scale_pos_weight': 1}\n",
            "0.795 (+/-0.021) for {'gamma': 1.0, 'learning_rate': 0.75, 'max_depth': 5, 'min_child_weight': 5, 'reg_lambda': 1.0, 'scale_pos_weight': 3}\n",
            "0.804 (+/-0.013) for {'gamma': 1.0, 'learning_rate': 0.75, 'max_depth': 5, 'min_child_weight': 5, 'reg_lambda': 1.0, 'scale_pos_weight': 5}\n",
            "0.817 (+/-0.016) for {'gamma': 1.0, 'learning_rate': 0.75, 'max_depth': 5, 'min_child_weight': 5, 'reg_lambda': 10.0, 'scale_pos_weight': 1}\n",
            "0.808 (+/-0.009) for {'gamma': 1.0, 'learning_rate': 0.75, 'max_depth': 5, 'min_child_weight': 5, 'reg_lambda': 10.0, 'scale_pos_weight': 3}\n",
            "0.813 (+/-0.023) for {'gamma': 1.0, 'learning_rate': 0.75, 'max_depth': 5, 'min_child_weight': 5, 'reg_lambda': 10.0, 'scale_pos_weight': 5}\n",
            "0.821 (+/-0.015) for {'gamma': 1.0, 'learning_rate': 0.75, 'max_depth': 5, 'min_child_weight': 5, 'reg_lambda': 20.0, 'scale_pos_weight': 1}\n",
            "0.816 (+/-0.016) for {'gamma': 1.0, 'learning_rate': 0.75, 'max_depth': 5, 'min_child_weight': 5, 'reg_lambda': 20.0, 'scale_pos_weight': 3}\n",
            "0.816 (+/-0.017) for {'gamma': 1.0, 'learning_rate': 0.75, 'max_depth': 5, 'min_child_weight': 5, 'reg_lambda': 20.0, 'scale_pos_weight': 5}\n"
          ]
        }
      ]
    },
    {
      "cell_type": "code",
      "source": [
        "y_pred_op = optimal_params.predict(X_test)"
      ],
      "metadata": {
        "id": "ddsEzbhWXmDp"
      },
      "execution_count": 78,
      "outputs": []
    },
    {
      "cell_type": "code",
      "source": [
        "print(metrics.classification_report(y_test, y_pred_op)) ## Not good, we are not able to classify customers who have left properly. Which is the target"
      ],
      "metadata": {
        "colab": {
          "base_uri": "https://localhost:8080/"
        },
        "id": "0NZU_ii2XwB5",
        "outputId": "79fb32eb-dbbc-4d6f-ac5b-c733fb032b51"
      },
      "execution_count": 79,
      "outputs": [
        {
          "output_type": "stream",
          "name": "stdout",
          "text": [
            "              precision    recall  f1-score   support\n",
            "\n",
            "           0       0.84      0.90      0.87      1291\n",
            "           1       0.65      0.54      0.59       467\n",
            "\n",
            "    accuracy                           0.80      1758\n",
            "   macro avg       0.75      0.72      0.73      1758\n",
            "weighted avg       0.79      0.80      0.80      1758\n",
            "\n"
          ]
        }
      ]
    },
    {
      "cell_type": "code",
      "source": [
        "plot_confusion_matrix(optimal_params, X_test, y_test)\n",
        "plt.show()"
      ],
      "metadata": {
        "colab": {
          "base_uri": "https://localhost:8080/",
          "height": 667
        },
        "id": "g8CTamTVYM_6",
        "outputId": "4f288c14-6d42-4ea5-b872-425e8dfb6a00"
      },
      "execution_count": 80,
      "outputs": [
        {
          "output_type": "stream",
          "name": "stderr",
          "text": [
            "/usr/local/lib/python3.7/dist-packages/sklearn/utils/deprecation.py:87: FutureWarning: Function plot_confusion_matrix is deprecated; Function `plot_confusion_matrix` is deprecated in 1.0 and will be removed in 1.2. Use one of the class methods: ConfusionMatrixDisplay.from_predictions or ConfusionMatrixDisplay.from_estimator.\n",
            "  warnings.warn(msg, category=FutureWarning)\n"
          ]
        },
        {
          "output_type": "display_data",
          "data": {
            "text/plain": [
              "<Figure size 1440x720 with 2 Axes>"
            ],
            "image/png": "[encoded data removed]"
          },
          "metadata": {}
        }
      ]
    },
    {
      "cell_type": "markdown",
      "source": [
        ""
      ],
      "metadata": {
        "id": "afVYw0YKIF7i"
      }
    }
  ]
}