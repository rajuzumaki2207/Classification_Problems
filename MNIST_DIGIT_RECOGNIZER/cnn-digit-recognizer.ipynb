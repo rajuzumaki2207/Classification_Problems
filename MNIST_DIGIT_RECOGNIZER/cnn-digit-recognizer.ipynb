{
 "cells": [
  {
   "cell_type": "code",
   "execution_count": 1,
   "id": "10d8dd00",
   "metadata": {
    "_cell_guid": "b1076dfc-b9ad-4769-8c92-a6c4dae69d19",
    "_uuid": "8f2839f25d086af736a60e9eeb907d3b93b6e0e5",
    "execution": {
     "iopub.execute_input": "2021-11-16T11:13:15.868567Z",
     "iopub.status.busy": "2021-11-16T11:13:15.866681Z",
     "iopub.status.idle": "2021-11-16T11:13:21.036312Z",
     "shell.execute_reply": "2021-11-16T11:13:21.035575Z",
     "shell.execute_reply.started": "2021-11-16T11:08:20.359639Z"
    },
    "papermill": {
     "duration": 5.20412,
     "end_time": "2021-11-16T11:13:21.036523",
     "exception": false,
     "start_time": "2021-11-16T11:13:15.832403",
     "status": "completed"
    },
    "tags": []
   },
   "outputs": [
    {
     "ename": "ModuleNotFoundError",
     "evalue": "No module named 'tensorflow'",
     "output_type": "error",
     "traceback": [
      "\u001b[1;31m---------------------------------------------------------------------------\u001b[0m",
      "\u001b[1;31mModuleNotFoundError\u001b[0m                       Traceback (most recent call last)",
      "\u001b[1;32mC:\\Users\\RAJDEE~1\\AppData\\Local\\Temp/ipykernel_24636/1479208338.py\u001b[0m in \u001b[0;36m<module>\u001b[1;34m\u001b[0m\n\u001b[0;32m      5\u001b[0m \u001b[1;32mimport\u001b[0m \u001b[0mnumpy\u001b[0m \u001b[1;32mas\u001b[0m \u001b[0mnp\u001b[0m \u001b[1;31m# linear algebra\u001b[0m\u001b[1;33m\u001b[0m\u001b[1;33m\u001b[0m\u001b[0m\n\u001b[0;32m      6\u001b[0m \u001b[1;32mimport\u001b[0m \u001b[0mpandas\u001b[0m \u001b[1;32mas\u001b[0m \u001b[0mpd\u001b[0m \u001b[1;31m# data processing, CSV file I/O (e.g. pd.read_csv)\u001b[0m\u001b[1;33m\u001b[0m\u001b[1;33m\u001b[0m\u001b[0m\n\u001b[1;32m----> 7\u001b[1;33m \u001b[1;32mimport\u001b[0m \u001b[0mtensorflow\u001b[0m \u001b[1;32mas\u001b[0m \u001b[0mtf\u001b[0m\u001b[1;33m\u001b[0m\u001b[1;33m\u001b[0m\u001b[0m\n\u001b[0m\u001b[0;32m      8\u001b[0m \u001b[1;32mfrom\u001b[0m \u001b[0mtensorflow\u001b[0m \u001b[1;32mimport\u001b[0m \u001b[0mkeras\u001b[0m\u001b[1;33m\u001b[0m\u001b[1;33m\u001b[0m\u001b[0m\n",
      "\u001b[1;31mModuleNotFoundError\u001b[0m: No module named 'tensorflow'"
     ]
    }
   ],
   "source": [
    "# This Python 3 environment comes with many helpful analytics libraries installed\n",
    "# It is defined by the kaggle/python Docker image: https://github.com/kaggle/docker-python\n",
    "# For example, here's several helpful packages to load\n",
    "\n",
    "import numpy as np # linear algebra\n",
    "import pandas as pd # data processing, CSV file I/O (e.g. pd.read_csv)\n",
    "import tensorflow as tf\n",
    "from tensorflow import keras"
   ]
  },
  {
   "cell_type": "code",
   "execution_count": null,
   "id": "1881d253",
   "metadata": {
    "execution": {
     "iopub.execute_input": "2021-11-16T11:13:21.094295Z",
     "iopub.status.busy": "2021-11-16T11:13:21.093252Z",
     "iopub.status.idle": "2021-11-16T11:13:21.098121Z",
     "shell.execute_reply": "2021-11-16T11:13:21.098628Z",
     "shell.execute_reply.started": "2021-11-16T11:08:26.152356Z"
    },
    "papermill": {
     "duration": 0.034685,
     "end_time": "2021-11-16T11:13:21.098799",
     "exception": false,
     "start_time": "2021-11-16T11:13:21.064114",
     "status": "completed"
    },
    "tags": []
   },
   "outputs": [],
   "source": [
    "print (tf.version)"
   ]
  },
  {
   "cell_type": "code",
   "execution_count": null,
   "id": "447111db",
   "metadata": {
    "execution": {
     "iopub.execute_input": "2021-11-16T11:13:21.157397Z",
     "iopub.status.busy": "2021-11-16T11:13:21.156719Z",
     "iopub.status.idle": "2021-11-16T11:13:26.873572Z",
     "shell.execute_reply": "2021-11-16T11:13:26.874117Z",
     "shell.execute_reply.started": "2021-11-16T11:08:26.159261Z"
    },
    "papermill": {
     "duration": 5.748795,
     "end_time": "2021-11-16T11:13:26.874307",
     "exception": false,
     "start_time": "2021-11-16T11:13:21.125512",
     "status": "completed"
    },
    "tags": []
   },
   "outputs": [],
   "source": [
    "#read input\n",
    "df_train=pd.read_csv('train.csv')\n",
    "df_test =pd.read_csv('test.csv')\n"
   ]
  },
  {
   "cell_type": "markdown",
   "id": "a6703d2d",
   "metadata": {
    "papermill": {
     "duration": 0.026631,
     "end_time": "2021-11-16T11:13:26.928267",
     "exception": false,
     "start_time": "2021-11-16T11:13:26.901636",
     "status": "completed"
    },
    "tags": []
   },
   "source": [
    "# Divide training and validation (test) set "
   ]
  },
  {
   "cell_type": "code",
   "execution_count": null,
   "id": "cda014e2",
   "metadata": {
    "execution": {
     "iopub.execute_input": "2021-11-16T11:13:26.989846Z",
     "iopub.status.busy": "2021-11-16T11:13:26.988962Z",
     "iopub.status.idle": "2021-11-16T11:13:28.141361Z",
     "shell.execute_reply": "2021-11-16T11:13:28.140718Z",
     "shell.execute_reply.started": "2021-11-16T11:08:31.620157Z"
    },
    "papermill": {
     "duration": 1.184486,
     "end_time": "2021-11-16T11:13:28.141519",
     "exception": false,
     "start_time": "2021-11-16T11:13:26.957033",
     "status": "completed"
    },
    "tags": []
   },
   "outputs": [],
   "source": [
    "from sklearn.model_selection import train_test_split\n",
    "y= df_train['label']\n",
    "x= df_train[df_train.columns[1:785]].div(255) ## Scaling the inputs \n",
    "x_train, x_test, y_train, y_test =train_test_split( x, y, test_size=0.15, random_state=42) # here x_test is created for validation"
   ]
  },
  {
   "cell_type": "code",
   "execution_count": null,
   "id": "e3b707f5",
   "metadata": {
    "execution": {
     "iopub.execute_input": "2021-11-16T11:13:28.202230Z",
     "iopub.status.busy": "2021-11-16T11:13:28.201481Z",
     "iopub.status.idle": "2021-11-16T11:13:30.733498Z",
     "shell.execute_reply": "2021-11-16T11:13:30.734080Z",
     "shell.execute_reply.started": "2021-11-16T11:08:32.806811Z"
    },
    "papermill": {
     "duration": 2.566123,
     "end_time": "2021-11-16T11:13:30.734267",
     "exception": false,
     "start_time": "2021-11-16T11:13:28.168144",
     "status": "completed"
    },
    "tags": []
   },
   "outputs": [],
   "source": [
    "x.describe()"
   ]
  },
  {
   "cell_type": "code",
   "execution_count": null,
   "id": "c64ae88d",
   "metadata": {
    "execution": {
     "iopub.execute_input": "2021-11-16T11:13:30.795655Z",
     "iopub.status.busy": "2021-11-16T11:13:30.794920Z",
     "iopub.status.idle": "2021-11-16T11:13:30.798799Z",
     "shell.execute_reply": "2021-11-16T11:13:30.798109Z",
     "shell.execute_reply.started": "2021-11-16T11:08:35.449546Z"
    },
    "papermill": {
     "duration": 0.037144,
     "end_time": "2021-11-16T11:13:30.798942",
     "exception": false,
     "start_time": "2021-11-16T11:13:30.761798",
     "status": "completed"
    },
    "tags": []
   },
   "outputs": [],
   "source": [
    "len(x_train)"
   ]
  },
  {
   "cell_type": "code",
   "execution_count": null,
   "id": "4be6b84a",
   "metadata": {
    "execution": {
     "iopub.execute_input": "2021-11-16T11:13:30.874514Z",
     "iopub.status.busy": "2021-11-16T11:13:30.869836Z",
     "iopub.status.idle": "2021-11-16T11:13:30.879097Z",
     "shell.execute_reply": "2021-11-16T11:13:30.878537Z",
     "shell.execute_reply.started": "2021-11-16T11:08:35.455861Z"
    },
    "papermill": {
     "duration": 0.05178,
     "end_time": "2021-11-16T11:13:30.879248",
     "exception": false,
     "start_time": "2021-11-16T11:13:30.827468",
     "status": "completed"
    },
    "tags": []
   },
   "outputs": [],
   "source": [
    "df_test.head()"
   ]
  },
  {
   "cell_type": "markdown",
   "id": "3efe8edc",
   "metadata": {
    "papermill": {
     "duration": 0.028965,
     "end_time": "2021-11-16T11:13:30.936737",
     "exception": false,
     "start_time": "2021-11-16T11:13:30.907772",
     "status": "completed"
    },
    "tags": []
   },
   "source": [
    "# Visualize the training data using matrix plot"
   ]
  },
  {
   "cell_type": "code",
   "execution_count": null,
   "id": "ba3a7da5",
   "metadata": {
    "execution": {
     "iopub.execute_input": "2021-11-16T11:13:31.000570Z",
     "iopub.status.busy": "2021-11-16T11:13:30.999849Z",
     "iopub.status.idle": "2021-11-16T11:13:31.003820Z",
     "shell.execute_reply": "2021-11-16T11:13:31.003214Z",
     "shell.execute_reply.started": "2021-11-16T11:08:35.481033Z"
    },
    "papermill": {
     "duration": 0.038171,
     "end_time": "2021-11-16T11:13:31.003957",
     "exception": false,
     "start_time": "2021-11-16T11:13:30.965786",
     "status": "completed"
    },
    "tags": []
   },
   "outputs": [],
   "source": [
    "import matplotlib.pyplot as plt\n",
    "%matplotlib inline"
   ]
  },
  {
   "cell_type": "code",
   "execution_count": null,
   "id": "37cf6450",
   "metadata": {
    "execution": {
     "iopub.execute_input": "2021-11-16T11:13:31.087185Z",
     "iopub.status.busy": "2021-11-16T11:13:31.084261Z",
     "iopub.status.idle": "2021-11-16T11:13:31.089819Z",
     "shell.execute_reply": "2021-11-16T11:13:31.090464Z",
     "shell.execute_reply.started": "2021-11-16T11:08:35.496213Z"
    },
    "papermill": {
     "duration": 0.058025,
     "end_time": "2021-11-16T11:13:31.090643",
     "exception": false,
     "start_time": "2021-11-16T11:13:31.032618",
     "status": "completed"
    },
    "tags": []
   },
   "outputs": [],
   "source": [
    "x_train.iloc[[1]]"
   ]
  },
  {
   "cell_type": "code",
   "execution_count": null,
   "id": "938021d7",
   "metadata": {
    "execution": {
     "iopub.execute_input": "2021-11-16T11:13:31.154067Z",
     "iopub.status.busy": "2021-11-16T11:13:31.153214Z",
     "iopub.status.idle": "2021-11-16T11:13:33.243130Z",
     "shell.execute_reply": "2021-11-16T11:13:33.242506Z",
     "shell.execute_reply.started": "2021-11-16T11:08:35.530541Z"
    },
    "papermill": {
     "duration": 2.122984,
     "end_time": "2021-11-16T11:13:33.243272",
     "exception": false,
     "start_time": "2021-11-16T11:13:31.120288",
     "status": "completed"
    },
    "tags": []
   },
   "outputs": [],
   "source": [
    "df_train.describe()\n",
    "  \n"
   ]
  },
  {
   "cell_type": "code",
   "execution_count": null,
   "id": "f34f0499",
   "metadata": {
    "execution": {
     "iopub.execute_input": "2021-11-16T11:13:33.305966Z",
     "iopub.status.busy": "2021-11-16T11:13:33.305261Z",
     "iopub.status.idle": "2021-11-16T11:13:33.624809Z",
     "shell.execute_reply": "2021-11-16T11:13:33.626014Z",
     "shell.execute_reply.started": "2021-11-16T11:08:37.673238Z"
    },
    "papermill": {
     "duration": 0.353576,
     "end_time": "2021-11-16T11:13:33.626300",
     "exception": false,
     "start_time": "2021-11-16T11:13:33.272724",
     "status": "completed"
    },
    "tags": []
   },
   "outputs": [],
   "source": [
    "\n",
    "plt.matshow(x_test.iloc[[0]].to_numpy().reshape(28,28))"
   ]
  },
  {
   "cell_type": "markdown",
   "id": "dbded4c5",
   "metadata": {
    "papermill": {
     "duration": 0.029938,
     "end_time": "2021-11-16T11:13:33.705827",
     "exception": false,
     "start_time": "2021-11-16T11:13:33.675889",
     "status": "completed"
    },
    "tags": []
   },
   "source": [
    "# Simple Neural Network"
   ]
  },
  {
   "cell_type": "code",
   "execution_count": null,
   "id": "927fc62b",
   "metadata": {
    "execution": {
     "iopub.execute_input": "2021-11-16T11:13:33.772938Z",
     "iopub.status.busy": "2021-11-16T11:13:33.771939Z",
     "iopub.status.idle": "2021-11-16T11:14:00.981167Z",
     "shell.execute_reply": "2021-11-16T11:14:00.980598Z",
     "shell.execute_reply.started": "2021-11-16T11:08:37.994262Z"
    },
    "papermill": {
     "duration": 27.245471,
     "end_time": "2021-11-16T11:14:00.981307",
     "exception": false,
     "start_time": "2021-11-16T11:13:33.735836",
     "status": "completed"
    },
    "tags": []
   },
   "outputs": [],
   "source": [
    "# Define sequential Network\n",
    "model =keras.Sequential([\n",
    "    keras.layers.Dense(100, input_shape=(784,), activation='relu'),\n",
    "    keras.layers.Dense(10,activation='softmax')\n",
    "])\n",
    "model.compile(\n",
    "optimizer='adam',\n",
    "loss= 'sparse_categorical_crossentropy',\n",
    "metrics=['accuracy']\n",
    ")\n",
    "model.fit(x_train,y_train, epochs=10)\n"
   ]
  },
  {
   "cell_type": "markdown",
   "id": "648ca4c1",
   "metadata": {
    "papermill": {
     "duration": 0.195161,
     "end_time": "2021-11-16T11:14:01.437383",
     "exception": false,
     "start_time": "2021-11-16T11:14:01.242222",
     "status": "completed"
    },
    "tags": []
   },
   "source": [
    "# Evaluate the model"
   ]
  },
  {
   "cell_type": "code",
   "execution_count": null,
   "id": "10c29e8f",
   "metadata": {
    "execution": {
     "iopub.execute_input": "2021-11-16T11:14:01.843867Z",
     "iopub.status.busy": "2021-11-16T11:14:01.842588Z",
     "iopub.status.idle": "2021-11-16T11:14:02.483472Z",
     "shell.execute_reply": "2021-11-16T11:14:02.484050Z",
     "shell.execute_reply.started": "2021-11-16T11:09:09.754489Z"
    },
    "papermill": {
     "duration": 0.850689,
     "end_time": "2021-11-16T11:14:02.484282",
     "exception": false,
     "start_time": "2021-11-16T11:14:01.633593",
     "status": "completed"
    },
    "tags": []
   },
   "outputs": [],
   "source": [
    "print ('The accuracy of the current simple NN is ')\n",
    "print ('#################')\n",
    "print (model.evaluate(x_test, y_test)[1])"
   ]
  },
  {
   "cell_type": "markdown",
   "id": "1079f43b",
   "metadata": {
    "papermill": {
     "duration": 0.206474,
     "end_time": "2021-11-16T11:14:02.896684",
     "exception": false,
     "start_time": "2021-11-16T11:14:02.690210",
     "status": "completed"
    },
    "tags": []
   },
   "source": [
    "# Use the model to predict the validation test"
   ]
  },
  {
   "cell_type": "code",
   "execution_count": null,
   "id": "673d14fc",
   "metadata": {
    "execution": {
     "iopub.execute_input": "2021-11-16T11:14:03.284582Z",
     "iopub.status.busy": "2021-11-16T11:14:03.281778Z",
     "iopub.status.idle": "2021-11-16T11:14:03.661524Z",
     "shell.execute_reply": "2021-11-16T11:14:03.662071Z",
     "shell.execute_reply.started": "2021-11-16T11:09:10.535879Z"
    },
    "papermill": {
     "duration": 0.56983,
     "end_time": "2021-11-16T11:14:03.662247",
     "exception": false,
     "start_time": "2021-11-16T11:14:03.092417",
     "status": "completed"
    },
    "tags": []
   },
   "outputs": [],
   "source": [
    "y_pred=model.predict(x_test) # Here the prediction are probability matrix between 0 and 9.\n"
   ]
  },
  {
   "cell_type": "code",
   "execution_count": null,
   "id": "c1a3cf64",
   "metadata": {
    "execution": {
     "iopub.execute_input": "2021-11-16T11:14:04.046998Z",
     "iopub.status.busy": "2021-11-16T11:14:04.046260Z",
     "iopub.status.idle": "2021-11-16T11:14:04.069855Z",
     "shell.execute_reply": "2021-11-16T11:14:04.070443Z",
     "shell.execute_reply.started": "2021-11-16T11:09:10.937303Z"
    },
    "papermill": {
     "duration": 0.219221,
     "end_time": "2021-11-16T11:14:04.070620",
     "exception": false,
     "start_time": "2021-11-16T11:14:03.851399",
     "status": "completed"
    },
    "tags": []
   },
   "outputs": [],
   "source": [
    "y_pred_argmax= [np.argmax(i) for i in y_pred] # Reducing the probability to labels with max prob"
   ]
  },
  {
   "cell_type": "markdown",
   "id": "50d6820e",
   "metadata": {
    "papermill": {
     "duration": 0.190045,
     "end_time": "2021-11-16T11:14:04.448093",
     "exception": false,
     "start_time": "2021-11-16T11:14:04.258048",
     "status": "completed"
    },
    "tags": []
   },
   "source": [
    "# Confusion matrix"
   ]
  },
  {
   "cell_type": "code",
   "execution_count": null,
   "id": "c8a338ef",
   "metadata": {
    "execution": {
     "iopub.execute_input": "2021-11-16T11:14:04.835641Z",
     "iopub.status.busy": "2021-11-16T11:14:04.834863Z",
     "iopub.status.idle": "2021-11-16T11:14:04.864163Z",
     "shell.execute_reply": "2021-11-16T11:14:04.864723Z",
     "shell.execute_reply.started": "2021-11-16T11:09:10.958459Z"
    },
    "papermill": {
     "duration": 0.222423,
     "end_time": "2021-11-16T11:14:04.864941",
     "exception": false,
     "start_time": "2021-11-16T11:14:04.642518",
     "status": "completed"
    },
    "tags": []
   },
   "outputs": [],
   "source": [
    "CM= tf.math.confusion_matrix(\n",
    "    labels=y_test, predictions=y_pred_argmax,\n",
    ")"
   ]
  },
  {
   "cell_type": "markdown",
   "id": "cb4fac45",
   "metadata": {
    "papermill": {
     "duration": 0.187133,
     "end_time": "2021-11-16T11:14:05.240112",
     "exception": false,
     "start_time": "2021-11-16T11:14:05.052979",
     "status": "completed"
    },
    "tags": []
   },
   "source": [
    "# SEABORN HEATMAP FOR CONFUSION MATRIX"
   ]
  },
  {
   "cell_type": "code",
   "execution_count": null,
   "id": "26458599",
   "metadata": {
    "execution": {
     "iopub.execute_input": "2021-11-16T11:14:05.620856Z",
     "iopub.status.busy": "2021-11-16T11:14:05.620033Z",
     "iopub.status.idle": "2021-11-16T11:14:06.769239Z",
     "shell.execute_reply": "2021-11-16T11:14:06.768571Z",
     "shell.execute_reply.started": "2021-11-16T11:09:10.987320Z"
    },
    "papermill": {
     "duration": 1.342613,
     "end_time": "2021-11-16T11:14:06.769398",
     "exception": false,
     "start_time": "2021-11-16T11:14:05.426785",
     "status": "completed"
    },
    "tags": []
   },
   "outputs": [],
   "source": [
    "import seaborn as sn\n",
    "plt.figure(figsize=(10,7))\n",
    "sn.set(font_scale=1.4) # for label size\n",
    "sn.heatmap (CM, annot=True, fmt='d')\n",
    "plt.xlabel('Predicted')\n",
    "plt.ylabel('Truth')"
   ]
  },
  {
   "cell_type": "markdown",
   "id": "03cc27c7",
   "metadata": {
    "papermill": {
     "duration": 0.193791,
     "end_time": "2021-11-16T11:14:07.152919",
     "exception": false,
     "start_time": "2021-11-16T11:14:06.959128",
     "status": "completed"
    },
    "tags": []
   },
   "source": [
    "# Deploying the model on actual test dataset"
   ]
  },
  {
   "cell_type": "code",
   "execution_count": null,
   "id": "3bf2731f",
   "metadata": {
    "execution": {
     "iopub.execute_input": "2021-11-16T11:14:07.561828Z",
     "iopub.status.busy": "2021-11-16T11:14:07.550859Z",
     "iopub.status.idle": "2021-11-16T11:14:07.589670Z",
     "shell.execute_reply": "2021-11-16T11:14:07.588978Z",
     "shell.execute_reply.started": "2021-11-16T11:09:12.104753Z"
    },
    "papermill": {
     "duration": 0.243601,
     "end_time": "2021-11-16T11:14:07.589823",
     "exception": false,
     "start_time": "2021-11-16T11:14:07.346222",
     "status": "completed"
    },
    "tags": []
   },
   "outputs": [],
   "source": [
    "# Scale the test input by dividing the values by 255\n",
    "df_test_scaled= df_test.div(255) ## Scaling the inputs "
   ]
  },
  {
   "cell_type": "code",
   "execution_count": null,
   "id": "c6daf1a2",
   "metadata": {
    "execution": {
     "iopub.execute_input": "2021-11-16T11:14:07.975098Z",
     "iopub.status.busy": "2021-11-16T11:14:07.974404Z",
     "iopub.status.idle": "2021-11-16T11:14:09.972640Z",
     "shell.execute_reply": "2021-11-16T11:14:09.973170Z",
     "shell.execute_reply.started": "2021-11-16T11:09:12.155451Z"
    },
    "papermill": {
     "duration": 2.19343,
     "end_time": "2021-11-16T11:14:09.973362",
     "exception": false,
     "start_time": "2021-11-16T11:14:07.779932",
     "status": "completed"
    },
    "tags": []
   },
   "outputs": [],
   "source": [
    "df_test_scaled.describe()"
   ]
  },
  {
   "cell_type": "code",
   "execution_count": null,
   "id": "a898dd20",
   "metadata": {
    "execution": {
     "iopub.execute_input": "2021-11-16T11:14:10.361015Z",
     "iopub.status.busy": "2021-11-16T11:14:10.360381Z",
     "iopub.status.idle": "2021-11-16T11:14:11.995500Z",
     "shell.execute_reply": "2021-11-16T11:14:11.994855Z",
     "shell.execute_reply.started": "2021-11-16T11:09:14.334710Z"
    },
    "papermill": {
     "duration": 1.829999,
     "end_time": "2021-11-16T11:14:11.995655",
     "exception": false,
     "start_time": "2021-11-16T11:14:10.165656",
     "status": "completed"
    },
    "tags": []
   },
   "outputs": [],
   "source": [
    "pred_test=model.predict(df_test_scaled)\n",
    "pred_label_test= [np.argmax(i) for i in pred_test] # Reducing the probability to labels with max prob\n"
   ]
  },
  {
   "cell_type": "code",
   "execution_count": null,
   "id": "392fd926",
   "metadata": {
    "execution": {
     "iopub.execute_input": "2021-11-16T11:14:12.381741Z",
     "iopub.status.busy": "2021-11-16T11:14:12.380711Z",
     "iopub.status.idle": "2021-11-16T11:14:12.384701Z",
     "shell.execute_reply": "2021-11-16T11:14:12.385301Z",
     "shell.execute_reply.started": "2021-11-16T11:09:16.233775Z"
    },
    "papermill": {
     "duration": 0.197944,
     "end_time": "2021-11-16T11:14:12.385499",
     "exception": false,
     "start_time": "2021-11-16T11:14:12.187555",
     "status": "completed"
    },
    "tags": []
   },
   "outputs": [],
   "source": [
    "len (pred_test)\n",
    "image_id = range(1, len(pred_label_test)+1)"
   ]
  },
  {
   "cell_type": "code",
   "execution_count": null,
   "id": "d794dae8",
   "metadata": {
    "execution": {
     "iopub.execute_input": "2021-11-16T11:14:12.773164Z",
     "iopub.status.busy": "2021-11-16T11:14:12.772310Z",
     "iopub.status.idle": "2021-11-16T11:14:12.776644Z",
     "shell.execute_reply": "2021-11-16T11:14:12.775991Z",
     "shell.execute_reply.started": "2021-11-16T11:09:16.240237Z"
    },
    "papermill": {
     "duration": 0.200144,
     "end_time": "2021-11-16T11:14:12.776783",
     "exception": false,
     "start_time": "2021-11-16T11:14:12.576639",
     "status": "completed"
    },
    "tags": []
   },
   "outputs": [],
   "source": [
    "image_id[-1]"
   ]
  },
  {
   "cell_type": "markdown",
   "id": "879c410c",
   "metadata": {
    "papermill": {
     "duration": 0.19138,
     "end_time": "2021-11-16T11:14:13.161074",
     "exception": false,
     "start_time": "2021-11-16T11:14:12.969694",
     "status": "completed"
    },
    "tags": []
   },
   "source": [
    "# Output submission file"
   ]
  },
  {
   "cell_type": "code",
   "execution_count": null,
   "id": "59e9a7c4",
   "metadata": {
    "execution": {
     "iopub.execute_input": "2021-11-16T11:14:13.568914Z",
     "iopub.status.busy": "2021-11-16T11:14:13.567926Z",
     "iopub.status.idle": "2021-11-16T11:14:13.623939Z",
     "shell.execute_reply": "2021-11-16T11:14:13.623221Z",
     "shell.execute_reply.started": "2021-11-16T11:09:16.257311Z"
    },
    "papermill": {
     "duration": 0.272607,
     "end_time": "2021-11-16T11:14:13.624092",
     "exception": false,
     "start_time": "2021-11-16T11:14:13.351485",
     "status": "completed"
    },
    "tags": []
   },
   "outputs": [],
   "source": [
    "image_id = range(1, len (pred_label_test)+1)\n",
    "\n",
    "submission = pd.DataFrame({'ImageId': image_id, 'Label': pred_label_test})\n",
    "\n",
    "submission.to_csv('digit_recognizer_submission', index=False)"
   ]
  },
  {
   "cell_type": "code",
   "execution_count": null,
   "id": "a69260a0",
   "metadata": {
    "execution": {
     "iopub.execute_input": "2021-11-16T11:14:14.023439Z",
     "iopub.status.busy": "2021-11-16T11:14:14.022484Z",
     "iopub.status.idle": "2021-11-16T11:14:14.025998Z",
     "shell.execute_reply": "2021-11-16T11:14:14.026515Z",
     "shell.execute_reply.started": "2021-11-16T11:09:16.311186Z"
    },
    "papermill": {
     "duration": 0.210147,
     "end_time": "2021-11-16T11:14:14.026694",
     "exception": false,
     "start_time": "2021-11-16T11:14:13.816547",
     "status": "completed"
    },
    "tags": []
   },
   "outputs": [],
   "source": [
    "submission.head()"
   ]
  },
  {
   "cell_type": "code",
   "execution_count": null,
   "id": "fc4fb854",
   "metadata": {
    "execution": {
     "iopub.execute_input": "2021-11-16T11:09:16.323699Z",
     "iopub.status.busy": "2021-11-16T11:09:16.323434Z",
     "iopub.status.idle": "2021-11-16T11:09:16.337207Z",
     "shell.execute_reply": "2021-11-16T11:09:16.335907Z",
     "shell.execute_reply.started": "2021-11-16T11:09:16.323668Z"
    },
    "papermill": {
     "duration": 0.194957,
     "end_time": "2021-11-16T11:14:14.415282",
     "exception": false,
     "start_time": "2021-11-16T11:14:14.220325",
     "status": "completed"
    },
    "tags": []
   },
   "outputs": [],
   "source": []
  },
  {
   "cell_type": "markdown",
   "id": "9ae99f94",
   "metadata": {
    "papermill": {
     "duration": 0.196602,
     "end_time": "2021-11-16T11:14:14.804996",
     "exception": false,
     "start_time": "2021-11-16T11:14:14.608394",
     "status": "completed"
    },
    "tags": []
   },
   "source": []
  },
  {
   "cell_type": "markdown",
   "id": "003075c3",
   "metadata": {
    "papermill": {
     "duration": 0.194707,
     "end_time": "2021-11-16T11:14:15.193463",
     "exception": false,
     "start_time": "2021-11-16T11:14:14.998756",
     "status": "completed"
    },
    "tags": []
   },
   "source": []
  },
  {
   "cell_type": "markdown",
   "id": "f06801d4",
   "metadata": {
    "papermill": {
     "duration": 0.192761,
     "end_time": "2021-11-16T11:14:15.581934",
     "exception": false,
     "start_time": "2021-11-16T11:14:15.389173",
     "status": "completed"
    },
    "tags": []
   },
   "source": []
  }
 ],
 "metadata": {
  "kernelspec": {
   "display_name": "Python 3 (ipykernel)",
   "language": "python",
   "name": "python3"
  },
  "language_info": {
   "codemirror_mode": {
    "name": "ipython",
    "version": 3
   },
   "file_extension": ".py",
   "mimetype": "text/x-python",
   "name": "python",
   "nbconvert_exporter": "python",
   "pygments_lexer": "ipython3",
   "version": "3.9.7"
  },
  "papermill": {
   "default_parameters": {},
   "duration": 72.870259,
   "end_time": "2021-11-16T11:14:19.117130",
   "environment_variables": {},
   "exception": null,
   "input_path": "__notebook__.ipynb",
   "output_path": "__notebook__.ipynb",
   "parameters": {},
   "start_time": "2021-11-16T11:13:06.246871",
   "version": "2.3.3"
  }
 },
 "nbformat": 4,
 "nbformat_minor": 5
}
