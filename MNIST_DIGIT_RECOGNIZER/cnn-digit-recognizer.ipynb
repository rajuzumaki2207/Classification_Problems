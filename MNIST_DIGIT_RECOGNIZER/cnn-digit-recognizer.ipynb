{
 "cells": [
  {
   "cell_type": "code",
   "execution_count": 1,
   "id": "10d8dd00",
   "metadata": {
    "_cell_guid": "b1076dfc-b9ad-4769-8c92-a6c4dae69d19",
    "_uuid": "8f2839f25d086af736a60e9eeb907d3b93b6e0e5",
    "execution": {
     "iopub.execute_input": "2021-11-16T11:13:15.868567Z",
     "iopub.status.busy": "2021-11-16T11:13:15.866681Z",
     "iopub.status.idle": "2021-11-16T11:13:21.036312Z",
     "shell.execute_reply": "2021-11-16T11:13:21.035575Z",
     "shell.execute_reply.started": "2021-11-16T11:08:20.359639Z"
    },
    "papermill": {
     "duration": 5.20412,
     "end_time": "2021-11-16T11:13:21.036523",
     "exception": false,
     "start_time": "2021-11-16T11:13:15.832403",
     "status": "completed"
    },
    "tags": []
   },
   "outputs": [],
   "source": [
    "# This Python 3 environment comes with many helpful analytics libraries installed\n",
    "# It is defined by the kaggle/python Docker image: https://github.com/kaggle/docker-python\n",
    "# For example, here's several helpful packages to load\n",
    "\n",
    "import numpy as np # linear algebra\n",
    "import pandas as pd # data processing, CSV file I/O (e.g. pd.read_csv)\n",
    "import tensorflow as tf\n",
    "from tensorflow import keras"
   ]
  },
  {
   "cell_type": "code",
   "execution_count": 2,
   "id": "1881d253",
   "metadata": {
    "execution": {
     "iopub.execute_input": "2021-11-16T11:13:21.094295Z",
     "iopub.status.busy": "2021-11-16T11:13:21.093252Z",
     "iopub.status.idle": "2021-11-16T11:13:21.098121Z",
     "shell.execute_reply": "2021-11-16T11:13:21.098628Z",
     "shell.execute_reply.started": "2021-11-16T11:08:26.152356Z"
    },
    "papermill": {
     "duration": 0.034685,
     "end_time": "2021-11-16T11:13:21.098799",
     "exception": false,
     "start_time": "2021-11-16T11:13:21.064114",
     "status": "completed"
    },
    "tags": []
   },
   "outputs": [
    {
     "name": "stdout",
     "output_type": "stream",
     "text": [
      "<module 'tensorflow._api.v2.version' from 'C:\\\\Users\\\\Rajdeep Shil\\\\Anaconda3\\\\envs\\\\tf\\\\lib\\\\site-packages\\\\tensorflow\\\\_api\\\\v2\\\\version\\\\__init__.py'>\n"
     ]
    }
   ],
   "source": [
    "print (tf.version)"
   ]
  },
  {
   "cell_type": "code",
   "execution_count": 3,
   "id": "447111db",
   "metadata": {
    "execution": {
     "iopub.execute_input": "2021-11-16T11:13:21.157397Z",
     "iopub.status.busy": "2021-11-16T11:13:21.156719Z",
     "iopub.status.idle": "2021-11-16T11:13:26.873572Z",
     "shell.execute_reply": "2021-11-16T11:13:26.874117Z",
     "shell.execute_reply.started": "2021-11-16T11:08:26.159261Z"
    },
    "papermill": {
     "duration": 5.748795,
     "end_time": "2021-11-16T11:13:26.874307",
     "exception": false,
     "start_time": "2021-11-16T11:13:21.125512",
     "status": "completed"
    },
    "tags": []
   },
   "outputs": [],
   "source": [
    "#read input\n",
    "df_train=pd.read_csv('train.csv')\n",
    "df_test =pd.read_csv('test.csv')\n"
   ]
  },
  {
   "cell_type": "markdown",
   "id": "a6703d2d",
   "metadata": {
    "papermill": {
     "duration": 0.026631,
     "end_time": "2021-11-16T11:13:26.928267",
     "exception": false,
     "start_time": "2021-11-16T11:13:26.901636",
     "status": "completed"
    },
    "tags": []
   },
   "source": [
    "# Divide training and validation (test) set "
   ]
  },
  {
   "cell_type": "code",
   "execution_count": 4,
   "id": "cda014e2",
   "metadata": {
    "execution": {
     "iopub.execute_input": "2021-11-16T11:13:26.989846Z",
     "iopub.status.busy": "2021-11-16T11:13:26.988962Z",
     "iopub.status.idle": "2021-11-16T11:13:28.141361Z",
     "shell.execute_reply": "2021-11-16T11:13:28.140718Z",
     "shell.execute_reply.started": "2021-11-16T11:08:31.620157Z"
    },
    "papermill": {
     "duration": 1.184486,
     "end_time": "2021-11-16T11:13:28.141519",
     "exception": false,
     "start_time": "2021-11-16T11:13:26.957033",
     "status": "completed"
    },
    "tags": []
   },
   "outputs": [],
   "source": [
    "from sklearn.model_selection import train_test_split\n",
    "y= df_train['label']\n",
    "x= df_train[df_train.columns[1:785]].div(255) ## Scaling the inputs \n",
    "x_train, x_test, y_train, y_test =train_test_split( x, y, test_size=0.15, random_state=42) # here x_test is created for validation"
   ]
  },
  {
   "cell_type": "code",
   "execution_count": 5,
   "id": "e3b707f5",
   "metadata": {
    "execution": {
     "iopub.execute_input": "2021-11-16T11:13:28.202230Z",
     "iopub.status.busy": "2021-11-16T11:13:28.201481Z",
     "iopub.status.idle": "2021-11-16T11:13:30.733498Z",
     "shell.execute_reply": "2021-11-16T11:13:30.734080Z",
     "shell.execute_reply.started": "2021-11-16T11:08:32.806811Z"
    },
    "papermill": {
     "duration": 2.566123,
     "end_time": "2021-11-16T11:13:30.734267",
     "exception": false,
     "start_time": "2021-11-16T11:13:28.168144",
     "status": "completed"
    },
    "tags": []
   },
   "outputs": [
    {
     "data": {
      "text/html": [
       "<div>\n",
       "<style scoped>\n",
       "    .dataframe tbody tr th:only-of-type {\n",
       "        vertical-align: middle;\n",
       "    }\n",
       "\n",
       "    .dataframe tbody tr th {\n",
       "        vertical-align: top;\n",
       "    }\n",
       "\n",
       "    .dataframe thead th {\n",
       "        text-align: right;\n",
       "    }\n",
       "</style>\n",
       "<table border=\"1\" class=\"dataframe\">\n",
       "  <thead>\n",
       "    <tr style=\"text-align: right;\">\n",
       "      <th></th>\n",
       "      <th>pixel0</th>\n",
       "      <th>pixel1</th>\n",
       "      <th>pixel2</th>\n",
       "      <th>pixel3</th>\n",
       "      <th>pixel4</th>\n",
       "      <th>pixel5</th>\n",
       "      <th>pixel6</th>\n",
       "      <th>pixel7</th>\n",
       "      <th>pixel8</th>\n",
       "      <th>pixel9</th>\n",
       "      <th>...</th>\n",
       "      <th>pixel774</th>\n",
       "      <th>pixel775</th>\n",
       "      <th>pixel776</th>\n",
       "      <th>pixel777</th>\n",
       "      <th>pixel778</th>\n",
       "      <th>pixel779</th>\n",
       "      <th>pixel780</th>\n",
       "      <th>pixel781</th>\n",
       "      <th>pixel782</th>\n",
       "      <th>pixel783</th>\n",
       "    </tr>\n",
       "  </thead>\n",
       "  <tbody>\n",
       "    <tr>\n",
       "      <th>count</th>\n",
       "      <td>42000.0</td>\n",
       "      <td>42000.0</td>\n",
       "      <td>42000.0</td>\n",
       "      <td>42000.0</td>\n",
       "      <td>42000.0</td>\n",
       "      <td>42000.0</td>\n",
       "      <td>42000.0</td>\n",
       "      <td>42000.0</td>\n",
       "      <td>42000.0</td>\n",
       "      <td>42000.0</td>\n",
       "      <td>...</td>\n",
       "      <td>42000.000000</td>\n",
       "      <td>42000.000000</td>\n",
       "      <td>42000.000000</td>\n",
       "      <td>42000.000000</td>\n",
       "      <td>42000.000000</td>\n",
       "      <td>42000.000000</td>\n",
       "      <td>42000.0</td>\n",
       "      <td>42000.0</td>\n",
       "      <td>42000.0</td>\n",
       "      <td>42000.0</td>\n",
       "    </tr>\n",
       "    <tr>\n",
       "      <th>mean</th>\n",
       "      <td>0.0</td>\n",
       "      <td>0.0</td>\n",
       "      <td>0.0</td>\n",
       "      <td>0.0</td>\n",
       "      <td>0.0</td>\n",
       "      <td>0.0</td>\n",
       "      <td>0.0</td>\n",
       "      <td>0.0</td>\n",
       "      <td>0.0</td>\n",
       "      <td>0.0</td>\n",
       "      <td>...</td>\n",
       "      <td>0.000860</td>\n",
       "      <td>0.000459</td>\n",
       "      <td>0.000231</td>\n",
       "      <td>0.000079</td>\n",
       "      <td>0.000068</td>\n",
       "      <td>0.000011</td>\n",
       "      <td>0.0</td>\n",
       "      <td>0.0</td>\n",
       "      <td>0.0</td>\n",
       "      <td>0.0</td>\n",
       "    </tr>\n",
       "    <tr>\n",
       "      <th>std</th>\n",
       "      <td>0.0</td>\n",
       "      <td>0.0</td>\n",
       "      <td>0.0</td>\n",
       "      <td>0.0</td>\n",
       "      <td>0.0</td>\n",
       "      <td>0.0</td>\n",
       "      <td>0.0</td>\n",
       "      <td>0.0</td>\n",
       "      <td>0.0</td>\n",
       "      <td>0.0</td>\n",
       "      <td>...</td>\n",
       "      <td>0.024756</td>\n",
       "      <td>0.018172</td>\n",
       "      <td>0.012841</td>\n",
       "      <td>0.006901</td>\n",
       "      <td>0.007429</td>\n",
       "      <td>0.001625</td>\n",
       "      <td>0.0</td>\n",
       "      <td>0.0</td>\n",
       "      <td>0.0</td>\n",
       "      <td>0.0</td>\n",
       "    </tr>\n",
       "    <tr>\n",
       "      <th>min</th>\n",
       "      <td>0.0</td>\n",
       "      <td>0.0</td>\n",
       "      <td>0.0</td>\n",
       "      <td>0.0</td>\n",
       "      <td>0.0</td>\n",
       "      <td>0.0</td>\n",
       "      <td>0.0</td>\n",
       "      <td>0.0</td>\n",
       "      <td>0.0</td>\n",
       "      <td>0.0</td>\n",
       "      <td>...</td>\n",
       "      <td>0.000000</td>\n",
       "      <td>0.000000</td>\n",
       "      <td>0.000000</td>\n",
       "      <td>0.000000</td>\n",
       "      <td>0.000000</td>\n",
       "      <td>0.000000</td>\n",
       "      <td>0.0</td>\n",
       "      <td>0.0</td>\n",
       "      <td>0.0</td>\n",
       "      <td>0.0</td>\n",
       "    </tr>\n",
       "    <tr>\n",
       "      <th>25%</th>\n",
       "      <td>0.0</td>\n",
       "      <td>0.0</td>\n",
       "      <td>0.0</td>\n",
       "      <td>0.0</td>\n",
       "      <td>0.0</td>\n",
       "      <td>0.0</td>\n",
       "      <td>0.0</td>\n",
       "      <td>0.0</td>\n",
       "      <td>0.0</td>\n",
       "      <td>0.0</td>\n",
       "      <td>...</td>\n",
       "      <td>0.000000</td>\n",
       "      <td>0.000000</td>\n",
       "      <td>0.000000</td>\n",
       "      <td>0.000000</td>\n",
       "      <td>0.000000</td>\n",
       "      <td>0.000000</td>\n",
       "      <td>0.0</td>\n",
       "      <td>0.0</td>\n",
       "      <td>0.0</td>\n",
       "      <td>0.0</td>\n",
       "    </tr>\n",
       "    <tr>\n",
       "      <th>50%</th>\n",
       "      <td>0.0</td>\n",
       "      <td>0.0</td>\n",
       "      <td>0.0</td>\n",
       "      <td>0.0</td>\n",
       "      <td>0.0</td>\n",
       "      <td>0.0</td>\n",
       "      <td>0.0</td>\n",
       "      <td>0.0</td>\n",
       "      <td>0.0</td>\n",
       "      <td>0.0</td>\n",
       "      <td>...</td>\n",
       "      <td>0.000000</td>\n",
       "      <td>0.000000</td>\n",
       "      <td>0.000000</td>\n",
       "      <td>0.000000</td>\n",
       "      <td>0.000000</td>\n",
       "      <td>0.000000</td>\n",
       "      <td>0.0</td>\n",
       "      <td>0.0</td>\n",
       "      <td>0.0</td>\n",
       "      <td>0.0</td>\n",
       "    </tr>\n",
       "    <tr>\n",
       "      <th>75%</th>\n",
       "      <td>0.0</td>\n",
       "      <td>0.0</td>\n",
       "      <td>0.0</td>\n",
       "      <td>0.0</td>\n",
       "      <td>0.0</td>\n",
       "      <td>0.0</td>\n",
       "      <td>0.0</td>\n",
       "      <td>0.0</td>\n",
       "      <td>0.0</td>\n",
       "      <td>0.0</td>\n",
       "      <td>...</td>\n",
       "      <td>0.000000</td>\n",
       "      <td>0.000000</td>\n",
       "      <td>0.000000</td>\n",
       "      <td>0.000000</td>\n",
       "      <td>0.000000</td>\n",
       "      <td>0.000000</td>\n",
       "      <td>0.0</td>\n",
       "      <td>0.0</td>\n",
       "      <td>0.0</td>\n",
       "      <td>0.0</td>\n",
       "    </tr>\n",
       "    <tr>\n",
       "      <th>max</th>\n",
       "      <td>0.0</td>\n",
       "      <td>0.0</td>\n",
       "      <td>0.0</td>\n",
       "      <td>0.0</td>\n",
       "      <td>0.0</td>\n",
       "      <td>0.0</td>\n",
       "      <td>0.0</td>\n",
       "      <td>0.0</td>\n",
       "      <td>0.0</td>\n",
       "      <td>0.0</td>\n",
       "      <td>...</td>\n",
       "      <td>0.996078</td>\n",
       "      <td>0.996078</td>\n",
       "      <td>0.992157</td>\n",
       "      <td>0.992157</td>\n",
       "      <td>0.996078</td>\n",
       "      <td>0.243137</td>\n",
       "      <td>0.0</td>\n",
       "      <td>0.0</td>\n",
       "      <td>0.0</td>\n",
       "      <td>0.0</td>\n",
       "    </tr>\n",
       "  </tbody>\n",
       "</table>\n",
       "<p>8 rows × 784 columns</p>\n",
       "</div>"
      ],
      "text/plain": [
       "        pixel0   pixel1   pixel2   pixel3   pixel4   pixel5   pixel6   pixel7  \\\n",
       "count  42000.0  42000.0  42000.0  42000.0  42000.0  42000.0  42000.0  42000.0   \n",
       "mean       0.0      0.0      0.0      0.0      0.0      0.0      0.0      0.0   \n",
       "std        0.0      0.0      0.0      0.0      0.0      0.0      0.0      0.0   \n",
       "min        0.0      0.0      0.0      0.0      0.0      0.0      0.0      0.0   \n",
       "25%        0.0      0.0      0.0      0.0      0.0      0.0      0.0      0.0   \n",
       "50%        0.0      0.0      0.0      0.0      0.0      0.0      0.0      0.0   \n",
       "75%        0.0      0.0      0.0      0.0      0.0      0.0      0.0      0.0   \n",
       "max        0.0      0.0      0.0      0.0      0.0      0.0      0.0      0.0   \n",
       "\n",
       "        pixel8   pixel9  ...      pixel774      pixel775      pixel776  \\\n",
       "count  42000.0  42000.0  ...  42000.000000  42000.000000  42000.000000   \n",
       "mean       0.0      0.0  ...      0.000860      0.000459      0.000231   \n",
       "std        0.0      0.0  ...      0.024756      0.018172      0.012841   \n",
       "min        0.0      0.0  ...      0.000000      0.000000      0.000000   \n",
       "25%        0.0      0.0  ...      0.000000      0.000000      0.000000   \n",
       "50%        0.0      0.0  ...      0.000000      0.000000      0.000000   \n",
       "75%        0.0      0.0  ...      0.000000      0.000000      0.000000   \n",
       "max        0.0      0.0  ...      0.996078      0.996078      0.992157   \n",
       "\n",
       "           pixel777      pixel778      pixel779  pixel780  pixel781  pixel782  \\\n",
       "count  42000.000000  42000.000000  42000.000000   42000.0   42000.0   42000.0   \n",
       "mean       0.000079      0.000068      0.000011       0.0       0.0       0.0   \n",
       "std        0.006901      0.007429      0.001625       0.0       0.0       0.0   \n",
       "min        0.000000      0.000000      0.000000       0.0       0.0       0.0   \n",
       "25%        0.000000      0.000000      0.000000       0.0       0.0       0.0   \n",
       "50%        0.000000      0.000000      0.000000       0.0       0.0       0.0   \n",
       "75%        0.000000      0.000000      0.000000       0.0       0.0       0.0   \n",
       "max        0.992157      0.996078      0.243137       0.0       0.0       0.0   \n",
       "\n",
       "       pixel783  \n",
       "count   42000.0  \n",
       "mean        0.0  \n",
       "std         0.0  \n",
       "min         0.0  \n",
       "25%         0.0  \n",
       "50%         0.0  \n",
       "75%         0.0  \n",
       "max         0.0  \n",
       "\n",
       "[8 rows x 784 columns]"
      ]
     },
     "execution_count": 5,
     "metadata": {},
     "output_type": "execute_result"
    }
   ],
   "source": [
    "x.describe()"
   ]
  },
  {
   "cell_type": "code",
   "execution_count": 6,
   "id": "c64ae88d",
   "metadata": {
    "execution": {
     "iopub.execute_input": "2021-11-16T11:13:30.795655Z",
     "iopub.status.busy": "2021-11-16T11:13:30.794920Z",
     "iopub.status.idle": "2021-11-16T11:13:30.798799Z",
     "shell.execute_reply": "2021-11-16T11:13:30.798109Z",
     "shell.execute_reply.started": "2021-11-16T11:08:35.449546Z"
    },
    "papermill": {
     "duration": 0.037144,
     "end_time": "2021-11-16T11:13:30.798942",
     "exception": false,
     "start_time": "2021-11-16T11:13:30.761798",
     "status": "completed"
    },
    "tags": []
   },
   "outputs": [
    {
     "data": {
      "text/plain": [
       "35700"
      ]
     },
     "execution_count": 6,
     "metadata": {},
     "output_type": "execute_result"
    }
   ],
   "source": [
    "len(x_train)"
   ]
  },
  {
   "cell_type": "code",
   "execution_count": 7,
   "id": "4be6b84a",
   "metadata": {
    "execution": {
     "iopub.execute_input": "2021-11-16T11:13:30.874514Z",
     "iopub.status.busy": "2021-11-16T11:13:30.869836Z",
     "iopub.status.idle": "2021-11-16T11:13:30.879097Z",
     "shell.execute_reply": "2021-11-16T11:13:30.878537Z",
     "shell.execute_reply.started": "2021-11-16T11:08:35.455861Z"
    },
    "papermill": {
     "duration": 0.05178,
     "end_time": "2021-11-16T11:13:30.879248",
     "exception": false,
     "start_time": "2021-11-16T11:13:30.827468",
     "status": "completed"
    },
    "tags": []
   },
   "outputs": [
    {
     "data": {
      "text/html": [
       "<div>\n",
       "<style scoped>\n",
       "    .dataframe tbody tr th:only-of-type {\n",
       "        vertical-align: middle;\n",
       "    }\n",
       "\n",
       "    .dataframe tbody tr th {\n",
       "        vertical-align: top;\n",
       "    }\n",
       "\n",
       "    .dataframe thead th {\n",
       "        text-align: right;\n",
       "    }\n",
       "</style>\n",
       "<table border=\"1\" class=\"dataframe\">\n",
       "  <thead>\n",
       "    <tr style=\"text-align: right;\">\n",
       "      <th></th>\n",
       "      <th>pixel0</th>\n",
       "      <th>pixel1</th>\n",
       "      <th>pixel2</th>\n",
       "      <th>pixel3</th>\n",
       "      <th>pixel4</th>\n",
       "      <th>pixel5</th>\n",
       "      <th>pixel6</th>\n",
       "      <th>pixel7</th>\n",
       "      <th>pixel8</th>\n",
       "      <th>pixel9</th>\n",
       "      <th>...</th>\n",
       "      <th>pixel774</th>\n",
       "      <th>pixel775</th>\n",
       "      <th>pixel776</th>\n",
       "      <th>pixel777</th>\n",
       "      <th>pixel778</th>\n",
       "      <th>pixel779</th>\n",
       "      <th>pixel780</th>\n",
       "      <th>pixel781</th>\n",
       "      <th>pixel782</th>\n",
       "      <th>pixel783</th>\n",
       "    </tr>\n",
       "  </thead>\n",
       "  <tbody>\n",
       "    <tr>\n",
       "      <th>0</th>\n",
       "      <td>0</td>\n",
       "      <td>0</td>\n",
       "      <td>0</td>\n",
       "      <td>0</td>\n",
       "      <td>0</td>\n",
       "      <td>0</td>\n",
       "      <td>0</td>\n",
       "      <td>0</td>\n",
       "      <td>0</td>\n",
       "      <td>0</td>\n",
       "      <td>...</td>\n",
       "      <td>0</td>\n",
       "      <td>0</td>\n",
       "      <td>0</td>\n",
       "      <td>0</td>\n",
       "      <td>0</td>\n",
       "      <td>0</td>\n",
       "      <td>0</td>\n",
       "      <td>0</td>\n",
       "      <td>0</td>\n",
       "      <td>0</td>\n",
       "    </tr>\n",
       "    <tr>\n",
       "      <th>1</th>\n",
       "      <td>0</td>\n",
       "      <td>0</td>\n",
       "      <td>0</td>\n",
       "      <td>0</td>\n",
       "      <td>0</td>\n",
       "      <td>0</td>\n",
       "      <td>0</td>\n",
       "      <td>0</td>\n",
       "      <td>0</td>\n",
       "      <td>0</td>\n",
       "      <td>...</td>\n",
       "      <td>0</td>\n",
       "      <td>0</td>\n",
       "      <td>0</td>\n",
       "      <td>0</td>\n",
       "      <td>0</td>\n",
       "      <td>0</td>\n",
       "      <td>0</td>\n",
       "      <td>0</td>\n",
       "      <td>0</td>\n",
       "      <td>0</td>\n",
       "    </tr>\n",
       "    <tr>\n",
       "      <th>2</th>\n",
       "      <td>0</td>\n",
       "      <td>0</td>\n",
       "      <td>0</td>\n",
       "      <td>0</td>\n",
       "      <td>0</td>\n",
       "      <td>0</td>\n",
       "      <td>0</td>\n",
       "      <td>0</td>\n",
       "      <td>0</td>\n",
       "      <td>0</td>\n",
       "      <td>...</td>\n",
       "      <td>0</td>\n",
       "      <td>0</td>\n",
       "      <td>0</td>\n",
       "      <td>0</td>\n",
       "      <td>0</td>\n",
       "      <td>0</td>\n",
       "      <td>0</td>\n",
       "      <td>0</td>\n",
       "      <td>0</td>\n",
       "      <td>0</td>\n",
       "    </tr>\n",
       "    <tr>\n",
       "      <th>3</th>\n",
       "      <td>0</td>\n",
       "      <td>0</td>\n",
       "      <td>0</td>\n",
       "      <td>0</td>\n",
       "      <td>0</td>\n",
       "      <td>0</td>\n",
       "      <td>0</td>\n",
       "      <td>0</td>\n",
       "      <td>0</td>\n",
       "      <td>0</td>\n",
       "      <td>...</td>\n",
       "      <td>0</td>\n",
       "      <td>0</td>\n",
       "      <td>0</td>\n",
       "      <td>0</td>\n",
       "      <td>0</td>\n",
       "      <td>0</td>\n",
       "      <td>0</td>\n",
       "      <td>0</td>\n",
       "      <td>0</td>\n",
       "      <td>0</td>\n",
       "    </tr>\n",
       "    <tr>\n",
       "      <th>4</th>\n",
       "      <td>0</td>\n",
       "      <td>0</td>\n",
       "      <td>0</td>\n",
       "      <td>0</td>\n",
       "      <td>0</td>\n",
       "      <td>0</td>\n",
       "      <td>0</td>\n",
       "      <td>0</td>\n",
       "      <td>0</td>\n",
       "      <td>0</td>\n",
       "      <td>...</td>\n",
       "      <td>0</td>\n",
       "      <td>0</td>\n",
       "      <td>0</td>\n",
       "      <td>0</td>\n",
       "      <td>0</td>\n",
       "      <td>0</td>\n",
       "      <td>0</td>\n",
       "      <td>0</td>\n",
       "      <td>0</td>\n",
       "      <td>0</td>\n",
       "    </tr>\n",
       "  </tbody>\n",
       "</table>\n",
       "<p>5 rows × 784 columns</p>\n",
       "</div>"
      ],
      "text/plain": [
       "   pixel0  pixel1  pixel2  pixel3  pixel4  pixel5  pixel6  pixel7  pixel8  \\\n",
       "0       0       0       0       0       0       0       0       0       0   \n",
       "1       0       0       0       0       0       0       0       0       0   \n",
       "2       0       0       0       0       0       0       0       0       0   \n",
       "3       0       0       0       0       0       0       0       0       0   \n",
       "4       0       0       0       0       0       0       0       0       0   \n",
       "\n",
       "   pixel9  ...  pixel774  pixel775  pixel776  pixel777  pixel778  pixel779  \\\n",
       "0       0  ...         0         0         0         0         0         0   \n",
       "1       0  ...         0         0         0         0         0         0   \n",
       "2       0  ...         0         0         0         0         0         0   \n",
       "3       0  ...         0         0         0         0         0         0   \n",
       "4       0  ...         0         0         0         0         0         0   \n",
       "\n",
       "   pixel780  pixel781  pixel782  pixel783  \n",
       "0         0         0         0         0  \n",
       "1         0         0         0         0  \n",
       "2         0         0         0         0  \n",
       "3         0         0         0         0  \n",
       "4         0         0         0         0  \n",
       "\n",
       "[5 rows x 784 columns]"
      ]
     },
     "execution_count": 7,
     "metadata": {},
     "output_type": "execute_result"
    }
   ],
   "source": [
    "df_test.head()"
   ]
  },
  {
   "cell_type": "markdown",
   "id": "3efe8edc",
   "metadata": {
    "papermill": {
     "duration": 0.028965,
     "end_time": "2021-11-16T11:13:30.936737",
     "exception": false,
     "start_time": "2021-11-16T11:13:30.907772",
     "status": "completed"
    },
    "tags": []
   },
   "source": [
    "# Visualize the training data using matrix plot"
   ]
  },
  {
   "cell_type": "code",
   "execution_count": 8,
   "id": "ba3a7da5",
   "metadata": {
    "execution": {
     "iopub.execute_input": "2021-11-16T11:13:31.000570Z",
     "iopub.status.busy": "2021-11-16T11:13:30.999849Z",
     "iopub.status.idle": "2021-11-16T11:13:31.003820Z",
     "shell.execute_reply": "2021-11-16T11:13:31.003214Z",
     "shell.execute_reply.started": "2021-11-16T11:08:35.481033Z"
    },
    "papermill": {
     "duration": 0.038171,
     "end_time": "2021-11-16T11:13:31.003957",
     "exception": false,
     "start_time": "2021-11-16T11:13:30.965786",
     "status": "completed"
    },
    "tags": []
   },
   "outputs": [],
   "source": [
    "import matplotlib.pyplot as plt\n",
    "%matplotlib inline"
   ]
  },
  {
   "cell_type": "code",
   "execution_count": 9,
   "id": "37cf6450",
   "metadata": {
    "execution": {
     "iopub.execute_input": "2021-11-16T11:13:31.087185Z",
     "iopub.status.busy": "2021-11-16T11:13:31.084261Z",
     "iopub.status.idle": "2021-11-16T11:13:31.089819Z",
     "shell.execute_reply": "2021-11-16T11:13:31.090464Z",
     "shell.execute_reply.started": "2021-11-16T11:08:35.496213Z"
    },
    "papermill": {
     "duration": 0.058025,
     "end_time": "2021-11-16T11:13:31.090643",
     "exception": false,
     "start_time": "2021-11-16T11:13:31.032618",
     "status": "completed"
    },
    "tags": []
   },
   "outputs": [
    {
     "data": {
      "text/html": [
       "<div>\n",
       "<style scoped>\n",
       "    .dataframe tbody tr th:only-of-type {\n",
       "        vertical-align: middle;\n",
       "    }\n",
       "\n",
       "    .dataframe tbody tr th {\n",
       "        vertical-align: top;\n",
       "    }\n",
       "\n",
       "    .dataframe thead th {\n",
       "        text-align: right;\n",
       "    }\n",
       "</style>\n",
       "<table border=\"1\" class=\"dataframe\">\n",
       "  <thead>\n",
       "    <tr style=\"text-align: right;\">\n",
       "      <th></th>\n",
       "      <th>pixel0</th>\n",
       "      <th>pixel1</th>\n",
       "      <th>pixel2</th>\n",
       "      <th>pixel3</th>\n",
       "      <th>pixel4</th>\n",
       "      <th>pixel5</th>\n",
       "      <th>pixel6</th>\n",
       "      <th>pixel7</th>\n",
       "      <th>pixel8</th>\n",
       "      <th>pixel9</th>\n",
       "      <th>...</th>\n",
       "      <th>pixel774</th>\n",
       "      <th>pixel775</th>\n",
       "      <th>pixel776</th>\n",
       "      <th>pixel777</th>\n",
       "      <th>pixel778</th>\n",
       "      <th>pixel779</th>\n",
       "      <th>pixel780</th>\n",
       "      <th>pixel781</th>\n",
       "      <th>pixel782</th>\n",
       "      <th>pixel783</th>\n",
       "    </tr>\n",
       "  </thead>\n",
       "  <tbody>\n",
       "    <tr>\n",
       "      <th>34877</th>\n",
       "      <td>0.0</td>\n",
       "      <td>0.0</td>\n",
       "      <td>0.0</td>\n",
       "      <td>0.0</td>\n",
       "      <td>0.0</td>\n",
       "      <td>0.0</td>\n",
       "      <td>0.0</td>\n",
       "      <td>0.0</td>\n",
       "      <td>0.0</td>\n",
       "      <td>0.0</td>\n",
       "      <td>...</td>\n",
       "      <td>0.0</td>\n",
       "      <td>0.0</td>\n",
       "      <td>0.0</td>\n",
       "      <td>0.0</td>\n",
       "      <td>0.0</td>\n",
       "      <td>0.0</td>\n",
       "      <td>0.0</td>\n",
       "      <td>0.0</td>\n",
       "      <td>0.0</td>\n",
       "      <td>0.0</td>\n",
       "    </tr>\n",
       "  </tbody>\n",
       "</table>\n",
       "<p>1 rows × 784 columns</p>\n",
       "</div>"
      ],
      "text/plain": [
       "       pixel0  pixel1  pixel2  pixel3  pixel4  pixel5  pixel6  pixel7  pixel8  \\\n",
       "34877     0.0     0.0     0.0     0.0     0.0     0.0     0.0     0.0     0.0   \n",
       "\n",
       "       pixel9  ...  pixel774  pixel775  pixel776  pixel777  pixel778  \\\n",
       "34877     0.0  ...       0.0       0.0       0.0       0.0       0.0   \n",
       "\n",
       "       pixel779  pixel780  pixel781  pixel782  pixel783  \n",
       "34877       0.0       0.0       0.0       0.0       0.0  \n",
       "\n",
       "[1 rows x 784 columns]"
      ]
     },
     "execution_count": 9,
     "metadata": {},
     "output_type": "execute_result"
    }
   ],
   "source": [
    "x_train.iloc[[1]]"
   ]
  },
  {
   "cell_type": "code",
   "execution_count": 10,
   "id": "938021d7",
   "metadata": {
    "execution": {
     "iopub.execute_input": "2021-11-16T11:13:31.154067Z",
     "iopub.status.busy": "2021-11-16T11:13:31.153214Z",
     "iopub.status.idle": "2021-11-16T11:13:33.243130Z",
     "shell.execute_reply": "2021-11-16T11:13:33.242506Z",
     "shell.execute_reply.started": "2021-11-16T11:08:35.530541Z"
    },
    "papermill": {
     "duration": 2.122984,
     "end_time": "2021-11-16T11:13:33.243272",
     "exception": false,
     "start_time": "2021-11-16T11:13:31.120288",
     "status": "completed"
    },
    "tags": []
   },
   "outputs": [
    {
     "data": {
      "text/html": [
       "<div>\n",
       "<style scoped>\n",
       "    .dataframe tbody tr th:only-of-type {\n",
       "        vertical-align: middle;\n",
       "    }\n",
       "\n",
       "    .dataframe tbody tr th {\n",
       "        vertical-align: top;\n",
       "    }\n",
       "\n",
       "    .dataframe thead th {\n",
       "        text-align: right;\n",
       "    }\n",
       "</style>\n",
       "<table border=\"1\" class=\"dataframe\">\n",
       "  <thead>\n",
       "    <tr style=\"text-align: right;\">\n",
       "      <th></th>\n",
       "      <th>label</th>\n",
       "      <th>pixel0</th>\n",
       "      <th>pixel1</th>\n",
       "      <th>pixel2</th>\n",
       "      <th>pixel3</th>\n",
       "      <th>pixel4</th>\n",
       "      <th>pixel5</th>\n",
       "      <th>pixel6</th>\n",
       "      <th>pixel7</th>\n",
       "      <th>pixel8</th>\n",
       "      <th>...</th>\n",
       "      <th>pixel774</th>\n",
       "      <th>pixel775</th>\n",
       "      <th>pixel776</th>\n",
       "      <th>pixel777</th>\n",
       "      <th>pixel778</th>\n",
       "      <th>pixel779</th>\n",
       "      <th>pixel780</th>\n",
       "      <th>pixel781</th>\n",
       "      <th>pixel782</th>\n",
       "      <th>pixel783</th>\n",
       "    </tr>\n",
       "  </thead>\n",
       "  <tbody>\n",
       "    <tr>\n",
       "      <th>count</th>\n",
       "      <td>42000.000000</td>\n",
       "      <td>42000.0</td>\n",
       "      <td>42000.0</td>\n",
       "      <td>42000.0</td>\n",
       "      <td>42000.0</td>\n",
       "      <td>42000.0</td>\n",
       "      <td>42000.0</td>\n",
       "      <td>42000.0</td>\n",
       "      <td>42000.0</td>\n",
       "      <td>42000.0</td>\n",
       "      <td>...</td>\n",
       "      <td>42000.000000</td>\n",
       "      <td>42000.000000</td>\n",
       "      <td>42000.000000</td>\n",
       "      <td>42000.00000</td>\n",
       "      <td>42000.000000</td>\n",
       "      <td>42000.000000</td>\n",
       "      <td>42000.0</td>\n",
       "      <td>42000.0</td>\n",
       "      <td>42000.0</td>\n",
       "      <td>42000.0</td>\n",
       "    </tr>\n",
       "    <tr>\n",
       "      <th>mean</th>\n",
       "      <td>4.456643</td>\n",
       "      <td>0.0</td>\n",
       "      <td>0.0</td>\n",
       "      <td>0.0</td>\n",
       "      <td>0.0</td>\n",
       "      <td>0.0</td>\n",
       "      <td>0.0</td>\n",
       "      <td>0.0</td>\n",
       "      <td>0.0</td>\n",
       "      <td>0.0</td>\n",
       "      <td>...</td>\n",
       "      <td>0.219286</td>\n",
       "      <td>0.117095</td>\n",
       "      <td>0.059024</td>\n",
       "      <td>0.02019</td>\n",
       "      <td>0.017238</td>\n",
       "      <td>0.002857</td>\n",
       "      <td>0.0</td>\n",
       "      <td>0.0</td>\n",
       "      <td>0.0</td>\n",
       "      <td>0.0</td>\n",
       "    </tr>\n",
       "    <tr>\n",
       "      <th>std</th>\n",
       "      <td>2.887730</td>\n",
       "      <td>0.0</td>\n",
       "      <td>0.0</td>\n",
       "      <td>0.0</td>\n",
       "      <td>0.0</td>\n",
       "      <td>0.0</td>\n",
       "      <td>0.0</td>\n",
       "      <td>0.0</td>\n",
       "      <td>0.0</td>\n",
       "      <td>0.0</td>\n",
       "      <td>...</td>\n",
       "      <td>6.312890</td>\n",
       "      <td>4.633819</td>\n",
       "      <td>3.274488</td>\n",
       "      <td>1.75987</td>\n",
       "      <td>1.894498</td>\n",
       "      <td>0.414264</td>\n",
       "      <td>0.0</td>\n",
       "      <td>0.0</td>\n",
       "      <td>0.0</td>\n",
       "      <td>0.0</td>\n",
       "    </tr>\n",
       "    <tr>\n",
       "      <th>min</th>\n",
       "      <td>0.000000</td>\n",
       "      <td>0.0</td>\n",
       "      <td>0.0</td>\n",
       "      <td>0.0</td>\n",
       "      <td>0.0</td>\n",
       "      <td>0.0</td>\n",
       "      <td>0.0</td>\n",
       "      <td>0.0</td>\n",
       "      <td>0.0</td>\n",
       "      <td>0.0</td>\n",
       "      <td>...</td>\n",
       "      <td>0.000000</td>\n",
       "      <td>0.000000</td>\n",
       "      <td>0.000000</td>\n",
       "      <td>0.00000</td>\n",
       "      <td>0.000000</td>\n",
       "      <td>0.000000</td>\n",
       "      <td>0.0</td>\n",
       "      <td>0.0</td>\n",
       "      <td>0.0</td>\n",
       "      <td>0.0</td>\n",
       "    </tr>\n",
       "    <tr>\n",
       "      <th>25%</th>\n",
       "      <td>2.000000</td>\n",
       "      <td>0.0</td>\n",
       "      <td>0.0</td>\n",
       "      <td>0.0</td>\n",
       "      <td>0.0</td>\n",
       "      <td>0.0</td>\n",
       "      <td>0.0</td>\n",
       "      <td>0.0</td>\n",
       "      <td>0.0</td>\n",
       "      <td>0.0</td>\n",
       "      <td>...</td>\n",
       "      <td>0.000000</td>\n",
       "      <td>0.000000</td>\n",
       "      <td>0.000000</td>\n",
       "      <td>0.00000</td>\n",
       "      <td>0.000000</td>\n",
       "      <td>0.000000</td>\n",
       "      <td>0.0</td>\n",
       "      <td>0.0</td>\n",
       "      <td>0.0</td>\n",
       "      <td>0.0</td>\n",
       "    </tr>\n",
       "    <tr>\n",
       "      <th>50%</th>\n",
       "      <td>4.000000</td>\n",
       "      <td>0.0</td>\n",
       "      <td>0.0</td>\n",
       "      <td>0.0</td>\n",
       "      <td>0.0</td>\n",
       "      <td>0.0</td>\n",
       "      <td>0.0</td>\n",
       "      <td>0.0</td>\n",
       "      <td>0.0</td>\n",
       "      <td>0.0</td>\n",
       "      <td>...</td>\n",
       "      <td>0.000000</td>\n",
       "      <td>0.000000</td>\n",
       "      <td>0.000000</td>\n",
       "      <td>0.00000</td>\n",
       "      <td>0.000000</td>\n",
       "      <td>0.000000</td>\n",
       "      <td>0.0</td>\n",
       "      <td>0.0</td>\n",
       "      <td>0.0</td>\n",
       "      <td>0.0</td>\n",
       "    </tr>\n",
       "    <tr>\n",
       "      <th>75%</th>\n",
       "      <td>7.000000</td>\n",
       "      <td>0.0</td>\n",
       "      <td>0.0</td>\n",
       "      <td>0.0</td>\n",
       "      <td>0.0</td>\n",
       "      <td>0.0</td>\n",
       "      <td>0.0</td>\n",
       "      <td>0.0</td>\n",
       "      <td>0.0</td>\n",
       "      <td>0.0</td>\n",
       "      <td>...</td>\n",
       "      <td>0.000000</td>\n",
       "      <td>0.000000</td>\n",
       "      <td>0.000000</td>\n",
       "      <td>0.00000</td>\n",
       "      <td>0.000000</td>\n",
       "      <td>0.000000</td>\n",
       "      <td>0.0</td>\n",
       "      <td>0.0</td>\n",
       "      <td>0.0</td>\n",
       "      <td>0.0</td>\n",
       "    </tr>\n",
       "    <tr>\n",
       "      <th>max</th>\n",
       "      <td>9.000000</td>\n",
       "      <td>0.0</td>\n",
       "      <td>0.0</td>\n",
       "      <td>0.0</td>\n",
       "      <td>0.0</td>\n",
       "      <td>0.0</td>\n",
       "      <td>0.0</td>\n",
       "      <td>0.0</td>\n",
       "      <td>0.0</td>\n",
       "      <td>0.0</td>\n",
       "      <td>...</td>\n",
       "      <td>254.000000</td>\n",
       "      <td>254.000000</td>\n",
       "      <td>253.000000</td>\n",
       "      <td>253.00000</td>\n",
       "      <td>254.000000</td>\n",
       "      <td>62.000000</td>\n",
       "      <td>0.0</td>\n",
       "      <td>0.0</td>\n",
       "      <td>0.0</td>\n",
       "      <td>0.0</td>\n",
       "    </tr>\n",
       "  </tbody>\n",
       "</table>\n",
       "<p>8 rows × 785 columns</p>\n",
       "</div>"
      ],
      "text/plain": [
       "              label   pixel0   pixel1   pixel2   pixel3   pixel4   pixel5  \\\n",
       "count  42000.000000  42000.0  42000.0  42000.0  42000.0  42000.0  42000.0   \n",
       "mean       4.456643      0.0      0.0      0.0      0.0      0.0      0.0   \n",
       "std        2.887730      0.0      0.0      0.0      0.0      0.0      0.0   \n",
       "min        0.000000      0.0      0.0      0.0      0.0      0.0      0.0   \n",
       "25%        2.000000      0.0      0.0      0.0      0.0      0.0      0.0   \n",
       "50%        4.000000      0.0      0.0      0.0      0.0      0.0      0.0   \n",
       "75%        7.000000      0.0      0.0      0.0      0.0      0.0      0.0   \n",
       "max        9.000000      0.0      0.0      0.0      0.0      0.0      0.0   \n",
       "\n",
       "        pixel6   pixel7   pixel8  ...      pixel774      pixel775  \\\n",
       "count  42000.0  42000.0  42000.0  ...  42000.000000  42000.000000   \n",
       "mean       0.0      0.0      0.0  ...      0.219286      0.117095   \n",
       "std        0.0      0.0      0.0  ...      6.312890      4.633819   \n",
       "min        0.0      0.0      0.0  ...      0.000000      0.000000   \n",
       "25%        0.0      0.0      0.0  ...      0.000000      0.000000   \n",
       "50%        0.0      0.0      0.0  ...      0.000000      0.000000   \n",
       "75%        0.0      0.0      0.0  ...      0.000000      0.000000   \n",
       "max        0.0      0.0      0.0  ...    254.000000    254.000000   \n",
       "\n",
       "           pixel776     pixel777      pixel778      pixel779  pixel780  \\\n",
       "count  42000.000000  42000.00000  42000.000000  42000.000000   42000.0   \n",
       "mean       0.059024      0.02019      0.017238      0.002857       0.0   \n",
       "std        3.274488      1.75987      1.894498      0.414264       0.0   \n",
       "min        0.000000      0.00000      0.000000      0.000000       0.0   \n",
       "25%        0.000000      0.00000      0.000000      0.000000       0.0   \n",
       "50%        0.000000      0.00000      0.000000      0.000000       0.0   \n",
       "75%        0.000000      0.00000      0.000000      0.000000       0.0   \n",
       "max      253.000000    253.00000    254.000000     62.000000       0.0   \n",
       "\n",
       "       pixel781  pixel782  pixel783  \n",
       "count   42000.0   42000.0   42000.0  \n",
       "mean        0.0       0.0       0.0  \n",
       "std         0.0       0.0       0.0  \n",
       "min         0.0       0.0       0.0  \n",
       "25%         0.0       0.0       0.0  \n",
       "50%         0.0       0.0       0.0  \n",
       "75%         0.0       0.0       0.0  \n",
       "max         0.0       0.0       0.0  \n",
       "\n",
       "[8 rows x 785 columns]"
      ]
     },
     "execution_count": 10,
     "metadata": {},
     "output_type": "execute_result"
    }
   ],
   "source": [
    "df_train.describe()\n",
    "  \n"
   ]
  },
  {
   "cell_type": "code",
   "execution_count": 11,
   "id": "f34f0499",
   "metadata": {
    "execution": {
     "iopub.execute_input": "2021-11-16T11:13:33.305966Z",
     "iopub.status.busy": "2021-11-16T11:13:33.305261Z",
     "iopub.status.idle": "2021-11-16T11:13:33.624809Z",
     "shell.execute_reply": "2021-11-16T11:13:33.626014Z",
     "shell.execute_reply.started": "2021-11-16T11:08:37.673238Z"
    },
    "papermill": {
     "duration": 0.353576,
     "end_time": "2021-11-16T11:13:33.626300",
     "exception": false,
     "start_time": "2021-11-16T11:13:33.272724",
     "status": "completed"
    },
    "tags": []
   },
   "outputs": [
    {
     "data": {
      "text/plain": [
       "<matplotlib.image.AxesImage at 0x2238d6aeec8>"
      ]
     },
     "execution_count": 11,
     "metadata": {},
     "output_type": "execute_result"
    },
    {
     "data": {
      "image/png": "[encoded data removed]",
      "text/plain": [
       "<Figure size 288x288 with 1 Axes>"
      ]
     },
     "metadata": {
      "needs_background": "light"
     },
     "output_type": "display_data"
    }
   ],
   "source": [
    "\n",
    "plt.matshow(x_test.iloc[[0]].to_numpy().reshape(28,28))"
   ]
  },
  {
   "cell_type": "markdown",
   "id": "dbded4c5",
   "metadata": {
    "papermill": {
     "duration": 0.029938,
     "end_time": "2021-11-16T11:13:33.705827",
     "exception": false,
     "start_time": "2021-11-16T11:13:33.675889",
     "status": "completed"
    },
    "tags": []
   },
   "source": [
    "# Simple Neural Network"
   ]
  },
  {
   "cell_type": "code",
   "execution_count": 12,
   "id": "927fc62b",
   "metadata": {
    "execution": {
     "iopub.execute_input": "2021-11-16T11:13:33.772938Z",
     "iopub.status.busy": "2021-11-16T11:13:33.771939Z",
     "iopub.status.idle": "2021-11-16T11:14:00.981167Z",
     "shell.execute_reply": "2021-11-16T11:14:00.980598Z",
     "shell.execute_reply.started": "2021-11-16T11:08:37.994262Z"
    },
    "papermill": {
     "duration": 27.245471,
     "end_time": "2021-11-16T11:14:00.981307",
     "exception": false,
     "start_time": "2021-11-16T11:13:33.735836",
     "status": "completed"
    },
    "tags": []
   },
   "outputs": [
    {
     "name": "stdout",
     "output_type": "stream",
     "text": [
      "Epoch 1/10\n",
      "1116/1116 [==============================] - 4s 3ms/step - loss: 0.3326 - accuracy: 0.9062\n",
      "Epoch 2/10\n",
      "1116/1116 [==============================] - 3s 3ms/step - loss: 0.1598 - accuracy: 0.9540\n",
      "Epoch 3/10\n",
      "1116/1116 [==============================] - 4s 3ms/step - loss: 0.1136 - accuracy: 0.9662\n",
      "Epoch 4/10\n",
      "1116/1116 [==============================] - 4s 4ms/step - loss: 0.0861 - accuracy: 0.9746\n",
      "Epoch 5/10\n",
      "1116/1116 [==============================] - 4s 4ms/step - loss: 0.0676 - accuracy: 0.9793\n",
      "Epoch 6/10\n",
      "1116/1116 [==============================] - 4s 4ms/step - loss: 0.0538 - accuracy: 0.9840\n",
      "Epoch 7/10\n",
      "1116/1116 [==============================] - 5s 4ms/step - loss: 0.0436 - accuracy: 0.9864\n",
      "Epoch 8/10\n",
      "1116/1116 [==============================] - 4s 4ms/step - loss: 0.0340 - accuracy: 0.9901\n",
      "Epoch 9/10\n",
      "1116/1116 [==============================] - 4s 4ms/step - loss: 0.0281 - accuracy: 0.9920\n",
      "Epoch 10/10\n",
      "1116/1116 [==============================] - 4s 4ms/step - loss: 0.0226 - accuracy: 0.9935\n"
     ]
    },
    {
     "data": {
      "text/plain": [
       "<keras.callbacks.History at 0x2238d06a508>"
      ]
     },
     "execution_count": 12,
     "metadata": {},
     "output_type": "execute_result"
    }
   ],
   "source": [
    "# Define sequential Network\n",
    "model =keras.Sequential([\n",
    "    keras.layers.Dense(100, input_shape=(784,), activation='relu'),\n",
    "    keras.layers.Dense(10,activation='softmax')\n",
    "])\n",
    "model.compile(\n",
    "optimizer='adam',\n",
    "loss= 'sparse_categorical_crossentropy',\n",
    "metrics=['accuracy']\n",
    ")\n",
    "model.fit(x_train,y_train, epochs=10)\n"
   ]
  },
  {
   "cell_type": "markdown",
   "id": "648ca4c1",
   "metadata": {
    "papermill": {
     "duration": 0.195161,
     "end_time": "2021-11-16T11:14:01.437383",
     "exception": false,
     "start_time": "2021-11-16T11:14:01.242222",
     "status": "completed"
    },
    "tags": []
   },
   "source": [
    "# Evaluate the model"
   ]
  },
  {
   "cell_type": "code",
   "execution_count": 13,
   "id": "10c29e8f",
   "metadata": {
    "execution": {
     "iopub.execute_input": "2021-11-16T11:14:01.843867Z",
     "iopub.status.busy": "2021-11-16T11:14:01.842588Z",
     "iopub.status.idle": "2021-11-16T11:14:02.483472Z",
     "shell.execute_reply": "2021-11-16T11:14:02.484050Z",
     "shell.execute_reply.started": "2021-11-16T11:09:09.754489Z"
    },
    "papermill": {
     "duration": 0.850689,
     "end_time": "2021-11-16T11:14:02.484282",
     "exception": false,
     "start_time": "2021-11-16T11:14:01.633593",
     "status": "completed"
    },
    "tags": []
   },
   "outputs": [
    {
     "name": "stdout",
     "output_type": "stream",
     "text": [
      "The accuracy of the current simple NN is \n",
      "#################\n",
      "197/197 [==============================] - 1s 4ms/step - loss: 0.1202 - accuracy: 0.9662\n",
      "0.9661904573440552\n"
     ]
    }
   ],
   "source": [
    "print ('The accuracy of the current simple NN is ')\n",
    "print ('#################')\n",
    "print (model.evaluate(x_test, y_test)[1])"
   ]
  },
  {
   "cell_type": "markdown",
   "id": "1079f43b",
   "metadata": {
    "papermill": {
     "duration": 0.206474,
     "end_time": "2021-11-16T11:14:02.896684",
     "exception": false,
     "start_time": "2021-11-16T11:14:02.690210",
     "status": "completed"
    },
    "tags": []
   },
   "source": [
    "# Use the model to predict the validation test"
   ]
  },
  {
   "cell_type": "code",
   "execution_count": 14,
   "id": "673d14fc",
   "metadata": {
    "execution": {
     "iopub.execute_input": "2021-11-16T11:14:03.284582Z",
     "iopub.status.busy": "2021-11-16T11:14:03.281778Z",
     "iopub.status.idle": "2021-11-16T11:14:03.661524Z",
     "shell.execute_reply": "2021-11-16T11:14:03.662071Z",
     "shell.execute_reply.started": "2021-11-16T11:09:10.535879Z"
    },
    "papermill": {
     "duration": 0.56983,
     "end_time": "2021-11-16T11:14:03.662247",
     "exception": false,
     "start_time": "2021-11-16T11:14:03.092417",
     "status": "completed"
    },
    "tags": []
   },
   "outputs": [],
   "source": [
    "y_pred=model.predict(x_test) # Here the prediction are probability matrix between 0 and 9.\n"
   ]
  },
  {
   "cell_type": "code",
   "execution_count": 15,
   "id": "c1a3cf64",
   "metadata": {
    "execution": {
     "iopub.execute_input": "2021-11-16T11:14:04.046998Z",
     "iopub.status.busy": "2021-11-16T11:14:04.046260Z",
     "iopub.status.idle": "2021-11-16T11:14:04.069855Z",
     "shell.execute_reply": "2021-11-16T11:14:04.070443Z",
     "shell.execute_reply.started": "2021-11-16T11:09:10.937303Z"
    },
    "papermill": {
     "duration": 0.219221,
     "end_time": "2021-11-16T11:14:04.070620",
     "exception": false,
     "start_time": "2021-11-16T11:14:03.851399",
     "status": "completed"
    },
    "tags": []
   },
   "outputs": [],
   "source": [
    "y_pred_argmax= [np.argmax(i) for i in y_pred] # Reducing the probability to labels with max prob"
   ]
  },
  {
   "cell_type": "markdown",
   "id": "50d6820e",
   "metadata": {
    "papermill": {
     "duration": 0.190045,
     "end_time": "2021-11-16T11:14:04.448093",
     "exception": false,
     "start_time": "2021-11-16T11:14:04.258048",
     "status": "completed"
    },
    "tags": []
   },
   "source": [
    "# Confusion matrix"
   ]
  },
  {
   "cell_type": "code",
   "execution_count": 16,
   "id": "c8a338ef",
   "metadata": {
    "execution": {
     "iopub.execute_input": "2021-11-16T11:14:04.835641Z",
     "iopub.status.busy": "2021-11-16T11:14:04.834863Z",
     "iopub.status.idle": "2021-11-16T11:14:04.864163Z",
     "shell.execute_reply": "2021-11-16T11:14:04.864723Z",
     "shell.execute_reply.started": "2021-11-16T11:09:10.958459Z"
    },
    "papermill": {
     "duration": 0.222423,
     "end_time": "2021-11-16T11:14:04.864941",
     "exception": false,
     "start_time": "2021-11-16T11:14:04.642518",
     "status": "completed"
    },
    "tags": []
   },
   "outputs": [],
   "source": [
    "CM= tf.math.confusion_matrix(\n",
    "    labels=y_test, predictions=y_pred_argmax,\n",
    ")"
   ]
  },
  {
   "cell_type": "markdown",
   "id": "cb4fac45",
   "metadata": {
    "papermill": {
     "duration": 0.187133,
     "end_time": "2021-11-16T11:14:05.240112",
     "exception": false,
     "start_time": "2021-11-16T11:14:05.052979",
     "status": "completed"
    },
    "tags": []
   },
   "source": [
    "# SEABORN HEATMAP FOR CONFUSION MATRIX"
   ]
  },
  {
   "cell_type": "code",
   "execution_count": 17,
   "id": "26458599",
   "metadata": {
    "execution": {
     "iopub.execute_input": "2021-11-16T11:14:05.620856Z",
     "iopub.status.busy": "2021-11-16T11:14:05.620033Z",
     "iopub.status.idle": "2021-11-16T11:14:06.769239Z",
     "shell.execute_reply": "2021-11-16T11:14:06.768571Z",
     "shell.execute_reply.started": "2021-11-16T11:09:10.987320Z"
    },
    "papermill": {
     "duration": 1.342613,
     "end_time": "2021-11-16T11:14:06.769398",
     "exception": false,
     "start_time": "2021-11-16T11:14:05.426785",
     "status": "completed"
    },
    "tags": []
   },
   "outputs": [
    {
     "data": {
      "text/plain": [
       "Text(62.5, 0.5, 'Truth')"
      ]
     },
     "execution_count": 17,
     "metadata": {},
     "output_type": "execute_result"
    },
    {
     "data": {
      "image/png": "[encoded data removed]",
      "text/plain": [
       "<Figure size 720x504 with 2 Axes>"
      ]
     },
     "metadata": {
      "needs_background": "light"
     },
     "output_type": "display_data"
    }
   ],
   "source": [
    "import seaborn as sn\n",
    "plt.figure(figsize=(10,7))\n",
    "sn.set(font_scale=1.4) # for label size\n",
    "sn.heatmap (CM, annot=True, fmt='d')\n",
    "plt.xlabel('Predicted')\n",
    "plt.ylabel('Truth')"
   ]
  },
  {
   "cell_type": "markdown",
   "id": "03cc27c7",
   "metadata": {
    "papermill": {
     "duration": 0.193791,
     "end_time": "2021-11-16T11:14:07.152919",
     "exception": false,
     "start_time": "2021-11-16T11:14:06.959128",
     "status": "completed"
    },
    "tags": []
   },
   "source": [
    "# Deploying the model on actual test dataset"
   ]
  },
  {
   "cell_type": "code",
   "execution_count": 18,
   "id": "3bf2731f",
   "metadata": {
    "execution": {
     "iopub.execute_input": "2021-11-16T11:14:07.561828Z",
     "iopub.status.busy": "2021-11-16T11:14:07.550859Z",
     "iopub.status.idle": "2021-11-16T11:14:07.589670Z",
     "shell.execute_reply": "2021-11-16T11:14:07.588978Z",
     "shell.execute_reply.started": "2021-11-16T11:09:12.104753Z"
    },
    "papermill": {
     "duration": 0.243601,
     "end_time": "2021-11-16T11:14:07.589823",
     "exception": false,
     "start_time": "2021-11-16T11:14:07.346222",
     "status": "completed"
    },
    "tags": []
   },
   "outputs": [],
   "source": [
    "# Scale the test input by dividing the values by 255\n",
    "df_test_scaled= df_test.div(255) ## Scaling the inputs "
   ]
  },
  {
   "cell_type": "code",
   "execution_count": 19,
   "id": "c6daf1a2",
   "metadata": {
    "execution": {
     "iopub.execute_input": "2021-11-16T11:14:07.975098Z",
     "iopub.status.busy": "2021-11-16T11:14:07.974404Z",
     "iopub.status.idle": "2021-11-16T11:14:09.972640Z",
     "shell.execute_reply": "2021-11-16T11:14:09.973170Z",
     "shell.execute_reply.started": "2021-11-16T11:09:12.155451Z"
    },
    "papermill": {
     "duration": 2.19343,
     "end_time": "2021-11-16T11:14:09.973362",
     "exception": false,
     "start_time": "2021-11-16T11:14:07.779932",
     "status": "completed"
    },
    "tags": []
   },
   "outputs": [
    {
     "data": {
      "text/html": [
       "<div>\n",
       "<style scoped>\n",
       "    .dataframe tbody tr th:only-of-type {\n",
       "        vertical-align: middle;\n",
       "    }\n",
       "\n",
       "    .dataframe tbody tr th {\n",
       "        vertical-align: top;\n",
       "    }\n",
       "\n",
       "    .dataframe thead th {\n",
       "        text-align: right;\n",
       "    }\n",
       "</style>\n",
       "<table border=\"1\" class=\"dataframe\">\n",
       "  <thead>\n",
       "    <tr style=\"text-align: right;\">\n",
       "      <th></th>\n",
       "      <th>pixel0</th>\n",
       "      <th>pixel1</th>\n",
       "      <th>pixel2</th>\n",
       "      <th>pixel3</th>\n",
       "      <th>pixel4</th>\n",
       "      <th>pixel5</th>\n",
       "      <th>pixel6</th>\n",
       "      <th>pixel7</th>\n",
       "      <th>pixel8</th>\n",
       "      <th>pixel9</th>\n",
       "      <th>...</th>\n",
       "      <th>pixel774</th>\n",
       "      <th>pixel775</th>\n",
       "      <th>pixel776</th>\n",
       "      <th>pixel777</th>\n",
       "      <th>pixel778</th>\n",
       "      <th>pixel779</th>\n",
       "      <th>pixel780</th>\n",
       "      <th>pixel781</th>\n",
       "      <th>pixel782</th>\n",
       "      <th>pixel783</th>\n",
       "    </tr>\n",
       "  </thead>\n",
       "  <tbody>\n",
       "    <tr>\n",
       "      <th>count</th>\n",
       "      <td>28000.0</td>\n",
       "      <td>28000.0</td>\n",
       "      <td>28000.0</td>\n",
       "      <td>28000.0</td>\n",
       "      <td>28000.0</td>\n",
       "      <td>28000.0</td>\n",
       "      <td>28000.0</td>\n",
       "      <td>28000.0</td>\n",
       "      <td>28000.0</td>\n",
       "      <td>28000.0</td>\n",
       "      <td>...</td>\n",
       "      <td>28000.000000</td>\n",
       "      <td>28000.000000</td>\n",
       "      <td>28000.000000</td>\n",
       "      <td>28000.000000</td>\n",
       "      <td>28000.000000</td>\n",
       "      <td>28000.0</td>\n",
       "      <td>28000.0</td>\n",
       "      <td>28000.0</td>\n",
       "      <td>28000.0</td>\n",
       "      <td>28000.0</td>\n",
       "    </tr>\n",
       "    <tr>\n",
       "      <th>mean</th>\n",
       "      <td>0.0</td>\n",
       "      <td>0.0</td>\n",
       "      <td>0.0</td>\n",
       "      <td>0.0</td>\n",
       "      <td>0.0</td>\n",
       "      <td>0.0</td>\n",
       "      <td>0.0</td>\n",
       "      <td>0.0</td>\n",
       "      <td>0.0</td>\n",
       "      <td>0.0</td>\n",
       "      <td>...</td>\n",
       "      <td>0.000646</td>\n",
       "      <td>0.000287</td>\n",
       "      <td>0.000110</td>\n",
       "      <td>0.000044</td>\n",
       "      <td>0.000026</td>\n",
       "      <td>0.0</td>\n",
       "      <td>0.0</td>\n",
       "      <td>0.0</td>\n",
       "      <td>0.0</td>\n",
       "      <td>0.0</td>\n",
       "    </tr>\n",
       "    <tr>\n",
       "      <th>std</th>\n",
       "      <td>0.0</td>\n",
       "      <td>0.0</td>\n",
       "      <td>0.0</td>\n",
       "      <td>0.0</td>\n",
       "      <td>0.0</td>\n",
       "      <td>0.0</td>\n",
       "      <td>0.0</td>\n",
       "      <td>0.0</td>\n",
       "      <td>0.0</td>\n",
       "      <td>0.0</td>\n",
       "      <td>...</td>\n",
       "      <td>0.021464</td>\n",
       "      <td>0.014184</td>\n",
       "      <td>0.007112</td>\n",
       "      <td>0.004726</td>\n",
       "      <td>0.003167</td>\n",
       "      <td>0.0</td>\n",
       "      <td>0.0</td>\n",
       "      <td>0.0</td>\n",
       "      <td>0.0</td>\n",
       "      <td>0.0</td>\n",
       "    </tr>\n",
       "    <tr>\n",
       "      <th>min</th>\n",
       "      <td>0.0</td>\n",
       "      <td>0.0</td>\n",
       "      <td>0.0</td>\n",
       "      <td>0.0</td>\n",
       "      <td>0.0</td>\n",
       "      <td>0.0</td>\n",
       "      <td>0.0</td>\n",
       "      <td>0.0</td>\n",
       "      <td>0.0</td>\n",
       "      <td>0.0</td>\n",
       "      <td>...</td>\n",
       "      <td>0.000000</td>\n",
       "      <td>0.000000</td>\n",
       "      <td>0.000000</td>\n",
       "      <td>0.000000</td>\n",
       "      <td>0.000000</td>\n",
       "      <td>0.0</td>\n",
       "      <td>0.0</td>\n",
       "      <td>0.0</td>\n",
       "      <td>0.0</td>\n",
       "      <td>0.0</td>\n",
       "    </tr>\n",
       "    <tr>\n",
       "      <th>25%</th>\n",
       "      <td>0.0</td>\n",
       "      <td>0.0</td>\n",
       "      <td>0.0</td>\n",
       "      <td>0.0</td>\n",
       "      <td>0.0</td>\n",
       "      <td>0.0</td>\n",
       "      <td>0.0</td>\n",
       "      <td>0.0</td>\n",
       "      <td>0.0</td>\n",
       "      <td>0.0</td>\n",
       "      <td>...</td>\n",
       "      <td>0.000000</td>\n",
       "      <td>0.000000</td>\n",
       "      <td>0.000000</td>\n",
       "      <td>0.000000</td>\n",
       "      <td>0.000000</td>\n",
       "      <td>0.0</td>\n",
       "      <td>0.0</td>\n",
       "      <td>0.0</td>\n",
       "      <td>0.0</td>\n",
       "      <td>0.0</td>\n",
       "    </tr>\n",
       "    <tr>\n",
       "      <th>50%</th>\n",
       "      <td>0.0</td>\n",
       "      <td>0.0</td>\n",
       "      <td>0.0</td>\n",
       "      <td>0.0</td>\n",
       "      <td>0.0</td>\n",
       "      <td>0.0</td>\n",
       "      <td>0.0</td>\n",
       "      <td>0.0</td>\n",
       "      <td>0.0</td>\n",
       "      <td>0.0</td>\n",
       "      <td>...</td>\n",
       "      <td>0.000000</td>\n",
       "      <td>0.000000</td>\n",
       "      <td>0.000000</td>\n",
       "      <td>0.000000</td>\n",
       "      <td>0.000000</td>\n",
       "      <td>0.0</td>\n",
       "      <td>0.0</td>\n",
       "      <td>0.0</td>\n",
       "      <td>0.0</td>\n",
       "      <td>0.0</td>\n",
       "    </tr>\n",
       "    <tr>\n",
       "      <th>75%</th>\n",
       "      <td>0.0</td>\n",
       "      <td>0.0</td>\n",
       "      <td>0.0</td>\n",
       "      <td>0.0</td>\n",
       "      <td>0.0</td>\n",
       "      <td>0.0</td>\n",
       "      <td>0.0</td>\n",
       "      <td>0.0</td>\n",
       "      <td>0.0</td>\n",
       "      <td>0.0</td>\n",
       "      <td>...</td>\n",
       "      <td>0.000000</td>\n",
       "      <td>0.000000</td>\n",
       "      <td>0.000000</td>\n",
       "      <td>0.000000</td>\n",
       "      <td>0.000000</td>\n",
       "      <td>0.0</td>\n",
       "      <td>0.0</td>\n",
       "      <td>0.0</td>\n",
       "      <td>0.0</td>\n",
       "      <td>0.0</td>\n",
       "    </tr>\n",
       "    <tr>\n",
       "      <th>max</th>\n",
       "      <td>0.0</td>\n",
       "      <td>0.0</td>\n",
       "      <td>0.0</td>\n",
       "      <td>0.0</td>\n",
       "      <td>0.0</td>\n",
       "      <td>0.0</td>\n",
       "      <td>0.0</td>\n",
       "      <td>0.0</td>\n",
       "      <td>0.0</td>\n",
       "      <td>0.0</td>\n",
       "      <td>...</td>\n",
       "      <td>0.992157</td>\n",
       "      <td>0.996078</td>\n",
       "      <td>0.756863</td>\n",
       "      <td>0.733333</td>\n",
       "      <td>0.466667</td>\n",
       "      <td>0.0</td>\n",
       "      <td>0.0</td>\n",
       "      <td>0.0</td>\n",
       "      <td>0.0</td>\n",
       "      <td>0.0</td>\n",
       "    </tr>\n",
       "  </tbody>\n",
       "</table>\n",
       "<p>8 rows × 784 columns</p>\n",
       "</div>"
      ],
      "text/plain": [
       "        pixel0   pixel1   pixel2   pixel3   pixel4   pixel5   pixel6   pixel7  \\\n",
       "count  28000.0  28000.0  28000.0  28000.0  28000.0  28000.0  28000.0  28000.0   \n",
       "mean       0.0      0.0      0.0      0.0      0.0      0.0      0.0      0.0   \n",
       "std        0.0      0.0      0.0      0.0      0.0      0.0      0.0      0.0   \n",
       "min        0.0      0.0      0.0      0.0      0.0      0.0      0.0      0.0   \n",
       "25%        0.0      0.0      0.0      0.0      0.0      0.0      0.0      0.0   \n",
       "50%        0.0      0.0      0.0      0.0      0.0      0.0      0.0      0.0   \n",
       "75%        0.0      0.0      0.0      0.0      0.0      0.0      0.0      0.0   \n",
       "max        0.0      0.0      0.0      0.0      0.0      0.0      0.0      0.0   \n",
       "\n",
       "        pixel8   pixel9  ...      pixel774      pixel775      pixel776  \\\n",
       "count  28000.0  28000.0  ...  28000.000000  28000.000000  28000.000000   \n",
       "mean       0.0      0.0  ...      0.000646      0.000287      0.000110   \n",
       "std        0.0      0.0  ...      0.021464      0.014184      0.007112   \n",
       "min        0.0      0.0  ...      0.000000      0.000000      0.000000   \n",
       "25%        0.0      0.0  ...      0.000000      0.000000      0.000000   \n",
       "50%        0.0      0.0  ...      0.000000      0.000000      0.000000   \n",
       "75%        0.0      0.0  ...      0.000000      0.000000      0.000000   \n",
       "max        0.0      0.0  ...      0.992157      0.996078      0.756863   \n",
       "\n",
       "           pixel777      pixel778  pixel779  pixel780  pixel781  pixel782  \\\n",
       "count  28000.000000  28000.000000   28000.0   28000.0   28000.0   28000.0   \n",
       "mean       0.000044      0.000026       0.0       0.0       0.0       0.0   \n",
       "std        0.004726      0.003167       0.0       0.0       0.0       0.0   \n",
       "min        0.000000      0.000000       0.0       0.0       0.0       0.0   \n",
       "25%        0.000000      0.000000       0.0       0.0       0.0       0.0   \n",
       "50%        0.000000      0.000000       0.0       0.0       0.0       0.0   \n",
       "75%        0.000000      0.000000       0.0       0.0       0.0       0.0   \n",
       "max        0.733333      0.466667       0.0       0.0       0.0       0.0   \n",
       "\n",
       "       pixel783  \n",
       "count   28000.0  \n",
       "mean        0.0  \n",
       "std         0.0  \n",
       "min         0.0  \n",
       "25%         0.0  \n",
       "50%         0.0  \n",
       "75%         0.0  \n",
       "max         0.0  \n",
       "\n",
       "[8 rows x 784 columns]"
      ]
     },
     "execution_count": 19,
     "metadata": {},
     "output_type": "execute_result"
    }
   ],
   "source": [
    "df_test_scaled.describe()"
   ]
  },
  {
   "cell_type": "code",
   "execution_count": 20,
   "id": "a898dd20",
   "metadata": {
    "execution": {
     "iopub.execute_input": "2021-11-16T11:14:10.361015Z",
     "iopub.status.busy": "2021-11-16T11:14:10.360381Z",
     "iopub.status.idle": "2021-11-16T11:14:11.995500Z",
     "shell.execute_reply": "2021-11-16T11:14:11.994855Z",
     "shell.execute_reply.started": "2021-11-16T11:09:14.334710Z"
    },
    "papermill": {
     "duration": 1.829999,
     "end_time": "2021-11-16T11:14:11.995655",
     "exception": false,
     "start_time": "2021-11-16T11:14:10.165656",
     "status": "completed"
    },
    "tags": []
   },
   "outputs": [],
   "source": [
    "pred_test=model.predict(df_test_scaled)\n",
    "pred_label_test= [np.argmax(i) for i in pred_test] # Reducing the probability to labels with max prob\n"
   ]
  },
  {
   "cell_type": "code",
   "execution_count": 21,
   "id": "392fd926",
   "metadata": {
    "execution": {
     "iopub.execute_input": "2021-11-16T11:14:12.381741Z",
     "iopub.status.busy": "2021-11-16T11:14:12.380711Z",
     "iopub.status.idle": "2021-11-16T11:14:12.384701Z",
     "shell.execute_reply": "2021-11-16T11:14:12.385301Z",
     "shell.execute_reply.started": "2021-11-16T11:09:16.233775Z"
    },
    "papermill": {
     "duration": 0.197944,
     "end_time": "2021-11-16T11:14:12.385499",
     "exception": false,
     "start_time": "2021-11-16T11:14:12.187555",
     "status": "completed"
    },
    "tags": []
   },
   "outputs": [],
   "source": [
    "len (pred_test)\n",
    "image_id = range(1, len(pred_label_test)+1)"
   ]
  },
  {
   "cell_type": "code",
   "execution_count": 22,
   "id": "d794dae8",
   "metadata": {
    "execution": {
     "iopub.execute_input": "2021-11-16T11:14:12.773164Z",
     "iopub.status.busy": "2021-11-16T11:14:12.772310Z",
     "iopub.status.idle": "2021-11-16T11:14:12.776644Z",
     "shell.execute_reply": "2021-11-16T11:14:12.775991Z",
     "shell.execute_reply.started": "2021-11-16T11:09:16.240237Z"
    },
    "papermill": {
     "duration": 0.200144,
     "end_time": "2021-11-16T11:14:12.776783",
     "exception": false,
     "start_time": "2021-11-16T11:14:12.576639",
     "status": "completed"
    },
    "tags": []
   },
   "outputs": [
    {
     "data": {
      "text/plain": [
       "28000"
      ]
     },
     "execution_count": 22,
     "metadata": {},
     "output_type": "execute_result"
    }
   ],
   "source": [
    "image_id[-1]"
   ]
  },
  {
   "cell_type": "markdown",
   "id": "879c410c",
   "metadata": {
    "papermill": {
     "duration": 0.19138,
     "end_time": "2021-11-16T11:14:13.161074",
     "exception": false,
     "start_time": "2021-11-16T11:14:12.969694",
     "status": "completed"
    },
    "tags": []
   },
   "source": [
    "# Output submission file"
   ]
  },
  {
   "cell_type": "code",
   "execution_count": null,
   "id": "59e9a7c4",
   "metadata": {
    "execution": {
     "iopub.execute_input": "2021-11-16T11:14:13.568914Z",
     "iopub.status.busy": "2021-11-16T11:14:13.567926Z",
     "iopub.status.idle": "2021-11-16T11:14:13.623939Z",
     "shell.execute_reply": "2021-11-16T11:14:13.623221Z",
     "shell.execute_reply.started": "2021-11-16T11:09:16.257311Z"
    },
    "papermill": {
     "duration": 0.272607,
     "end_time": "2021-11-16T11:14:13.624092",
     "exception": false,
     "start_time": "2021-11-16T11:14:13.351485",
     "status": "completed"
    },
    "tags": []
   },
   "outputs": [],
   "source": [
    "image_id = range(1, len (pred_label_test)+1)\n",
    "\n",
    "submission = pd.DataFrame({'ImageId': image_id, 'Label': pred_label_test})\n",
    "\n",
    "submission.to_csv('digit_recognizer_submission', index=False)"
   ]
  },
  {
   "cell_type": "code",
   "execution_count": null,
   "id": "a69260a0",
   "metadata": {
    "execution": {
     "iopub.execute_input": "2021-11-16T11:14:14.023439Z",
     "iopub.status.busy": "2021-11-16T11:14:14.022484Z",
     "iopub.status.idle": "2021-11-16T11:14:14.025998Z",
     "shell.execute_reply": "2021-11-16T11:14:14.026515Z",
     "shell.execute_reply.started": "2021-11-16T11:09:16.311186Z"
    },
    "papermill": {
     "duration": 0.210147,
     "end_time": "2021-11-16T11:14:14.026694",
     "exception": false,
     "start_time": "2021-11-16T11:14:13.816547",
     "status": "completed"
    },
    "tags": []
   },
   "outputs": [],
   "source": [
    "submission.head()"
   ]
  },
  {
   "cell_type": "code",
   "execution_count": null,
   "id": "fc4fb854",
   "metadata": {
    "execution": {
     "iopub.execute_input": "2021-11-16T11:09:16.323699Z",
     "iopub.status.busy": "2021-11-16T11:09:16.323434Z",
     "iopub.status.idle": "2021-11-16T11:09:16.337207Z",
     "shell.execute_reply": "2021-11-16T11:09:16.335907Z",
     "shell.execute_reply.started": "2021-11-16T11:09:16.323668Z"
    },
    "papermill": {
     "duration": 0.194957,
     "end_time": "2021-11-16T11:14:14.415282",
     "exception": false,
     "start_time": "2021-11-16T11:14:14.220325",
     "status": "completed"
    },
    "tags": []
   },
   "outputs": [],
   "source": []
  },
  {
   "cell_type": "markdown",
   "id": "9ae99f94",
   "metadata": {
    "papermill": {
     "duration": 0.196602,
     "end_time": "2021-11-16T11:14:14.804996",
     "exception": false,
     "start_time": "2021-11-16T11:14:14.608394",
     "status": "completed"
    },
    "tags": []
   },
   "source": []
  },
  {
   "cell_type": "markdown",
   "id": "003075c3",
   "metadata": {
    "papermill": {
     "duration": 0.194707,
     "end_time": "2021-11-16T11:14:15.193463",
     "exception": false,
     "start_time": "2021-11-16T11:14:14.998756",
     "status": "completed"
    },
    "tags": []
   },
   "source": []
  },
  {
   "cell_type": "markdown",
   "id": "f06801d4",
   "metadata": {
    "papermill": {
     "duration": 0.192761,
     "end_time": "2021-11-16T11:14:15.581934",
     "exception": false,
     "start_time": "2021-11-16T11:14:15.389173",
     "status": "completed"
    },
    "tags": []
   },
   "source": []
  }
 ],
 "metadata": {
  "kernelspec": {
   "display_name": "Python 3 (ipykernel)",
   "language": "python",
   "name": "python3"
  },
  "language_info": {
   "codemirror_mode": {
    "name": "ipython",
    "version": 3
   },
   "file_extension": ".py",
   "mimetype": "text/x-python",
   "name": "python",
   "nbconvert_exporter": "python",
   "pygments_lexer": "ipython3",
   "version": "3.7.11"
  },
  "papermill": {
   "default_parameters": {},
   "duration": 72.870259,
   "end_time": "2021-11-16T11:14:19.117130",
   "environment_variables": {},
   "exception": null,
   "input_path": "__notebook__.ipynb",
   "output_path": "__notebook__.ipynb",
   "parameters": {},
   "start_time": "2021-11-16T11:13:06.246871",
   "version": "2.3.3"
  }
 },
 "nbformat": 4,
 "nbformat_minor": 5
}
